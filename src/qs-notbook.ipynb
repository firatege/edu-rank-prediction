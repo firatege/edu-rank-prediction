{
 "cells": [
  {
   "cell_type": "code",
   "id": "initial_id",
   "metadata": {
    "collapsed": true,
    "ExecuteTime": {
     "end_time": "2024-12-19T11:39:11.664495Z",
     "start_time": "2024-12-19T11:39:11.465880Z"
    }
   },
   "source": [
    "import numpy as np\n",
    "import matplotlib.pyplot as plt\n",
    "import pandas as pd\n",
    "import seaborn as sns\n",
    "from sklearn.model_selection import train_test_split\n"
   ],
   "outputs": [],
   "execution_count": 1
  },
  {
   "metadata": {
    "ExecuteTime": {
     "end_time": "2024-12-19T11:39:12.282474Z",
     "start_time": "2024-12-19T11:39:11.674777Z"
    }
   },
   "cell_type": "code",
   "source": [
    "# Load the data\n",
    "data = pd.read_excel('../data/2025 QS World University Rankings 2.2 (For qs.com).xlsx')"
   ],
   "id": "d88f7d82315ad302",
   "outputs": [],
   "execution_count": 2
  },
  {
   "metadata": {
    "ExecuteTime": {
     "end_time": "2024-12-19T11:39:12.609447Z",
     "start_time": "2024-12-19T11:39:12.601976Z"
    }
   },
   "cell_type": "code",
   "source": "data.drop(columns=['Unnamed: 0','Unnamed: 2','Unnamed: 11','Unnamed: 13','Unnamed: 15','Unnamed: 17','Unnamed: 19','Unnamed: 21','Unnamed: 23','Unnamed: 25','Unnamed: 27'],inplace=True)",
   "id": "cd62fd6dff85cc30",
   "outputs": [],
   "execution_count": 3
  },
  {
   "metadata": {
    "ExecuteTime": {
     "end_time": "2024-12-19T11:39:12.671641Z",
     "start_time": "2024-12-19T11:39:12.668634Z"
    }
   },
   "cell_type": "code",
   "source": "data.columns = data.iloc[0]",
   "id": "603afb424f8cb45a",
   "outputs": [],
   "execution_count": 4
  },
  {
   "metadata": {
    "ExecuteTime": {
     "end_time": "2024-12-19T11:39:12.685456Z",
     "start_time": "2024-12-19T11:39:12.681349Z"
    }
   },
   "cell_type": "code",
   "source": "data.drop(index=0,inplace=True)",
   "id": "c47fe23a7f559b79",
   "outputs": [],
   "execution_count": 5
  },
  {
   "metadata": {
    "ExecuteTime": {
     "end_time": "2024-12-19T11:39:12.698776Z",
     "start_time": "2024-12-19T11:39:12.696538Z"
    }
   },
   "cell_type": "code",
   "source": "",
   "id": "42130c7dca05501b",
   "outputs": [],
   "execution_count": null
  },
  {
   "metadata": {
    "ExecuteTime": {
     "end_time": "2024-12-19T11:39:12.715880Z",
     "start_time": "2024-12-19T11:39:12.710743Z"
    }
   },
   "cell_type": "code",
   "source": "data.columns = ['Rank', 'Institution', 'Location', 'Region', 'Size', 'Focus', 'Research', 'status'] + list(data.columns[8:])",
   "id": "d734fcaa23299a65",
   "outputs": [],
   "execution_count": 6
  },
  {
   "metadata": {
    "ExecuteTime": {
     "end_time": "2024-12-19T11:39:12.734339Z",
     "start_time": "2024-12-19T11:39:12.728346Z"
    }
   },
   "cell_type": "code",
   "source": "data.drop(index=[1,2],inplace=True)",
   "id": "2f414565180012e5",
   "outputs": [],
   "execution_count": 7
  },
  {
   "metadata": {
    "ExecuteTime": {
     "end_time": "2024-12-19T11:39:12.749890Z",
     "start_time": "2024-12-19T11:39:12.746887Z"
    }
   },
   "cell_type": "code",
   "source": "data.reset_index(drop=True,inplace=True)",
   "id": "402100bb0cc1a091",
   "outputs": [],
   "execution_count": 8
  },
  {
   "metadata": {
    "ExecuteTime": {
     "end_time": "2024-12-19T11:39:12.783721Z",
     "start_time": "2024-12-19T11:39:12.767336Z"
    }
   },
   "cell_type": "code",
   "source": "data",
   "id": "178069437782c8e7",
   "outputs": [
    {
     "data": {
      "text/plain": [
       "       Rank                                   Institution        Location  \\\n",
       "0         1  Massachusetts Institute of Technology (MIT)    United States   \n",
       "1         2                       Imperial College London  United Kingdom   \n",
       "2         3                          University of Oxford  United Kingdom   \n",
       "3         4                            Harvard University   United States   \n",
       "4         5                       University of Cambridge  United Kingdom   \n",
       "...     ...                                           ...             ...   \n",
       "1498  1401+               University of Montana Missoula    United States   \n",
       "1499  1401+                          University of Oradea         Romania   \n",
       "1500  1401+                      University of San Carlos     Philippines   \n",
       "1501  1401+      University Politehnica of Timisoara, UPT         Romania   \n",
       "1502  1401+                 Western Washington University   United States   \n",
       "\n",
       "        Region Size Focus Research status Academic Reputation  \\\n",
       "0     Americas    M    CO       VH      B                 100   \n",
       "1       Europe    L    FC       VH      A                98.5   \n",
       "2       Europe    L    FC       VH      A                 100   \n",
       "3     Americas    L    FC       VH      B                 100   \n",
       "4       Europe    L    FC       VH      A                 100   \n",
       "...        ...  ...   ...      ...    ...                 ...   \n",
       "1498  Americas    M    CO       HI      A                   3   \n",
       "1499    Europe    L    FC       MD      A                 5.6   \n",
       "1500      Asia    M    CO       MD      C                 7.2   \n",
       "1501    Europe    L    FO       VH      A                 4.1   \n",
       "1502  Americas    L    CO       HI    NaN                 2.6   \n",
       "\n",
       "     Employer Reputation Faculty Student Citations per Faculty  \\\n",
       "0                    100             100                   100   \n",
       "1                   99.5            98.2                  93.9   \n",
       "2                    100             100                  84.8   \n",
       "3                    100            96.3                   100   \n",
       "4                    100             100                  84.6   \n",
       "...                  ...             ...                   ...   \n",
       "1498                 2.2            10.6                   6.1   \n",
       "1499                 2.2               4                   1.9   \n",
       "1500                 9.4             3.3                   1.8   \n",
       "1501                 4.2             7.2                   3.9   \n",
       "1502                 2.6             7.3                   3.5   \n",
       "\n",
       "     International Faculty International Students  \\\n",
       "0                     99.3                   86.8   \n",
       "1                      100                   99.6   \n",
       "2                     98.1                   97.7   \n",
       "3                     74.1                     69   \n",
       "4                      100                   94.8   \n",
       "...                    ...                    ...   \n",
       "1498                   1.3                    1.9   \n",
       "1499                   1.5                    5.2   \n",
       "1500                   2.1                    2.1   \n",
       "1501                   1.4                    2.5   \n",
       "1502                   9.7                    1.6   \n",
       "\n",
       "     International Research Network Employment Outcomes Sustainability Overall  \n",
       "0                                96                 100             99     100  \n",
       "1                              97.4                93.4           99.7    98.5  \n",
       "2                               100                 100             85    96.9  \n",
       "3                              99.6                 100           84.4    96.8  \n",
       "4                              99.3                 100           84.8    96.7  \n",
       "...                             ...                 ...            ...     ...  \n",
       "1498                            6.5                 3.1              1       -  \n",
       "1499                           34.5                 6.2            2.3       -  \n",
       "1500                            6.4                 9.6              1       -  \n",
       "1501                           18.6                 3.9            1.1       -  \n",
       "1502                           12.4                 1.5            1.1       -  \n",
       "\n",
       "[1503 rows x 18 columns]"
      ],
      "text/html": [
       "<div>\n",
       "<style scoped>\n",
       "    .dataframe tbody tr th:only-of-type {\n",
       "        vertical-align: middle;\n",
       "    }\n",
       "\n",
       "    .dataframe tbody tr th {\n",
       "        vertical-align: top;\n",
       "    }\n",
       "\n",
       "    .dataframe thead th {\n",
       "        text-align: right;\n",
       "    }\n",
       "</style>\n",
       "<table border=\"1\" class=\"dataframe\">\n",
       "  <thead>\n",
       "    <tr style=\"text-align: right;\">\n",
       "      <th></th>\n",
       "      <th>Rank</th>\n",
       "      <th>Institution</th>\n",
       "      <th>Location</th>\n",
       "      <th>Region</th>\n",
       "      <th>Size</th>\n",
       "      <th>Focus</th>\n",
       "      <th>Research</th>\n",
       "      <th>status</th>\n",
       "      <th>Academic Reputation</th>\n",
       "      <th>Employer Reputation</th>\n",
       "      <th>Faculty Student</th>\n",
       "      <th>Citations per Faculty</th>\n",
       "      <th>International Faculty</th>\n",
       "      <th>International Students</th>\n",
       "      <th>International Research Network</th>\n",
       "      <th>Employment Outcomes</th>\n",
       "      <th>Sustainability</th>\n",
       "      <th>Overall</th>\n",
       "    </tr>\n",
       "  </thead>\n",
       "  <tbody>\n",
       "    <tr>\n",
       "      <th>0</th>\n",
       "      <td>1</td>\n",
       "      <td>Massachusetts Institute of Technology (MIT)</td>\n",
       "      <td>United States</td>\n",
       "      <td>Americas</td>\n",
       "      <td>M</td>\n",
       "      <td>CO</td>\n",
       "      <td>VH</td>\n",
       "      <td>B</td>\n",
       "      <td>100</td>\n",
       "      <td>100</td>\n",
       "      <td>100</td>\n",
       "      <td>100</td>\n",
       "      <td>99.3</td>\n",
       "      <td>86.8</td>\n",
       "      <td>96</td>\n",
       "      <td>100</td>\n",
       "      <td>99</td>\n",
       "      <td>100</td>\n",
       "    </tr>\n",
       "    <tr>\n",
       "      <th>1</th>\n",
       "      <td>2</td>\n",
       "      <td>Imperial College London</td>\n",
       "      <td>United Kingdom</td>\n",
       "      <td>Europe</td>\n",
       "      <td>L</td>\n",
       "      <td>FC</td>\n",
       "      <td>VH</td>\n",
       "      <td>A</td>\n",
       "      <td>98.5</td>\n",
       "      <td>99.5</td>\n",
       "      <td>98.2</td>\n",
       "      <td>93.9</td>\n",
       "      <td>100</td>\n",
       "      <td>99.6</td>\n",
       "      <td>97.4</td>\n",
       "      <td>93.4</td>\n",
       "      <td>99.7</td>\n",
       "      <td>98.5</td>\n",
       "    </tr>\n",
       "    <tr>\n",
       "      <th>2</th>\n",
       "      <td>3</td>\n",
       "      <td>University of Oxford</td>\n",
       "      <td>United Kingdom</td>\n",
       "      <td>Europe</td>\n",
       "      <td>L</td>\n",
       "      <td>FC</td>\n",
       "      <td>VH</td>\n",
       "      <td>A</td>\n",
       "      <td>100</td>\n",
       "      <td>100</td>\n",
       "      <td>100</td>\n",
       "      <td>84.8</td>\n",
       "      <td>98.1</td>\n",
       "      <td>97.7</td>\n",
       "      <td>100</td>\n",
       "      <td>100</td>\n",
       "      <td>85</td>\n",
       "      <td>96.9</td>\n",
       "    </tr>\n",
       "    <tr>\n",
       "      <th>3</th>\n",
       "      <td>4</td>\n",
       "      <td>Harvard University</td>\n",
       "      <td>United States</td>\n",
       "      <td>Americas</td>\n",
       "      <td>L</td>\n",
       "      <td>FC</td>\n",
       "      <td>VH</td>\n",
       "      <td>B</td>\n",
       "      <td>100</td>\n",
       "      <td>100</td>\n",
       "      <td>96.3</td>\n",
       "      <td>100</td>\n",
       "      <td>74.1</td>\n",
       "      <td>69</td>\n",
       "      <td>99.6</td>\n",
       "      <td>100</td>\n",
       "      <td>84.4</td>\n",
       "      <td>96.8</td>\n",
       "    </tr>\n",
       "    <tr>\n",
       "      <th>4</th>\n",
       "      <td>5</td>\n",
       "      <td>University of Cambridge</td>\n",
       "      <td>United Kingdom</td>\n",
       "      <td>Europe</td>\n",
       "      <td>L</td>\n",
       "      <td>FC</td>\n",
       "      <td>VH</td>\n",
       "      <td>A</td>\n",
       "      <td>100</td>\n",
       "      <td>100</td>\n",
       "      <td>100</td>\n",
       "      <td>84.6</td>\n",
       "      <td>100</td>\n",
       "      <td>94.8</td>\n",
       "      <td>99.3</td>\n",
       "      <td>100</td>\n",
       "      <td>84.8</td>\n",
       "      <td>96.7</td>\n",
       "    </tr>\n",
       "    <tr>\n",
       "      <th>...</th>\n",
       "      <td>...</td>\n",
       "      <td>...</td>\n",
       "      <td>...</td>\n",
       "      <td>...</td>\n",
       "      <td>...</td>\n",
       "      <td>...</td>\n",
       "      <td>...</td>\n",
       "      <td>...</td>\n",
       "      <td>...</td>\n",
       "      <td>...</td>\n",
       "      <td>...</td>\n",
       "      <td>...</td>\n",
       "      <td>...</td>\n",
       "      <td>...</td>\n",
       "      <td>...</td>\n",
       "      <td>...</td>\n",
       "      <td>...</td>\n",
       "      <td>...</td>\n",
       "    </tr>\n",
       "    <tr>\n",
       "      <th>1498</th>\n",
       "      <td>1401+</td>\n",
       "      <td>University of Montana Missoula</td>\n",
       "      <td>United States</td>\n",
       "      <td>Americas</td>\n",
       "      <td>M</td>\n",
       "      <td>CO</td>\n",
       "      <td>HI</td>\n",
       "      <td>A</td>\n",
       "      <td>3</td>\n",
       "      <td>2.2</td>\n",
       "      <td>10.6</td>\n",
       "      <td>6.1</td>\n",
       "      <td>1.3</td>\n",
       "      <td>1.9</td>\n",
       "      <td>6.5</td>\n",
       "      <td>3.1</td>\n",
       "      <td>1</td>\n",
       "      <td>-</td>\n",
       "    </tr>\n",
       "    <tr>\n",
       "      <th>1499</th>\n",
       "      <td>1401+</td>\n",
       "      <td>University of Oradea</td>\n",
       "      <td>Romania</td>\n",
       "      <td>Europe</td>\n",
       "      <td>L</td>\n",
       "      <td>FC</td>\n",
       "      <td>MD</td>\n",
       "      <td>A</td>\n",
       "      <td>5.6</td>\n",
       "      <td>2.2</td>\n",
       "      <td>4</td>\n",
       "      <td>1.9</td>\n",
       "      <td>1.5</td>\n",
       "      <td>5.2</td>\n",
       "      <td>34.5</td>\n",
       "      <td>6.2</td>\n",
       "      <td>2.3</td>\n",
       "      <td>-</td>\n",
       "    </tr>\n",
       "    <tr>\n",
       "      <th>1500</th>\n",
       "      <td>1401+</td>\n",
       "      <td>University of San Carlos</td>\n",
       "      <td>Philippines</td>\n",
       "      <td>Asia</td>\n",
       "      <td>M</td>\n",
       "      <td>CO</td>\n",
       "      <td>MD</td>\n",
       "      <td>C</td>\n",
       "      <td>7.2</td>\n",
       "      <td>9.4</td>\n",
       "      <td>3.3</td>\n",
       "      <td>1.8</td>\n",
       "      <td>2.1</td>\n",
       "      <td>2.1</td>\n",
       "      <td>6.4</td>\n",
       "      <td>9.6</td>\n",
       "      <td>1</td>\n",
       "      <td>-</td>\n",
       "    </tr>\n",
       "    <tr>\n",
       "      <th>1501</th>\n",
       "      <td>1401+</td>\n",
       "      <td>University Politehnica of Timisoara, UPT</td>\n",
       "      <td>Romania</td>\n",
       "      <td>Europe</td>\n",
       "      <td>L</td>\n",
       "      <td>FO</td>\n",
       "      <td>VH</td>\n",
       "      <td>A</td>\n",
       "      <td>4.1</td>\n",
       "      <td>4.2</td>\n",
       "      <td>7.2</td>\n",
       "      <td>3.9</td>\n",
       "      <td>1.4</td>\n",
       "      <td>2.5</td>\n",
       "      <td>18.6</td>\n",
       "      <td>3.9</td>\n",
       "      <td>1.1</td>\n",
       "      <td>-</td>\n",
       "    </tr>\n",
       "    <tr>\n",
       "      <th>1502</th>\n",
       "      <td>1401+</td>\n",
       "      <td>Western Washington University</td>\n",
       "      <td>United States</td>\n",
       "      <td>Americas</td>\n",
       "      <td>L</td>\n",
       "      <td>CO</td>\n",
       "      <td>HI</td>\n",
       "      <td>NaN</td>\n",
       "      <td>2.6</td>\n",
       "      <td>2.6</td>\n",
       "      <td>7.3</td>\n",
       "      <td>3.5</td>\n",
       "      <td>9.7</td>\n",
       "      <td>1.6</td>\n",
       "      <td>12.4</td>\n",
       "      <td>1.5</td>\n",
       "      <td>1.1</td>\n",
       "      <td>-</td>\n",
       "    </tr>\n",
       "  </tbody>\n",
       "</table>\n",
       "<p>1503 rows × 18 columns</p>\n",
       "</div>"
      ]
     },
     "execution_count": 9,
     "metadata": {},
     "output_type": "execute_result"
    }
   ],
   "execution_count": 9
  },
  {
   "metadata": {
    "ExecuteTime": {
     "end_time": "2024-12-19T11:39:12.801022Z",
     "start_time": "2024-12-19T11:39:12.798613Z"
    }
   },
   "cell_type": "code",
   "source": "",
   "id": "9c30d7e8240c9242",
   "outputs": [],
   "execution_count": null
  },
  {
   "metadata": {
    "ExecuteTime": {
     "end_time": "2024-12-19T11:39:12.853172Z",
     "start_time": "2024-12-19T11:39:12.837171Z"
    }
   },
   "cell_type": "code",
   "source": [
    "data.info()\n",
    "data['Rank'] = data['Rank'].astype(str)\n"
   ],
   "id": "790bda381073deda",
   "outputs": [
    {
     "name": "stdout",
     "output_type": "stream",
     "text": [
      "<class 'pandas.core.frame.DataFrame'>\n",
      "RangeIndex: 1503 entries, 0 to 1502\n",
      "Data columns (total 18 columns):\n",
      " #   Column                          Non-Null Count  Dtype \n",
      "---  ------                          --------------  ----- \n",
      " 0   Rank                            1503 non-null   object\n",
      " 1   Institution                     1503 non-null   object\n",
      " 2   Location                        1503 non-null   object\n",
      " 3   Region                          1503 non-null   object\n",
      " 4   Size                            1503 non-null   object\n",
      " 5   Focus                           1503 non-null   object\n",
      " 6   Research                        1503 non-null   object\n",
      " 7   status                          1466 non-null   object\n",
      " 8   Academic Reputation             1503 non-null   object\n",
      " 9   Employer Reputation             1503 non-null   object\n",
      " 10  Faculty Student                 1503 non-null   object\n",
      " 11  Citations per Faculty           1503 non-null   object\n",
      " 12  International Faculty           1403 non-null   object\n",
      " 13  International Students          1445 non-null   object\n",
      " 14  International Research Network  1502 non-null   object\n",
      " 15  Employment Outcomes             1503 non-null   object\n",
      " 16  Sustainability                  1484 non-null   object\n",
      " 17  Overall                         1503 non-null   object\n",
      "dtypes: object(18)\n",
      "memory usage: 211.5+ KB\n"
     ]
    }
   ],
   "execution_count": 10
  },
  {
   "metadata": {
    "ExecuteTime": {
     "end_time": "2024-12-19T11:39:12.892259Z",
     "start_time": "2024-12-19T11:39:12.886777Z"
    }
   },
   "cell_type": "code",
   "source": [
    "# split - and + in rank\n",
    "data['Rank'] = data['Rank'].apply(lambda x: x.split('–')[0])\n",
    "data['Rank'] = data['Rank'].apply(lambda x: x.split('+')[0])\n",
    "data['Rank'] = data['Rank'].apply(lambda x: x.split('-')[0])"
   ],
   "id": "ca019b78264478ab",
   "outputs": [],
   "execution_count": 11
  },
  {
   "metadata": {
    "ExecuteTime": {
     "end_time": "2024-12-19T11:39:12.922857Z",
     "start_time": "2024-12-19T11:39:12.919714Z"
    }
   },
   "cell_type": "code",
   "source": "data['Rank'] = data['Rank'].astype(int)",
   "id": "1d7abf8e32574fb7",
   "outputs": [],
   "execution_count": 12
  },
  {
   "metadata": {
    "ExecuteTime": {
     "end_time": "2024-12-19T11:39:12.953438Z",
     "start_time": "2024-12-19T11:39:12.950060Z"
    }
   },
   "cell_type": "code",
   "source": "data['index'] = data.index + 1",
   "id": "6a8709129085fae2",
   "outputs": [],
   "execution_count": 13
  },
  {
   "metadata": {
    "ExecuteTime": {
     "end_time": "2024-12-19T11:39:12.994116Z",
     "start_time": "2024-12-19T11:39:12.988953Z"
    }
   },
   "cell_type": "code",
   "source": [
    "def categorize_rank(df): # 1-300 301-401  401-700 701-900 901-1100 1101-1200 1201-1300 1301-1400 1400+\n",
    "    if pd.isna(df['Rank']):  # Eğer rank değeri NaN ise\n",
    "        return None  # İsteğe göre 'Unknown' da döndürülebilir\n",
    "    elif  df['index']<= 300:\n",
    "        return '1-300'\n",
    "    elif df['index']<= 400:\n",
    "        return '301-400'\n",
    "    elif df['index']<= 700:\n",
    "        return '401-700'\n",
    "    elif df['index']<= 900:\n",
    "        return '701-900'\n",
    "    elif df['index']<= 1100:\n",
    "        return '901-1100'\n",
    "    elif df['index']<= 1200:\n",
    "        return '1101-1200'\n",
    "    elif df['index']<= 1300:\n",
    "        return '1201-1300'\n",
    "    elif df['index']<= 1400:\n",
    "        return '1301-1400'\n",
    "    else:\n",
    "        return '1400+'\n",
    "    \n",
    "     \n",
    "     "
   ],
   "id": "40c76d10d78481f1",
   "outputs": [],
   "execution_count": 14
  },
  {
   "metadata": {
    "ExecuteTime": {
     "end_time": "2024-12-19T11:39:13.060398Z",
     "start_time": "2024-12-19T11:39:13.043289Z"
    }
   },
   "cell_type": "code",
   "source": "data['Rank_category'] = data.apply(categorize_rank, axis=1)",
   "id": "db217aa90e574fa5",
   "outputs": [],
   "execution_count": 15
  },
  {
   "metadata": {
    "ExecuteTime": {
     "end_time": "2024-12-19T11:39:13.071404Z",
     "start_time": "2024-12-19T11:39:13.065404Z"
    }
   },
   "cell_type": "code",
   "source": "data['Rank_category'].value_counts()",
   "id": "4a09414364756158",
   "outputs": [
    {
     "data": {
      "text/plain": [
       "Rank_category\n",
       "1-300        300\n",
       "401-700      300\n",
       "701-900      200\n",
       "901-1100     200\n",
       "1400+        103\n",
       "301-400      100\n",
       "1101-1200    100\n",
       "1201-1300    100\n",
       "1301-1400    100\n",
       "Name: count, dtype: int64"
      ]
     },
     "execution_count": 16,
     "metadata": {},
     "output_type": "execute_result"
    }
   ],
   "execution_count": 16
  },
  {
   "metadata": {
    "ExecuteTime": {
     "end_time": "2024-12-19T11:39:13.381226Z",
     "start_time": "2024-12-19T11:39:13.106933Z"
    }
   },
   "cell_type": "code",
   "source": "data['Rank_category'].value_counts().plot(kind='bar')",
   "id": "5b8c41c810975e92",
   "outputs": [
    {
     "data": {
      "text/plain": [
       "<Axes: xlabel='Rank_category'>"
      ]
     },
     "execution_count": 17,
     "metadata": {},
     "output_type": "execute_result"
    },
    {
     "data": {
      "text/plain": [
       "<Figure size 640x480 with 1 Axes>"
      ],
      "image/png": "[encoded data removed]"
     },
     "metadata": {},
     "output_type": "display_data"
    }
   ],
   "execution_count": 17
  }
 ],
 "metadata": {
  "kernelspec": {
   "display_name": "Python 3",
   "language": "python",
   "name": "python3"
  },
  "language_info": {
   "codemirror_mode": {
    "name": "ipython",
    "version": 2
   },
   "file_extension": ".py",
   "mimetype": "text/x-python",
   "name": "python",
   "nbconvert_exporter": "python",
   "pygments_lexer": "ipython2",
   "version": "2.7.6"
  }
 },
 "nbformat": 4,
 "nbformat_minor": 5
}
