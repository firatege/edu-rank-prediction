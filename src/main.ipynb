{
 "cells": [
  {
   "metadata": {},
   "cell_type": "markdown",
   "source": [
    "# EDU RANK PREDICTION on THE\n",
    "\n",
    "## Introduction\n",
    "\n",
    "This notebook is a part of the project for the department of Data Management at Dokuz Eylul University. \n",
    "\n",
    "\n"
   ],
   "id": "4c594cb71c22a1e2"
  },
  {
   "metadata": {
    "ExecuteTime": {
     "end_time": "2024-12-25T22:36:15.076115Z",
     "start_time": "2024-12-25T22:36:15.072605Z"
    }
   },
   "cell_type": "code",
   "source": [
    "\n",
    "DATA_PATH = \"../data/\"\n",
    "SRC_PATH = \"../src/\""
   ],
   "id": "ab3898f84e2e5262",
   "outputs": [],
   "execution_count": 1
  },
  {
   "metadata": {
    "ExecuteTime": {
     "end_time": "2024-12-25T22:36:15.548118Z",
     "start_time": "2024-12-25T22:36:15.102328Z"
    }
   },
   "cell_type": "code",
   "source": [
    "import pandas as pd\n",
    "import numpy as np\n",
    "import matplotlib.pyplot as plt\n",
    "import seaborn as sns\n",
    "from imblearn.over_sampling import SMOTENC\n",
    "from sklearn.preprocessing import LabelEncoder, OneHotEncoder\n",
    "from sklearn.model_selection import train_test_split, GridSearchCV\n",
    "from sklearn.ensemble import GradientBoostingClassifier, RandomForestClassifier\n",
    "from sklearn.linear_model import LogisticRegression\n",
    "from sklearn.svm import SVC\n",
    "from sklearn.tree import DecisionTreeClassifier\n",
    "from sklearn.neighbors import KNeighborsClassifier\n",
    "from sklearn.naive_bayes import GaussianNB\n",
    "from sklearn.metrics import classification_report, confusion_matrix\n",
    "import sklearn.metrics as mt\n"
   ],
   "id": "a338366908111b5",
   "outputs": [],
   "execution_count": 2
  },
  {
   "metadata": {
    "ExecuteTime": {
     "end_time": "2024-12-25T22:36:16.733861Z",
     "start_time": "2024-12-25T22:36:15.615805Z"
    }
   },
   "cell_type": "code",
   "source": [
    "# Load the data\n",
    "data = pd.read_excel(DATA_PATH + \"THE.xlsx\")\n",
    "data.dropna(subset=['rank'], inplace=True)"
   ],
   "id": "8ddc5888567af5bb",
   "outputs": [],
   "execution_count": 3
  },
  {
   "metadata": {
    "ExecuteTime": {
     "end_time": "2024-12-25T22:36:16.759438Z",
     "start_time": "2024-12-25T22:36:16.752405Z"
    }
   },
   "cell_type": "code",
   "source": "data.shape # 2092 rows and 29 columns\n",
   "id": "3cf317e574654d7d",
   "outputs": [
    {
     "data": {
      "text/plain": [
       "(2092, 29)"
      ]
     },
     "execution_count": 4,
     "metadata": {},
     "output_type": "execute_result"
    }
   ],
   "execution_count": 4
  },
  {
   "metadata": {
    "ExecuteTime": {
     "end_time": "2024-12-25T22:36:16.867135Z",
     "start_time": "2024-12-25T22:36:16.857135Z"
    }
   },
   "cell_type": "code",
   "source": "data.info()",
   "id": "afa2a08470b3598f",
   "outputs": [
    {
     "name": "stdout",
     "output_type": "stream",
     "text": [
      "<class 'pandas.core.frame.DataFrame'>\n",
      "Index: 2092 entries, 0 to 2091\n",
      "Data columns (total 29 columns):\n",
      " #   Column                             Non-Null Count  Dtype  \n",
      "---  ------                             --------------  -----  \n",
      " 0   rank_order                         2092 non-null   int64  \n",
      " 1   rank                               2092 non-null   object \n",
      " 2   name                               2092 non-null   object \n",
      " 3   scores_overall                     2092 non-null   object \n",
      " 4   scores_overall_rank                2092 non-null   int64  \n",
      " 5   scores_teaching                    2092 non-null   float64\n",
      " 6   scores_teaching_rank               2092 non-null   int64  \n",
      " 7   scores_research                    2092 non-null   float64\n",
      " 8   scores_research_rank               2092 non-null   int64  \n",
      " 9   scores_citations                   2092 non-null   float64\n",
      " 10  scores_citations_rank              2092 non-null   int64  \n",
      " 11  scores_industry_income             2092 non-null   float64\n",
      " 12  scores_industry_income_rank        2092 non-null   int64  \n",
      " 13  scores_international_outlook       2092 non-null   float64\n",
      " 14  scores_international_outlook_rank  2092 non-null   int64  \n",
      " 15  record_type                        2092 non-null   object \n",
      " 16  member_level                       2092 non-null   int64  \n",
      " 17  url                                2092 non-null   object \n",
      " 18  nid                                2092 non-null   int64  \n",
      " 19  location                           2092 non-null   object \n",
      " 20  stats_number_students              2092 non-null   object \n",
      " 21  stats_student_staff_ratio          2092 non-null   float64\n",
      " 22  stats_pc_intl_students             2092 non-null   object \n",
      " 23  stats_female_male_ratio            2011 non-null   object \n",
      " 24  aliases                            2092 non-null   object \n",
      " 25  subjects_offered                   2092 non-null   object \n",
      " 26  closed                             2092 non-null   bool   \n",
      " 27  unaccredited                       2092 non-null   bool   \n",
      " 28  disabled                           2092 non-null   bool   \n",
      "dtypes: bool(3), float64(6), int64(9), object(11)\n",
      "memory usage: 447.4+ KB\n"
     ]
    }
   ],
   "execution_count": 5
  },
  {
   "metadata": {
    "ExecuteTime": {
     "end_time": "2024-12-25T22:36:16.939081Z",
     "start_time": "2024-12-25T22:36:16.931553Z"
    }
   },
   "cell_type": "code",
   "source": "data.isnull().sum()",
   "id": "cbdc84e16668920b",
   "outputs": [
    {
     "data": {
      "text/plain": [
       "rank_order                            0\n",
       "rank                                  0\n",
       "name                                  0\n",
       "scores_overall                        0\n",
       "scores_overall_rank                   0\n",
       "scores_teaching                       0\n",
       "scores_teaching_rank                  0\n",
       "scores_research                       0\n",
       "scores_research_rank                  0\n",
       "scores_citations                      0\n",
       "scores_citations_rank                 0\n",
       "scores_industry_income                0\n",
       "scores_industry_income_rank           0\n",
       "scores_international_outlook          0\n",
       "scores_international_outlook_rank     0\n",
       "record_type                           0\n",
       "member_level                          0\n",
       "url                                   0\n",
       "nid                                   0\n",
       "location                              0\n",
       "stats_number_students                 0\n",
       "stats_student_staff_ratio             0\n",
       "stats_pc_intl_students                0\n",
       "stats_female_male_ratio              81\n",
       "aliases                               0\n",
       "subjects_offered                      0\n",
       "closed                                0\n",
       "unaccredited                          0\n",
       "disabled                              0\n",
       "dtype: int64"
      ]
     },
     "execution_count": 6,
     "metadata": {},
     "output_type": "execute_result"
    }
   ],
   "execution_count": 6
  },
  {
   "metadata": {
    "ExecuteTime": {
     "end_time": "2024-12-25T22:36:17.012022Z",
     "start_time": "2024-12-25T22:36:17.005688Z"
    }
   },
   "cell_type": "code",
   "source": [
    "#data.loc[data['closed'] == 1] No closed universities\n",
    "data.drop('closed', axis=1, inplace=True)"
   ],
   "id": "7320576eb6314c13",
   "outputs": [],
   "execution_count": 7
  },
  {
   "metadata": {
    "ExecuteTime": {
     "end_time": "2024-12-25T22:36:17.032775Z",
     "start_time": "2024-12-25T22:36:17.026074Z"
    }
   },
   "cell_type": "code",
   "source": "data['rank'].value_counts() ",
   "id": "fcabe3e5633e9f6e",
   "outputs": [
    {
     "data": {
      "text/plain": [
       "rank\n",
       "1501+        591\n",
       "1201–1500    302\n",
       "601–800      203\n",
       "1001–1200    200\n",
       "801–1000     195\n",
       "            ... \n",
       "44             1\n",
       "43             1\n",
       "42             1\n",
       "41             1\n",
       "89             1\n",
       "Name: count, Length: 142, dtype: int64"
      ]
     },
     "execution_count": 8,
     "metadata": {},
     "output_type": "execute_result"
    }
   ],
   "execution_count": 8
  },
  {
   "metadata": {
    "ExecuteTime": {
     "end_time": "2024-12-25T22:36:17.125324Z",
     "start_time": "2024-12-25T22:36:17.118327Z"
    }
   },
   "cell_type": "code",
   "source": [
    "data['rank'] = data['rank'].astype(str)\n",
    "data['stats_number_students'] = data['stats_number_students'].str.replace(',', '').astype(float)\n",
    "data.sort_values('rank_order', inplace=True)\n",
    "data.reset_index(drop=True, inplace=True)"
   ],
   "id": "f22891634f210392",
   "outputs": [],
   "execution_count": 9
  },
  {
   "metadata": {
    "ExecuteTime": {
     "end_time": "2024-12-25T22:36:17.245240Z",
     "start_time": "2024-12-25T22:36:17.235716Z"
    }
   },
   "cell_type": "code",
   "source": [
    "# Ensure 'rank_order' is numeric\n",
    "\n",
    "# Function to categorize rank values\n",
    "def categorize_rank(rank):\n",
    "    if pd.isna(rank):\n",
    "        return None\n",
    "    elif rank <= 3000:\n",
    "        return '1-300'\n",
    "    elif rank <= 4000:\n",
    "        return '301-400'\n",
    "    elif rank <= 7000:\n",
    "        return '401-700'\n",
    "    elif rank <= 9000:\n",
    "        return '701-900'\n",
    "    elif rank <= 11000:\n",
    "        return '901-1100'\n",
    "    elif rank <= 12000:\n",
    "        return '1101-1200'\n",
    "    elif rank <= 13000:\n",
    "        return '1201-1300'\n",
    "    elif rank <= 14000:\n",
    "        return '1301-1400'\n",
    "    elif rank <= 15000:\n",
    "        return '1401-1500'\n",
    "    elif rank <= 16000:\n",
    "        return '1501-1600'\n",
    "    elif rank <= 17000:\n",
    "        return '1601-1700'\n",
    "    elif rank  <= 18000:\n",
    "        return '1701-1800'\n",
    "    elif rank >= 18001:\n",
    "        return '1801+'\n",
    "    \n",
    "\n",
    "# Apply the function to create the 'label' column\n",
    "data['label'] = data['rank_order'].apply(categorize_rank)\n",
    "target = data['label']\n",
    "data.drop(columns=['rank','name','url','aliases','unaccredited'], inplace=True)"
   ],
   "id": "71a3644c0056d4db",
   "outputs": [],
   "execution_count": 10
  },
  {
   "metadata": {
    "ExecuteTime": {
     "end_time": "2024-12-25T22:36:17.299997Z",
     "start_time": "2024-12-25T22:36:17.294346Z"
    }
   },
   "cell_type": "code",
   "source": "data['label'].value_counts()",
   "id": "f951043cbc6b31ec",
   "outputs": [
    {
     "data": {
      "text/plain": [
       "label\n",
       "1-300        300\n",
       "401-700      300\n",
       "1801+        292\n",
       "701-900      200\n",
       "901-1100     200\n",
       "301-400      100\n",
       "1101-1200    100\n",
       "1201-1300    100\n",
       "1301-1400    100\n",
       "1401-1500    100\n",
       "1501-1600    100\n",
       "1601-1700    100\n",
       "1701-1800    100\n",
       "Name: count, dtype: int64"
      ]
     },
     "execution_count": 11,
     "metadata": {},
     "output_type": "execute_result"
    }
   ],
   "execution_count": 11
  },
  {
   "metadata": {
    "ExecuteTime": {
     "end_time": "2024-12-25T22:36:17.469512Z",
     "start_time": "2024-12-25T22:36:17.461481Z"
    }
   },
   "cell_type": "code",
   "source": "data['scores_overall'] = data['scores_overall'].str.split('–').str[0].astype(float)\n",
   "id": "c5ad57758d0de8c",
   "outputs": [],
   "execution_count": 12
  },
  {
   "metadata": {
    "ExecuteTime": {
     "end_time": "2024-12-25T22:36:17.585651Z",
     "start_time": "2024-12-25T22:36:17.575547Z"
    }
   },
   "cell_type": "code",
   "source": "data[['rank_order','member_level']].corr()",
   "id": "ec5940d2487b5489",
   "outputs": [
    {
     "data": {
      "text/plain": [
       "              rank_order  member_level\n",
       "rank_order      1.000000     -0.231823\n",
       "member_level   -0.231823      1.000000"
      ],
      "text/html": [
       "<div>\n",
       "<style scoped>\n",
       "    .dataframe tbody tr th:only-of-type {\n",
       "        vertical-align: middle;\n",
       "    }\n",
       "\n",
       "    .dataframe tbody tr th {\n",
       "        vertical-align: top;\n",
       "    }\n",
       "\n",
       "    .dataframe thead th {\n",
       "        text-align: right;\n",
       "    }\n",
       "</style>\n",
       "<table border=\"1\" class=\"dataframe\">\n",
       "  <thead>\n",
       "    <tr style=\"text-align: right;\">\n",
       "      <th></th>\n",
       "      <th>rank_order</th>\n",
       "      <th>member_level</th>\n",
       "    </tr>\n",
       "  </thead>\n",
       "  <tbody>\n",
       "    <tr>\n",
       "      <th>rank_order</th>\n",
       "      <td>1.000000</td>\n",
       "      <td>-0.231823</td>\n",
       "    </tr>\n",
       "    <tr>\n",
       "      <th>member_level</th>\n",
       "      <td>-0.231823</td>\n",
       "      <td>1.000000</td>\n",
       "    </tr>\n",
       "  </tbody>\n",
       "</table>\n",
       "</div>"
      ]
     },
     "execution_count": 13,
     "metadata": {},
     "output_type": "execute_result"
    }
   ],
   "execution_count": 13
  },
  {
   "metadata": {
    "ExecuteTime": {
     "end_time": "2024-12-25T22:36:17.674959Z",
     "start_time": "2024-12-25T22:36:17.667295Z"
    }
   },
   "cell_type": "code",
   "source": "data['location'].value_counts() ",
   "id": "fc2438603b4c58d6",
   "outputs": [
    {
     "data": {
      "text/plain": [
       "location\n",
       "United States     174\n",
       "Japan             119\n",
       "United Kingdom    107\n",
       "India             107\n",
       "China              94\n",
       "                 ... \n",
       "Luxembourg          1\n",
       "Palestine           1\n",
       "Bahrain             1\n",
       "Oman                1\n",
       "Armenia             1\n",
       "Name: count, Length: 115, dtype: int64"
      ]
     },
     "execution_count": 14,
     "metadata": {},
     "output_type": "execute_result"
    }
   ],
   "execution_count": 14
  },
  {
   "metadata": {
    "ExecuteTime": {
     "end_time": "2024-12-25T22:36:17.976762Z",
     "start_time": "2024-12-25T22:36:17.951733Z"
    }
   },
   "cell_type": "code",
   "source": [
    "# location if country count less than 10, convert to 'Other'\n",
    "country_count = data['location'].value_counts()\n",
    "data['location'] = data['location'].apply(lambda x: 'Other' if country_count[x] < 4 else x)\n",
    "data.loc[data['location'] == 'Other']"
   ],
   "id": "66047a7199e1fce",
   "outputs": [
    {
     "data": {
      "text/plain": [
       "      rank_order  scores_overall  scores_overall_rank  scores_teaching  \\\n",
       "16           170            89.9                  170             78.4   \n",
       "29           300            81.8                  300             65.8   \n",
       "180         1810            59.7                 1810             37.7   \n",
       "219         2200            55.8                 2200             31.0   \n",
       "237         2380            55.8                 2380             39.2   \n",
       "...          ...             ...                  ...              ...   \n",
       "2040       20410            10.5                20410             20.2   \n",
       "2053       20540            10.5                20540             20.7   \n",
       "2064       20650            10.5                20650             15.1   \n",
       "2066       20670            10.5                20670             14.2   \n",
       "2089       20900            10.5                20900             24.8   \n",
       "\n",
       "      scores_teaching_rank  scores_research  scores_research_rank  \\\n",
       "16                      24             93.6                    15   \n",
       "29                      51             79.3                    30   \n",
       "180                    377             39.0                   274   \n",
       "219                    693             37.4                   302   \n",
       "237                    333             39.5                   261   \n",
       "...                    ...              ...                   ...   \n",
       "2040                  1481             11.2                  1627   \n",
       "2053                  1444              8.8                  1991   \n",
       "2064                  1901              9.9                  1824   \n",
       "2066                  1950             10.6                  1711   \n",
       "2089                  1098              8.8                  1993   \n",
       "\n",
       "      scores_citations  scores_citations_rank  scores_industry_income  ...  \\\n",
       "16                95.7                     41                   100.0  ...   \n",
       "29                94.5                     54                    99.9  ...   \n",
       "180               90.7                    104                    70.4  ...   \n",
       "219               87.5                    171                    69.0  ...   \n",
       "237               77.1                    401                    81.3  ...   \n",
       "...                ...                    ...                     ...  ...   \n",
       "2040              20.8                   1825                    26.6  ...   \n",
       "2053              10.5                   2022                    24.0  ...   \n",
       "2064              29.2                   1613                    21.4  ...   \n",
       "2066              39.3                   1361                    21.0  ...   \n",
       "2089               8.7                   2052                    20.9  ...   \n",
       "\n",
       "      member_level     nid  location stats_number_students  \\\n",
       "16               6     504     Other               34388.0   \n",
       "29               6     634     Other               26044.0   \n",
       "180             11    1027     Other               11573.0   \n",
       "219              0  131534     Other                9701.0   \n",
       "237              0  131698     Other                5860.0   \n",
       "...            ...     ...       ...                   ...   \n",
       "2040             0  677010     Other               22458.0   \n",
       "2053             0  131353     Other               20855.0   \n",
       "2064             0  670626     Other               23677.0   \n",
       "2066             0  707981     Other               23476.0   \n",
       "2089             0  715426     Other               13923.0   \n",
       "\n",
       "      stats_student_staff_ratio  stats_pc_intl_students  \\\n",
       "16                         21.0                     26%   \n",
       "29                         17.1                     29%   \n",
       "180                        19.2                     46%   \n",
       "219                         8.5                     36%   \n",
       "237                        22.1                     52%   \n",
       "...                         ...                     ...   \n",
       "2040                       13.5                      4%   \n",
       "2053                       10.9                      1%   \n",
       "2064                       26.9                      2%   \n",
       "2066                       18.3                      0%   \n",
       "2089                        8.0                      3%   \n",
       "\n",
       "     stats_female_male_ratio  \\\n",
       "16                   49 : 51   \n",
       "29                   48 : 52   \n",
       "180                  54 : 46   \n",
       "219                      NaN   \n",
       "237                  54 : 46   \n",
       "...                      ...   \n",
       "2040                 65 : 35   \n",
       "2053                 60 : 40   \n",
       "2064                 40 : 60   \n",
       "2066                 51 : 49   \n",
       "2089                 53 : 47   \n",
       "\n",
       "                                       subjects_offered  disabled  label  \n",
       "16    Computer Science,Chemistry,Economics & Econome...     False  1-300  \n",
       "29    Psychology,Geology, Environmental, Earth & Mar...     False  1-300  \n",
       "180   General Engineering,Communication & Media Stud...     False  1-300  \n",
       "219   Law,Languages, Literature & Linguistics,Civil ...     False  1-300  \n",
       "237   Computer Science,Physics & Astronomy,Economics...     False  1-300  \n",
       "...                                                 ...       ...    ...  \n",
       "2040  Sport Science,Economics & Econometrics,Mathema...     False  1801+  \n",
       "2053  Medicine & Dentistry,Geology, Environmental, E...     False  1801+  \n",
       "2064  Archaeology,Mechanical & Aerospace Engineering...     False  1801+  \n",
       "2066  General Engineering,Mathematics & Statistics,L...     False  1801+  \n",
       "2089  Mathematics & Statistics,Biological Sciences,P...     False  1801+  \n",
       "\n",
       "[68 rows x 24 columns]"
      ],
      "text/html": [
       "<div>\n",
       "<style scoped>\n",
       "    .dataframe tbody tr th:only-of-type {\n",
       "        vertical-align: middle;\n",
       "    }\n",
       "\n",
       "    .dataframe tbody tr th {\n",
       "        vertical-align: top;\n",
       "    }\n",
       "\n",
       "    .dataframe thead th {\n",
       "        text-align: right;\n",
       "    }\n",
       "</style>\n",
       "<table border=\"1\" class=\"dataframe\">\n",
       "  <thead>\n",
       "    <tr style=\"text-align: right;\">\n",
       "      <th></th>\n",
       "      <th>rank_order</th>\n",
       "      <th>scores_overall</th>\n",
       "      <th>scores_overall_rank</th>\n",
       "      <th>scores_teaching</th>\n",
       "      <th>scores_teaching_rank</th>\n",
       "      <th>scores_research</th>\n",
       "      <th>scores_research_rank</th>\n",
       "      <th>scores_citations</th>\n",
       "      <th>scores_citations_rank</th>\n",
       "      <th>scores_industry_income</th>\n",
       "      <th>...</th>\n",
       "      <th>member_level</th>\n",
       "      <th>nid</th>\n",
       "      <th>location</th>\n",
       "      <th>stats_number_students</th>\n",
       "      <th>stats_student_staff_ratio</th>\n",
       "      <th>stats_pc_intl_students</th>\n",
       "      <th>stats_female_male_ratio</th>\n",
       "      <th>subjects_offered</th>\n",
       "      <th>disabled</th>\n",
       "      <th>label</th>\n",
       "    </tr>\n",
       "  </thead>\n",
       "  <tbody>\n",
       "    <tr>\n",
       "      <th>16</th>\n",
       "      <td>170</td>\n",
       "      <td>89.9</td>\n",
       "      <td>170</td>\n",
       "      <td>78.4</td>\n",
       "      <td>24</td>\n",
       "      <td>93.6</td>\n",
       "      <td>15</td>\n",
       "      <td>95.7</td>\n",
       "      <td>41</td>\n",
       "      <td>100.0</td>\n",
       "      <td>...</td>\n",
       "      <td>6</td>\n",
       "      <td>504</td>\n",
       "      <td>Other</td>\n",
       "      <td>34388.0</td>\n",
       "      <td>21.0</td>\n",
       "      <td>26%</td>\n",
       "      <td>49 : 51</td>\n",
       "      <td>Computer Science,Chemistry,Economics &amp; Econome...</td>\n",
       "      <td>False</td>\n",
       "      <td>1-300</td>\n",
       "    </tr>\n",
       "    <tr>\n",
       "      <th>29</th>\n",
       "      <td>300</td>\n",
       "      <td>81.8</td>\n",
       "      <td>300</td>\n",
       "      <td>65.8</td>\n",
       "      <td>51</td>\n",
       "      <td>79.3</td>\n",
       "      <td>30</td>\n",
       "      <td>94.5</td>\n",
       "      <td>54</td>\n",
       "      <td>99.9</td>\n",
       "      <td>...</td>\n",
       "      <td>6</td>\n",
       "      <td>634</td>\n",
       "      <td>Other</td>\n",
       "      <td>26044.0</td>\n",
       "      <td>17.1</td>\n",
       "      <td>29%</td>\n",
       "      <td>48 : 52</td>\n",
       "      <td>Psychology,Geology, Environmental, Earth &amp; Mar...</td>\n",
       "      <td>False</td>\n",
       "      <td>1-300</td>\n",
       "    </tr>\n",
       "    <tr>\n",
       "      <th>180</th>\n",
       "      <td>1810</td>\n",
       "      <td>59.7</td>\n",
       "      <td>1810</td>\n",
       "      <td>37.7</td>\n",
       "      <td>377</td>\n",
       "      <td>39.0</td>\n",
       "      <td>274</td>\n",
       "      <td>90.7</td>\n",
       "      <td>104</td>\n",
       "      <td>70.4</td>\n",
       "      <td>...</td>\n",
       "      <td>11</td>\n",
       "      <td>1027</td>\n",
       "      <td>Other</td>\n",
       "      <td>11573.0</td>\n",
       "      <td>19.2</td>\n",
       "      <td>46%</td>\n",
       "      <td>54 : 46</td>\n",
       "      <td>General Engineering,Communication &amp; Media Stud...</td>\n",
       "      <td>False</td>\n",
       "      <td>1-300</td>\n",
       "    </tr>\n",
       "    <tr>\n",
       "      <th>219</th>\n",
       "      <td>2200</td>\n",
       "      <td>55.8</td>\n",
       "      <td>2200</td>\n",
       "      <td>31.0</td>\n",
       "      <td>693</td>\n",
       "      <td>37.4</td>\n",
       "      <td>302</td>\n",
       "      <td>87.5</td>\n",
       "      <td>171</td>\n",
       "      <td>69.0</td>\n",
       "      <td>...</td>\n",
       "      <td>0</td>\n",
       "      <td>131534</td>\n",
       "      <td>Other</td>\n",
       "      <td>9701.0</td>\n",
       "      <td>8.5</td>\n",
       "      <td>36%</td>\n",
       "      <td>NaN</td>\n",
       "      <td>Law,Languages, Literature &amp; Linguistics,Civil ...</td>\n",
       "      <td>False</td>\n",
       "      <td>1-300</td>\n",
       "    </tr>\n",
       "    <tr>\n",
       "      <th>237</th>\n",
       "      <td>2380</td>\n",
       "      <td>55.8</td>\n",
       "      <td>2380</td>\n",
       "      <td>39.2</td>\n",
       "      <td>333</td>\n",
       "      <td>39.5</td>\n",
       "      <td>261</td>\n",
       "      <td>77.1</td>\n",
       "      <td>401</td>\n",
       "      <td>81.3</td>\n",
       "      <td>...</td>\n",
       "      <td>0</td>\n",
       "      <td>131698</td>\n",
       "      <td>Other</td>\n",
       "      <td>5860.0</td>\n",
       "      <td>22.1</td>\n",
       "      <td>52%</td>\n",
       "      <td>54 : 46</td>\n",
       "      <td>Computer Science,Physics &amp; Astronomy,Economics...</td>\n",
       "      <td>False</td>\n",
       "      <td>1-300</td>\n",
       "    </tr>\n",
       "    <tr>\n",
       "      <th>...</th>\n",
       "      <td>...</td>\n",
       "      <td>...</td>\n",
       "      <td>...</td>\n",
       "      <td>...</td>\n",
       "      <td>...</td>\n",
       "      <td>...</td>\n",
       "      <td>...</td>\n",
       "      <td>...</td>\n",
       "      <td>...</td>\n",
       "      <td>...</td>\n",
       "      <td>...</td>\n",
       "      <td>...</td>\n",
       "      <td>...</td>\n",
       "      <td>...</td>\n",
       "      <td>...</td>\n",
       "      <td>...</td>\n",
       "      <td>...</td>\n",
       "      <td>...</td>\n",
       "      <td>...</td>\n",
       "      <td>...</td>\n",
       "      <td>...</td>\n",
       "    </tr>\n",
       "    <tr>\n",
       "      <th>2040</th>\n",
       "      <td>20410</td>\n",
       "      <td>10.5</td>\n",
       "      <td>20410</td>\n",
       "      <td>20.2</td>\n",
       "      <td>1481</td>\n",
       "      <td>11.2</td>\n",
       "      <td>1627</td>\n",
       "      <td>20.8</td>\n",
       "      <td>1825</td>\n",
       "      <td>26.6</td>\n",
       "      <td>...</td>\n",
       "      <td>0</td>\n",
       "      <td>677010</td>\n",
       "      <td>Other</td>\n",
       "      <td>22458.0</td>\n",
       "      <td>13.5</td>\n",
       "      <td>4%</td>\n",
       "      <td>65 : 35</td>\n",
       "      <td>Sport Science,Economics &amp; Econometrics,Mathema...</td>\n",
       "      <td>False</td>\n",
       "      <td>1801+</td>\n",
       "    </tr>\n",
       "    <tr>\n",
       "      <th>2053</th>\n",
       "      <td>20540</td>\n",
       "      <td>10.5</td>\n",
       "      <td>20540</td>\n",
       "      <td>20.7</td>\n",
       "      <td>1444</td>\n",
       "      <td>8.8</td>\n",
       "      <td>1991</td>\n",
       "      <td>10.5</td>\n",
       "      <td>2022</td>\n",
       "      <td>24.0</td>\n",
       "      <td>...</td>\n",
       "      <td>0</td>\n",
       "      <td>131353</td>\n",
       "      <td>Other</td>\n",
       "      <td>20855.0</td>\n",
       "      <td>10.9</td>\n",
       "      <td>1%</td>\n",
       "      <td>60 : 40</td>\n",
       "      <td>Medicine &amp; Dentistry,Geology, Environmental, E...</td>\n",
       "      <td>False</td>\n",
       "      <td>1801+</td>\n",
       "    </tr>\n",
       "    <tr>\n",
       "      <th>2064</th>\n",
       "      <td>20650</td>\n",
       "      <td>10.5</td>\n",
       "      <td>20650</td>\n",
       "      <td>15.1</td>\n",
       "      <td>1901</td>\n",
       "      <td>9.9</td>\n",
       "      <td>1824</td>\n",
       "      <td>29.2</td>\n",
       "      <td>1613</td>\n",
       "      <td>21.4</td>\n",
       "      <td>...</td>\n",
       "      <td>0</td>\n",
       "      <td>670626</td>\n",
       "      <td>Other</td>\n",
       "      <td>23677.0</td>\n",
       "      <td>26.9</td>\n",
       "      <td>2%</td>\n",
       "      <td>40 : 60</td>\n",
       "      <td>Archaeology,Mechanical &amp; Aerospace Engineering...</td>\n",
       "      <td>False</td>\n",
       "      <td>1801+</td>\n",
       "    </tr>\n",
       "    <tr>\n",
       "      <th>2066</th>\n",
       "      <td>20670</td>\n",
       "      <td>10.5</td>\n",
       "      <td>20670</td>\n",
       "      <td>14.2</td>\n",
       "      <td>1950</td>\n",
       "      <td>10.6</td>\n",
       "      <td>1711</td>\n",
       "      <td>39.3</td>\n",
       "      <td>1361</td>\n",
       "      <td>21.0</td>\n",
       "      <td>...</td>\n",
       "      <td>0</td>\n",
       "      <td>707981</td>\n",
       "      <td>Other</td>\n",
       "      <td>23476.0</td>\n",
       "      <td>18.3</td>\n",
       "      <td>0%</td>\n",
       "      <td>51 : 49</td>\n",
       "      <td>General Engineering,Mathematics &amp; Statistics,L...</td>\n",
       "      <td>False</td>\n",
       "      <td>1801+</td>\n",
       "    </tr>\n",
       "    <tr>\n",
       "      <th>2089</th>\n",
       "      <td>20900</td>\n",
       "      <td>10.5</td>\n",
       "      <td>20900</td>\n",
       "      <td>24.8</td>\n",
       "      <td>1098</td>\n",
       "      <td>8.8</td>\n",
       "      <td>1993</td>\n",
       "      <td>8.7</td>\n",
       "      <td>2052</td>\n",
       "      <td>20.9</td>\n",
       "      <td>...</td>\n",
       "      <td>0</td>\n",
       "      <td>715426</td>\n",
       "      <td>Other</td>\n",
       "      <td>13923.0</td>\n",
       "      <td>8.0</td>\n",
       "      <td>3%</td>\n",
       "      <td>53 : 47</td>\n",
       "      <td>Mathematics &amp; Statistics,Biological Sciences,P...</td>\n",
       "      <td>False</td>\n",
       "      <td>1801+</td>\n",
       "    </tr>\n",
       "  </tbody>\n",
       "</table>\n",
       "<p>68 rows × 24 columns</p>\n",
       "</div>"
      ]
     },
     "execution_count": 15,
     "metadata": {},
     "output_type": "execute_result"
    }
   ],
   "execution_count": 15
  },
  {
   "metadata": {
    "ExecuteTime": {
     "end_time": "2024-12-25T22:36:18.172431Z",
     "start_time": "2024-12-25T22:36:18.162473Z"
    }
   },
   "cell_type": "code",
   "source": "data['location'].value_counts(  )",
   "id": "d52b9c916a18804e",
   "outputs": [
    {
     "data": {
      "text/plain": [
       "location\n",
       "United States     174\n",
       "Japan             119\n",
       "United Kingdom    107\n",
       "India             107\n",
       "China              94\n",
       "                 ... \n",
       "Cyprus              4\n",
       "Latvia              4\n",
       "Kazakhstan          4\n",
       "Bulgaria            4\n",
       "Slovenia            4\n",
       "Name: count, Length: 70, dtype: int64"
      ]
     },
     "execution_count": 16,
     "metadata": {},
     "output_type": "execute_result"
    }
   ],
   "execution_count": 16
  },
  {
   "metadata": {
    "ExecuteTime": {
     "end_time": "2024-12-25T22:36:18.418693Z",
     "start_time": "2024-12-25T22:36:18.406815Z"
    }
   },
   "cell_type": "code",
   "source": [
    "data['subjects_offered length'] = data['subjects_offered'].str.split(',').str.len()\n",
    "data.drop('subjects_offered', axis=1, inplace=True)"
   ],
   "id": "a082d56683506228",
   "outputs": [],
   "execution_count": 17
  },
  {
   "metadata": {
    "ExecuteTime": {
     "end_time": "2024-12-25T22:36:18.589679Z",
     "start_time": "2024-12-25T22:36:18.576575Z"
    }
   },
   "cell_type": "code",
   "source": [
    "data['stats_pc_intl_students'] = data['stats_pc_intl_students'].str.replace('%', '').astype(float) / 100\n",
    "data['stats_female_ratio'] = data['stats_female_male_ratio'].str.split(':').str[0].astype(float) / 100\n",
    "data.drop('stats_female_male_ratio' , axis=1, inplace=True)\n",
    "data['stats_female_ratio'].fillna(data['stats_female_ratio'].mean(), inplace=True)"
   ],
   "id": "e6a8183688fe9d3e",
   "outputs": [
    {
     "name": "stderr",
     "output_type": "stream",
     "text": [
      "C:\\Users\\firat\\AppData\\Local\\Temp\\ipykernel_8144\\178292832.py:4: FutureWarning: A value is trying to be set on a copy of a DataFrame or Series through chained assignment using an inplace method.\n",
      "The behavior will change in pandas 3.0. This inplace method will never work because the intermediate object on which we are setting values always behaves as a copy.\n",
      "\n",
      "For example, when doing 'df[col].method(value, inplace=True)', try using 'df.method({col: value}, inplace=True)' or df[col] = df[col].method(value) instead, to perform the operation inplace on the original object.\n",
      "\n",
      "\n",
      "  data['stats_female_ratio'].fillna(data['stats_female_ratio'].mean(), inplace=True)\n"
     ]
    }
   ],
   "execution_count": 18
  },
  {
   "metadata": {
    "ExecuteTime": {
     "end_time": "2024-12-25T22:36:18.855253Z",
     "start_time": "2024-12-25T22:36:18.848663Z"
    }
   },
   "cell_type": "code",
   "source": "data.isnull().sum()",
   "id": "71f4139d423573cb",
   "outputs": [
    {
     "data": {
      "text/plain": [
       "rank_order                           0\n",
       "scores_overall                       0\n",
       "scores_overall_rank                  0\n",
       "scores_teaching                      0\n",
       "scores_teaching_rank                 0\n",
       "scores_research                      0\n",
       "scores_research_rank                 0\n",
       "scores_citations                     0\n",
       "scores_citations_rank                0\n",
       "scores_industry_income               0\n",
       "scores_industry_income_rank          0\n",
       "scores_international_outlook         0\n",
       "scores_international_outlook_rank    0\n",
       "record_type                          0\n",
       "member_level                         0\n",
       "nid                                  0\n",
       "location                             0\n",
       "stats_number_students                0\n",
       "stats_student_staff_ratio            0\n",
       "stats_pc_intl_students               0\n",
       "disabled                             0\n",
       "label                                0\n",
       "subjects_offered length              0\n",
       "stats_female_ratio                   0\n",
       "dtype: int64"
      ]
     },
     "execution_count": 19,
     "metadata": {},
     "output_type": "execute_result"
    }
   ],
   "execution_count": 19
  },
  {
   "metadata": {
    "ExecuteTime": {
     "end_time": "2024-12-25T22:36:18.950916Z",
     "start_time": "2024-12-25T22:36:18.946132Z"
    }
   },
   "cell_type": "code",
   "source": "data = data[[ 'location', 'stats_number_students', 'stats_pc_intl_students', 'stats_student_staff_ratio','scores_teaching', 'scores_research', 'scores_citations', 'scores_industry_income', 'scores_international_outlook','member_level','subjects_offered length','record_type','disabled']]\n",
   "id": "e5f8adb12c7c2ff8",
   "outputs": [],
   "execution_count": 20
  },
  {
   "metadata": {
    "ExecuteTime": {
     "end_time": "2024-12-25T22:36:20.620364Z",
     "start_time": "2024-12-25T22:36:19.034366Z"
    }
   },
   "cell_type": "code",
   "source": [
    "# Ensure datetime columns are converted to a suitable string format\n",
    "datetime_columns = data.select_dtypes(include=['datetime']).columns\n",
    "for col in datetime_columns:\n",
    "    data[col] = pd.to_datetime(data[col]).dt.strftime('%Y-%m-%d')\n",
    "\n",
    "# Identify categorical columns\n",
    "categorical_columns = data.select_dtypes(include=['object']).columns\n",
    "\n",
    "# Get the indices of categorical columns\n",
    "categorical_features = [data.columns.get_loc(c) for c in categorical_columns]\n",
    "\n",
    "# Apply SMOTE-NC\n",
    "smote_nc = SMOTENC(categorical_features=categorical_features, random_state=42, k_neighbors=5, n_jobs=-1)\n",
    "\n",
    "# Convert categorical columns to 'category' dtype\n",
    "for col in categorical_columns:\n",
    "    data[col] = data[col].astype('category')\n",
    "\n",
    "# Perform oversampling with SMOTE-NC with new 1000 samples\n",
    "data_resampled, target_resampled = smote_nc.fit_resample(data, target)\n",
    "\n",
    "\n",
    "print(f\"Previous class distribution: {dict(pd.Series(target).value_counts())}\")\n",
    "print(f\"New class distribution: {dict(pd.Series(target_resampled).value_counts())}\")"
   ],
   "id": "a4ed5f14fe7d89a1",
   "outputs": [
    {
     "name": "stderr",
     "output_type": "stream",
     "text": [
      "C:\\Users\\firat\\anaconda3\\Lib\\site-packages\\imblearn\\over_sampling\\_smote\\base.py:619: FutureWarning: The parameter `n_jobs` has been deprecated in 0.10 and will be removed in 0.12. You can pass an nearest neighbors estimator where `n_jobs` is already set instead.\n",
      "  warnings.warn(\n",
      "C:\\Users\\firat\\anaconda3\\Lib\\site-packages\\imblearn\\over_sampling\\_smote\\base.py:345: FutureWarning: The parameter `n_jobs` has been deprecated in 0.10 and will be removed in 0.12. You can pass an nearest neighbors estimator where `n_jobs` is already set instead.\n",
      "  warnings.warn(\n"
     ]
    },
    {
     "name": "stdout",
     "output_type": "stream",
     "text": [
      "Previous class distribution: {'1-300': 300, '401-700': 300, '1801+': 292, '701-900': 200, '901-1100': 200, '301-400': 100, '1101-1200': 100, '1201-1300': 100, '1301-1400': 100, '1401-1500': 100, '1501-1600': 100, '1601-1700': 100, '1701-1800': 100}\n",
      "New class distribution: {'1-300': 300, '301-400': 300, '401-700': 300, '701-900': 300, '901-1100': 300, '1101-1200': 300, '1201-1300': 300, '1301-1400': 300, '1401-1500': 300, '1501-1600': 300, '1601-1700': 300, '1701-1800': 300, '1801+': 300}\n"
     ]
    }
   ],
   "execution_count": 21
  },
  {
   "metadata": {},
   "cell_type": "markdown",
   "source": "# Model Building",
   "id": "a76c3a7b6934e59c"
  },
  {
   "metadata": {
    "ExecuteTime": {
     "end_time": "2024-12-25T22:36:20.659756Z",
     "start_time": "2024-12-25T22:36:20.635444Z"
    }
   },
   "cell_type": "code",
   "source": [
    "# Label encoding\n",
    "dummy = ['member_level', 'record_type', 'disabled']\n",
    "label_en = 'location'\n",
    "\n",
    "label_encoder = LabelEncoder()\n",
    "data_resampled[label_en] = label_encoder.fit_transform(data_resampled['location'])\n",
    "\n",
    "# One-hot encoding\n",
    "one_hot = OneHotEncoder(sparse=False)\n",
    "one_hot_encoded = one_hot.fit_transform(data_resampled[dummy])\n",
    "\n",
    "# Create a DataFrame from the one-hot encoded array\n",
    "one_hot_df = pd.DataFrame(one_hot_encoded, columns=one_hot.get_feature_names_out(dummy))\n",
    "\n",
    "# Concatenate the one-hot encoded DataFrame with the original DataFrame\n",
    "data_resampled = pd.concat([data_resampled, one_hot_df], axis=1)\n",
    "\n",
    "# Drop the original columns that were one-hot encoded\n",
    "data_resampled.drop(columns=dummy, inplace=True)"
   ],
   "id": "51fcb6d2d244f792",
   "outputs": [
    {
     "name": "stderr",
     "output_type": "stream",
     "text": [
      "C:\\Users\\firat\\anaconda3\\Lib\\site-packages\\sklearn\\preprocessing\\_encoders.py:868: FutureWarning: `sparse` was renamed to `sparse_output` in version 1.2 and will be removed in 1.4. `sparse_output` is ignored unless you leave `sparse` to its default value.\n",
      "  warnings.warn(\n"
     ]
    }
   ],
   "execution_count": 22
  },
  {
   "metadata": {
    "ExecuteTime": {
     "end_time": "2024-12-25T22:36:20.735292Z",
     "start_time": "2024-12-25T22:36:20.723736Z"
    }
   },
   "cell_type": "code",
   "source": [
    "X_train, X_test, y_train, y_test = train_test_split(data_resampled, target_resampled, test_size=0.3, random_state=42,stratify=target_resampled)\n",
    "\n",
    "\n"
   ],
   "id": "6786c5eb2655abfe",
   "outputs": [],
   "execution_count": 23
  },
  {
   "metadata": {
    "ExecuteTime": {
     "end_time": "2024-12-25T22:36:20.819825Z",
     "start_time": "2024-12-25T22:36:20.812789Z"
    }
   },
   "cell_type": "code",
   "source": [
    "X_train.shape, X_test.shape, y_train.shape, y_test.shape\n",
    "\n"
   ],
   "id": "fb6d055711fe732e",
   "outputs": [
    {
     "data": {
      "text/plain": [
       "((2730, 27), (1170, 27), (2730,), (1170,))"
      ]
     },
     "execution_count": 24,
     "metadata": {},
     "output_type": "execute_result"
    }
   ],
   "execution_count": 24
  },
  {
   "metadata": {
    "ExecuteTime": {
     "end_time": "2024-12-25T22:36:20.915718Z",
     "start_time": "2024-12-25T22:36:20.901598Z"
    }
   },
   "cell_type": "code",
   "source": [
    "# Convert all columns to numeric, coercing errors to NaN\n",
    "X_train = X_train.apply(pd.to_numeric, errors='coerce')\n",
    "X_test = X_test.apply(pd.to_numeric, errors='coerce')\n",
    "\n",
    "# Fill NaN values with a specific value or handle them as needed\n",
    "X_train.fillna(0, inplace=True)  # Example: filling NaN with 0\n",
    "X_test.fillna(0, inplace=True)   # Example: filling NaN with 0\n"
   ],
   "id": "3cfefc8fd3e7b64",
   "outputs": [],
   "execution_count": 25
  },
  {
   "metadata": {
    "ExecuteTime": {
     "end_time": "2024-12-25T22:36:36.136987Z",
     "start_time": "2024-12-25T22:36:20.974045Z"
    }
   },
   "cell_type": "code",
   "source": [
    "# Model training and evaluation\n",
    "models = {\n",
    "    'Gradient Boosting': GradientBoostingClassifier(),\n",
    "    'Random Forest': RandomForestClassifier(),\n",
    "    'Decision Tree': DecisionTreeClassifier(),\n",
    "    'K-Nearest Neighbors': KNeighborsClassifier(),\n",
    "    'Naive Bayes': GaussianNB(),\n",
    "    'Logistic Regression': LogisticRegression(),\n",
    "    'Support Vector Machine': SVC(kernel='rbf', C=1e5, gamma='auto')\n",
    "}\n",
    "\n",
    "for name, model in models.items():\n",
    "    model.fit(X_train, y_train)\n",
    "    y_pred = model.predict(X_test)\n",
    "    print(f\"{name} Accuracy: {mt.accuracy_score(y_test, y_pred)}\")"
   ],
   "id": "5bbba0cbfc0163f",
   "outputs": [
    {
     "name": "stdout",
     "output_type": "stream",
     "text": [
      "Gradient Boosting Accuracy: 0.6452991452991453\n",
      "Random Forest Accuracy: 0.7282051282051282\n",
      "Decision Tree Accuracy: 0.5854700854700855\n",
      "K-Nearest Neighbors Accuracy: 0.2675213675213675\n",
      "Naive Bayes Accuracy: 0.4427350427350427\n"
     ]
    },
    {
     "name": "stderr",
     "output_type": "stream",
     "text": [
      "C:\\Users\\firat\\anaconda3\\Lib\\site-packages\\sklearn\\linear_model\\_logistic.py:458: ConvergenceWarning: lbfgs failed to converge (status=1):\n",
      "STOP: TOTAL NO. of ITERATIONS REACHED LIMIT.\n",
      "\n",
      "Increase the number of iterations (max_iter) or scale the data as shown in:\n",
      "    https://scikit-learn.org/stable/modules/preprocessing.html\n",
      "Please also refer to the documentation for alternative solver options:\n",
      "    https://scikit-learn.org/stable/modules/linear_model.html#logistic-regression\n",
      "  n_iter_i = _check_optimize_result(\n"
     ]
    },
    {
     "name": "stdout",
     "output_type": "stream",
     "text": [
      "Logistic Regression Accuracy: 0.24358974358974358\n",
      "Support Vector Machine Accuracy: 0.13418803418803418\n"
     ]
    }
   ],
   "execution_count": 26
  },
  {
   "metadata": {
    "ExecuteTime": {
     "end_time": "2024-12-25T22:36:37.194721Z",
     "start_time": "2024-12-25T22:36:36.186478Z"
    }
   },
   "cell_type": "code",
   "source": [
    "# Feature Importance\n",
    "\n",
    "model = RandomForestClassifier(random_state=42, n_estimators=100, max_depth=5)\n",
    "model.fit(X_train, y_train)\n",
    "mt.accuracy_score(y_test, model.predict(X_test))\n",
    "\n",
    "importances = model.feature_importances_\n",
    "indices = np.argsort(importances)[::-1]\n",
    "features = X_train.columns\n",
    "\n",
    "plt.figure(figsize=(10, 6))\n",
    "plt.title('Feature Importances')\n",
    "plt.bar(range(X_train.shape[1]), importances[indices], align='center')\n",
    "plt.xticks(range(X_train.shape[1]), [features[i] for i in indices], rotation=90)\n",
    "\n",
    "plt.show()\n"
   ],
   "id": "145fd70c03bd60b7",
   "outputs": [
    {
     "data": {
      "text/plain": [
       "<Figure size 1000x600 with 1 Axes>"
      ],
      "image/png": "[encoded data removed]"
     },
     "metadata": {},
     "output_type": "display_data"
    }
   ],
   "execution_count": 27
  },
  {
   "metadata": {
    "ExecuteTime": {
     "end_time": "2024-12-25T22:36:37.286367Z",
     "start_time": "2024-12-25T22:36:37.278782Z"
    }
   },
   "cell_type": "code",
   "source": [
    "# Hyperparameter Tuning\n",
    "\n",
    "\n",
    "# Create the parameter grid based on the results of random search\n",
    "'''\n",
    "param_grid = {\n",
    "    'bootstrap': [True],\n",
    "    'max_depth': [50,100],\n",
    "    'max_features': [6,7,8],\n",
    "    'min_samples_leaf': [2,3],\n",
    "    'min_samples_split': [6,8],\n",
    "    'n_estimators': [800,1000]\n",
    "}\n",
    "\n",
    "# Create a based model\n",
    "rf = RandomForestClassifier()\n",
    "\n",
    "# Instantiate the grid search model\n",
    "grid_search = GridSearchCV(estimator = rf, param_grid = param_grid, \n",
    "                          cv = 3, verbose = 2, scoring='accuracy')\n",
    "\n",
    "# Fit the grid search to the data\n",
    "grid_search.fit(X_train, y_train)\n",
    "\n",
    "grid_search.best_params_\n",
    "'''\n",
    "\n"
   ],
   "id": "5586cd6cbdacdceb",
   "outputs": [
    {
     "data": {
      "text/plain": [
       "\"\\nparam_grid = {\\n    'bootstrap': [True],\\n    'max_depth': [50,100],\\n    'max_features': [6,7,8],\\n    'min_samples_leaf': [2,3],\\n    'min_samples_split': [6,8],\\n    'n_estimators': [800,1000]\\n}\\n\\n# Create a based model\\nrf = RandomForestClassifier()\\n\\n# Instantiate the grid search model\\ngrid_search = GridSearchCV(estimator = rf, param_grid = param_grid, \\n                          cv = 3, verbose = 2, scoring='accuracy')\\n\\n# Fit the grid search to the data\\ngrid_search.fit(X_train, y_train)\\n\\ngrid_search.best_params_\\n\""
      ]
     },
     "execution_count": 28,
     "metadata": {},
     "output_type": "execute_result"
    }
   ],
   "execution_count": 28
  },
  {
   "metadata": {
    "ExecuteTime": {
     "end_time": "2024-12-25T22:36:37.375099Z",
     "start_time": "2024-12-25T22:36:37.368580Z"
    }
   },
   "cell_type": "code",
   "source": [
    "\n",
    "\n",
    "param = {\n",
    "    'n_estimators': 1000,\n",
    "    'min_samples_split': 4,\n",
    "    'min_samples_leaf': 2,\n",
    "    'max_features': 8,\n",
    "    'max_depth': 100,\n",
    "    'bootstrap': True,\n",
    "    'random_state': 42,\n",
    "    'verbose': 1,\n",
    "    'class_weight': 'balanced'\n",
    "}\n"
   ],
   "id": "ef09fecbcbd58950",
   "outputs": [],
   "execution_count": 29
  },
  {
   "metadata": {
    "ExecuteTime": {
     "end_time": "2024-12-25T22:55:54.593646Z",
     "start_time": "2024-12-25T22:55:45.752444Z"
    }
   },
   "cell_type": "code",
   "source": [
    "\n",
    "model = RandomForestClassifier(**param)\n",
    "\n",
    "model.fit(X_train, y_train)\n",
    "\n",
    "y_pred = model.predict(X_test)\n",
    "\n",
    "mt.accuracy_score(y_test, y_pred),mt.f1_score(y_test, y_pred, average='weighted')\n"
   ],
   "id": "83ab702ba9186d11",
   "outputs": [
    {
     "name": "stderr",
     "output_type": "stream",
     "text": [
      "[Parallel(n_jobs=1)]: Using backend SequentialBackend with 1 concurrent workers.\n",
      "[Parallel(n_jobs=1)]: Done 1000 out of 1000 | elapsed:    8.1s finished\n",
      "[Parallel(n_jobs=1)]: Using backend SequentialBackend with 1 concurrent workers.\n",
      "[Parallel(n_jobs=1)]: Done 1000 out of 1000 | elapsed:    0.1s finished\n"
     ]
    },
    {
     "data": {
      "text/plain": [
       "0.7277408663084513"
      ]
     },
     "execution_count": 41,
     "metadata": {},
     "output_type": "execute_result"
    }
   ],
   "execution_count": 41
  },
  {
   "metadata": {
    "ExecuteTime": {
     "end_time": "2024-12-25T22:38:44.866385Z",
     "start_time": "2024-12-25T22:38:44.829575Z"
    }
   },
   "cell_type": "code",
   "source": [
    "sorted_labels = [\n",
    "    '1-300', '301-400', '401-700', '701-900', '901-1100', '1101-1200',\n",
    "    '1201-1300', '1301-1400', '1401-1500', '1501-1600', '1601-1700',\n",
    "    '1701-1800', '1801+'\n",
    "]\n",
    "\n",
    "# Generate the classification report with sorted labels\n",
    "report = classification_report(y_test, y_pred, labels=sorted_labels)\n",
    "print(report)"
   ],
   "id": "b40b0273b77de7a5",
   "outputs": [
    {
     "name": "stdout",
     "output_type": "stream",
     "text": [
      "              precision    recall  f1-score   support\n",
      "\n",
      "       1-300       0.96      0.94      0.95        90\n",
      "     301-400       0.84      0.90      0.87        90\n",
      "     401-700       0.74      0.66      0.69        90\n",
      "     701-900       0.64      0.68      0.66        90\n",
      "    901-1100       0.67      0.60      0.63        90\n",
      "   1101-1200       0.75      0.84      0.79        90\n",
      "   1201-1300       0.78      0.62      0.69        90\n",
      "   1301-1400       0.69      0.71      0.70        90\n",
      "   1401-1500       0.65      0.82      0.73        90\n",
      "   1501-1600       0.76      0.72      0.74        90\n",
      "   1601-1700       0.70      0.68      0.69        90\n",
      "   1701-1800       0.74      0.71      0.72        90\n",
      "       1801+       0.60      0.59      0.59        90\n",
      "\n",
      "    accuracy                           0.73      1170\n",
      "   macro avg       0.73      0.73      0.73      1170\n",
      "weighted avg       0.73      0.73      0.73      1170\n",
      "\n"
     ]
    }
   ],
   "execution_count": 36
  },
  {
   "metadata": {
    "ExecuteTime": {
     "end_time": "2024-12-25T22:39:35.607586Z",
     "start_time": "2024-12-25T22:39:35.218637Z"
    }
   },
   "cell_type": "code",
   "source": [
    "import matplotlib.pyplot as plt\n",
    "import seaborn as sns\n",
    "from sklearn.metrics import confusion_matrix\n",
    "\n",
    "# Generate the confusion matrix\n",
    "cm = confusion_matrix(y_test, y_pred, labels=sorted_labels)\n",
    "\n",
    "# Plot the confusion matrix\n",
    "plt.figure(figsize=(10, 6))\n",
    "sns.heatmap(cm, annot=True, fmt='d', cmap='Blues', xticklabels=sorted_labels, yticklabels=sorted_labels)\n",
    "plt.xlabel('Predicted')\n",
    "plt.ylabel('Actual')\n",
    "plt.title('Confusion Matrix')\n",
    "plt.show()"
   ],
   "id": "c5550608b6521ff2",
   "outputs": [
    {
     "data": {
      "text/plain": [
       "<Figure size 1000x600 with 2 Axes>"
      ],
      "image/png": "[encoded data removed]"
     },
     "metadata": {},
     "output_type": "display_data"
    }
   ],
   "execution_count": 40
  },
  {
   "metadata": {},
   "cell_type": "code",
   "outputs": [],
   "execution_count": null,
   "source": "\n",
   "id": "9e3c26f5c53e1dc6"
  }
 ],
 "metadata": {
  "kernelspec": {
   "display_name": "Python 3",
   "language": "python",
   "name": "python3"
  },
  "language_info": {
   "codemirror_mode": {
    "name": "ipython",
    "version": 2
   },
   "file_extension": ".py",
   "mimetype": "text/x-python",
   "name": "python",
   "nbconvert_exporter": "python",
   "pygments_lexer": "ipython2",
   "version": "2.7.6"
  }
 },
 "nbformat": 4,
 "nbformat_minor": 5
}
