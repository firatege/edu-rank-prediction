{
 "cells": [
  {
   "metadata": {},
   "cell_type": "markdown",
   "source": [
    "# EDU RANK PREDICTION on THE\n",
    "\n",
    "## Introduction\n",
    "\n",
    "This notebook is a part of the project for the department of Data Management at Dokuz Eylul University. \n",
    "\n",
    "\n"
   ],
   "id": "e8590d905d791ca"
  },
  {
   "metadata": {
    "ExecuteTime": {
     "end_time": "2024-12-04T08:43:13.567788Z",
     "start_time": "2024-12-04T08:43:13.560276Z"
    }
   },
   "cell_type": "code",
   "source": "# how can ı const the path",
   "id": "22cec3a2b8bd61bf",
   "outputs": [],
   "execution_count": 559
  },
  {
   "metadata": {
    "ExecuteTime": {
     "end_time": "2024-12-04T08:43:13.609305Z",
     "start_time": "2024-12-04T08:43:13.602271Z"
    }
   },
   "cell_type": "code",
   "source": [
    "from sympy.integrals.meijerint_doc import category\n",
    "from xgboost.dask import predict\n",
    "\n",
    "DATA_PATH = \"../data/\"\n",
    "SRC_PATH = \"../src/\"\n",
    "\n"
   ],
   "id": "ab3898f84e2e5262",
   "outputs": [],
   "execution_count": 560
  },
  {
   "metadata": {
    "ExecuteTime": {
     "end_time": "2024-12-04T08:43:13.725434Z",
     "start_time": "2024-12-04T08:43:13.720431Z"
    }
   },
   "cell_type": "code",
   "source": [
    "import pandas as pd\n",
    "import numpy as np\n",
    "import matplotlib.pyplot as plt\n",
    "import seaborn as sns\n"
   ],
   "id": "a338366908111b5",
   "outputs": [],
   "execution_count": 561
  },
  {
   "metadata": {
    "ExecuteTime": {
     "end_time": "2024-12-04T08:43:14.532263Z",
     "start_time": "2024-12-04T08:43:13.735628Z"
    }
   },
   "cell_type": "code",
   "source": [
    "# Load the data\n",
    "data = pd.read_excel(DATA_PATH + \"THE.xlsx\")"
   ],
   "id": "8ddc5888567af5bb",
   "outputs": [],
   "execution_count": 562
  },
  {
   "metadata": {
    "ExecuteTime": {
     "end_time": "2024-12-04T08:43:14.596530Z",
     "start_time": "2024-12-04T08:43:14.591887Z"
    }
   },
   "cell_type": "code",
   "source": "data = data.iloc[:2092] # drop the rank column has NaN values",
   "id": "92346cc4355dc684",
   "outputs": [],
   "execution_count": 563
  },
  {
   "metadata": {
    "ExecuteTime": {
     "end_time": "2024-12-04T08:43:14.659203Z",
     "start_time": "2024-12-04T08:43:14.650367Z"
    }
   },
   "cell_type": "code",
   "source": "data.shape # 2092 rows and 29 columns\n",
   "id": "798a44080bbc1772",
   "outputs": [
    {
     "data": {
      "text/plain": [
       "(2092, 29)"
      ]
     },
     "execution_count": 564,
     "metadata": {},
     "output_type": "execute_result"
    }
   ],
   "execution_count": 564
  },
  {
   "metadata": {
    "ExecuteTime": {
     "end_time": "2024-12-04T08:43:14.725365Z",
     "start_time": "2024-12-04T08:43:14.712298Z"
    }
   },
   "cell_type": "code",
   "source": "data.info()",
   "id": "4662a599c25abf91",
   "outputs": [
    {
     "name": "stdout",
     "output_type": "stream",
     "text": [
      "<class 'pandas.core.frame.DataFrame'>\n",
      "RangeIndex: 2092 entries, 0 to 2091\n",
      "Data columns (total 29 columns):\n",
      " #   Column                             Non-Null Count  Dtype  \n",
      "---  ------                             --------------  -----  \n",
      " 0   rank_order                         2092 non-null   int64  \n",
      " 1   rank                               2092 non-null   object \n",
      " 2   name                               2092 non-null   object \n",
      " 3   scores_overall                     2092 non-null   object \n",
      " 4   scores_overall_rank                2092 non-null   int64  \n",
      " 5   scores_teaching                    2092 non-null   float64\n",
      " 6   scores_teaching_rank               2092 non-null   int64  \n",
      " 7   scores_research                    2092 non-null   float64\n",
      " 8   scores_research_rank               2092 non-null   int64  \n",
      " 9   scores_citations                   2092 non-null   float64\n",
      " 10  scores_citations_rank              2092 non-null   int64  \n",
      " 11  scores_industry_income             2092 non-null   float64\n",
      " 12  scores_industry_income_rank        2092 non-null   int64  \n",
      " 13  scores_international_outlook       2092 non-null   float64\n",
      " 14  scores_international_outlook_rank  2092 non-null   int64  \n",
      " 15  record_type                        2092 non-null   object \n",
      " 16  member_level                       2092 non-null   int64  \n",
      " 17  url                                2092 non-null   object \n",
      " 18  nid                                2092 non-null   int64  \n",
      " 19  location                           2092 non-null   object \n",
      " 20  stats_number_students              2092 non-null   object \n",
      " 21  stats_student_staff_ratio          2092 non-null   float64\n",
      " 22  stats_pc_intl_students             2092 non-null   object \n",
      " 23  stats_female_male_ratio            2011 non-null   object \n",
      " 24  aliases                            2092 non-null   object \n",
      " 25  subjects_offered                   2092 non-null   object \n",
      " 26  closed                             2092 non-null   bool   \n",
      " 27  unaccredited                       2092 non-null   bool   \n",
      " 28  disabled                           2092 non-null   bool   \n",
      "dtypes: bool(3), float64(6), int64(9), object(11)\n",
      "memory usage: 431.2+ KB\n"
     ]
    }
   ],
   "execution_count": 565
  },
  {
   "metadata": {
    "ExecuteTime": {
     "end_time": "2024-12-04T08:43:14.794890Z",
     "start_time": "2024-12-04T08:43:14.783197Z"
    }
   },
   "cell_type": "code",
   "source": "data.isnull().sum()",
   "id": "47cb4387ee4e6797",
   "outputs": [
    {
     "data": {
      "text/plain": [
       "rank_order                            0\n",
       "rank                                  0\n",
       "name                                  0\n",
       "scores_overall                        0\n",
       "scores_overall_rank                   0\n",
       "scores_teaching                       0\n",
       "scores_teaching_rank                  0\n",
       "scores_research                       0\n",
       "scores_research_rank                  0\n",
       "scores_citations                      0\n",
       "scores_citations_rank                 0\n",
       "scores_industry_income                0\n",
       "scores_industry_income_rank           0\n",
       "scores_international_outlook          0\n",
       "scores_international_outlook_rank     0\n",
       "record_type                           0\n",
       "member_level                          0\n",
       "url                                   0\n",
       "nid                                   0\n",
       "location                              0\n",
       "stats_number_students                 0\n",
       "stats_student_staff_ratio             0\n",
       "stats_pc_intl_students                0\n",
       "stats_female_male_ratio              81\n",
       "aliases                               0\n",
       "subjects_offered                      0\n",
       "closed                                0\n",
       "unaccredited                          0\n",
       "disabled                              0\n",
       "dtype: int64"
      ]
     },
     "execution_count": 566,
     "metadata": {},
     "output_type": "execute_result"
    }
   ],
   "execution_count": 566
  },
  {
   "metadata": {
    "ExecuteTime": {
     "end_time": "2024-12-04T08:43:14.899668Z",
     "start_time": "2024-12-04T08:43:14.890261Z"
    }
   },
   "cell_type": "code",
   "source": [
    "#data.loc[data['closed'] == 1] No closed universities\n",
    "data.drop('closed', axis=1, inplace=True)"
   ],
   "id": "9d03d5cad2fc9791",
   "outputs": [],
   "execution_count": 567
  },
  {
   "metadata": {
    "ExecuteTime": {
     "end_time": "2024-12-04T08:43:14.958689Z",
     "start_time": "2024-12-04T08:43:14.949479Z"
    }
   },
   "cell_type": "code",
   "source": "data['rank'].value_counts() ",
   "id": "c93c2600c77a613e",
   "outputs": [
    {
     "data": {
      "text/plain": [
       "rank\n",
       "1501+        591\n",
       "1201–1500    302\n",
       "601–800      203\n",
       "1001–1200    200\n",
       "801–1000     195\n",
       "            ... \n",
       "44             1\n",
       "43             1\n",
       "42             1\n",
       "41             1\n",
       "89             1\n",
       "Name: count, Length: 142, dtype: int64"
      ]
     },
     "execution_count": 568,
     "metadata": {},
     "output_type": "execute_result"
    }
   ],
   "execution_count": 568
  },
  {
   "metadata": {
    "ExecuteTime": {
     "end_time": "2024-12-04T08:43:15.040641Z",
     "start_time": "2024-12-04T08:43:15.034073Z"
    }
   },
   "cell_type": "code",
   "source": [
    "data['rank'] = data['rank'].astype(str)\n",
    "data['stats_number_students'] = data['stats_number_students'].str.replace(',', '').astype(float)\n"
   ],
   "id": "6ce434a6e09fe968",
   "outputs": [],
   "execution_count": 569
  },
  {
   "metadata": {
    "ExecuteTime": {
     "end_time": "2024-12-04T08:43:15.107659Z",
     "start_time": "2024-12-04T08:43:15.098592Z"
    }
   },
   "cell_type": "code",
   "source": [
    "# Verilerin tipini ve boş değerlerini kontrol edelim\n",
    "data['rank_order'] = pd.to_numeric(data['rank_order'], errors='coerce')  # String değerleri NaN yapar\n",
    "\n",
    "# Rank değerlerini kategorilere ayırma\n",
    "def categorize_rank(rank):\n",
    "    if pd.isna(rank):  # Eğer rank değeri NaN ise\n",
    "        return None  # İsteğe göre 'Unknown' da döndürülebilir\n",
    "    elif rank <= 6000:\n",
    "        return '0-600'\n",
    "    elif rank <= 11000:\n",
    "        return '601-1100'\n",
    "    elif rank <= 13000:\n",
    "        return '1101-1300'\n",
    "    elif rank <= 14000:\n",
    "        return '1301-1400'\n",
    "    elif rank <= 15000:\n",
    "        return '1401-1500'\n",
    "    elif rank <= 16000:\n",
    "        return '1501-1600'\n",
    "    elif rank <= 17000:\n",
    "        return '1601-1700'\n",
    "    elif rank > 17000:\n",
    "        return '1700+'\n",
    "\n",
    "# Kategorileri ata\n",
    "data['label'] = data['rank_order'].apply(categorize_rank)\n"
   ],
   "id": "b92c27fcc2644b53",
   "outputs": [],
   "execution_count": 570
  },
  {
   "metadata": {
    "ExecuteTime": {
     "end_time": "2024-12-04T08:43:15.156028Z",
     "start_time": "2024-12-04T08:43:15.149005Z"
    }
   },
   "cell_type": "code",
   "source": "data['label'].value_counts()",
   "id": "7ff934a9feb59893",
   "outputs": [
    {
     "data": {
      "text/plain": [
       "label\n",
       "0-600        600\n",
       "601-1100     500\n",
       "1700+        392\n",
       "1101-1300    200\n",
       "1301-1400    100\n",
       "1401-1500    100\n",
       "1501-1600    100\n",
       "1601-1700    100\n",
       "Name: count, dtype: int64"
      ]
     },
     "execution_count": 571,
     "metadata": {},
     "output_type": "execute_result"
    }
   ],
   "execution_count": 571
  },
  {
   "metadata": {
    "ExecuteTime": {
     "end_time": "2024-12-04T08:43:15.251700Z",
     "start_time": "2024-12-04T08:43:15.248183Z"
    }
   },
   "cell_type": "code",
   "source": "target = data['label']",
   "id": "ba95af4f87254db0",
   "outputs": [],
   "execution_count": 572
  },
  {
   "metadata": {
    "ExecuteTime": {
     "end_time": "2024-12-04T08:43:15.311457Z",
     "start_time": "2024-12-04T08:43:15.302594Z"
    }
   },
   "cell_type": "code",
   "source": "data.drop(['rank'], axis=1, inplace=True)\n",
   "id": "d62c5dfa93879960",
   "outputs": [],
   "execution_count": 573
  },
  {
   "metadata": {
    "ExecuteTime": {
     "end_time": "2024-12-04T08:43:15.385820Z",
     "start_time": "2024-12-04T08:43:15.357360Z"
    }
   },
   "cell_type": "code",
   "source": "data",
   "id": "d62dddc38d2a4f48",
   "outputs": [
    {
     "data": {
      "text/plain": [
       "      rank_order                                            name  \\\n",
       "0             10                            University of Oxford   \n",
       "1             20           Massachusetts Institute of Technology   \n",
       "2             30                              Harvard University   \n",
       "3             40                            Princeton University   \n",
       "4             50                         University of Cambridge   \n",
       "...          ...                                             ...   \n",
       "2087       20880                              Yanshan University   \n",
       "2088       20890                             Yeditepe University   \n",
       "2089       20900                        Yerevan State University   \n",
       "2090       20910  Yuriy Fedkovych Chernivtsi National University   \n",
       "2091       20920              Zonguldak Bülent Ecevit University   \n",
       "\n",
       "     scores_overall  scores_overall_rank  scores_teaching  \\\n",
       "0              98.5                   10             96.8   \n",
       "1              98.1                   20             99.2   \n",
       "2              97.7                   30             97.3   \n",
       "3              97.5                   40             98.3   \n",
       "4              97.4                   50             95.9   \n",
       "...             ...                  ...              ...   \n",
       "2087      10.5–25.1                20880             20.2   \n",
       "2088      10.5–25.1                20890             20.5   \n",
       "2089      10.5–25.1                20900             24.8   \n",
       "2090      10.5–25.1                20910             18.0   \n",
       "2091      10.5–25.1                20920             12.5   \n",
       "\n",
       "      scores_teaching_rank  scores_research  scores_research_rank  \\\n",
       "0                        5            100.0                     1   \n",
       "1                        1             96.0                    11   \n",
       "2                        4             99.9                     2   \n",
       "3                        2             98.0                     6   \n",
       "4                        6             99.9                     3   \n",
       "...                    ...              ...                   ...   \n",
       "2087                  1483             12.0                  1520   \n",
       "2088                  1454             12.1                  1506   \n",
       "2089                  1098              8.8                  1993   \n",
       "2090                  1705              9.8                  1841   \n",
       "2091                  2037             11.1                  1641   \n",
       "\n",
       "      scores_citations  scores_citations_rank  ...        location  \\\n",
       "0                 98.8                      8  ...  United Kingdom   \n",
       "1                 99.7                      1  ...   United States   \n",
       "2                 99.3                      3  ...   United States   \n",
       "3                 98.9                      7  ...   United States   \n",
       "4                 97.6                     17  ...  United Kingdom   \n",
       "...                ...                    ...  ...             ...   \n",
       "2087              39.7                   1353  ...           China   \n",
       "2088              22.1                   1795  ...          Turkey   \n",
       "2089               8.7                   2052  ...         Armenia   \n",
       "2090               8.8                   2050  ...         Ukraine   \n",
       "2091              25.1                   1722  ...          Turkey   \n",
       "\n",
       "      stats_number_students  stats_student_staff_ratio  \\\n",
       "0                   22095.0                       10.8   \n",
       "1                   11836.0                        8.0   \n",
       "2                   22584.0                       10.0   \n",
       "3                    8378.0                        7.8   \n",
       "4                   20980.0                       11.5   \n",
       "...                     ...                        ...   \n",
       "2087                39528.0                       13.0   \n",
       "2088                17506.0                       29.9   \n",
       "2089                13923.0                        8.0   \n",
       "2090                12377.0                       12.5   \n",
       "2091                22844.0                       22.9   \n",
       "\n",
       "      stats_pc_intl_students stats_female_male_ratio  \\\n",
       "0                        43%                 51 : 49   \n",
       "1                        33%                 42 : 58   \n",
       "2                        25%                 52 : 48   \n",
       "3                        23%                 47 : 53   \n",
       "4                        38%                 49 : 51   \n",
       "...                      ...                     ...   \n",
       "2087                      1%                 37 : 63   \n",
       "2088                      6%                 56 : 44   \n",
       "2089                      3%                 53 : 47   \n",
       "2090                      1%                 49 : 51   \n",
       "2091                     10%                 45 : 55   \n",
       "\n",
       "                                             aliases  \\\n",
       "0                               University of Oxford   \n",
       "1              Massachusetts Institute of Technology   \n",
       "2                                 Harvard University   \n",
       "3                               Princeton University   \n",
       "4                            University of Cambridge   \n",
       "...                                              ...   \n",
       "2087                              Yanshan University   \n",
       "2088                             Yeditepe University   \n",
       "2089                        Yerevan State University   \n",
       "2090  Yuriy Fedkovych Chernivtsi National University   \n",
       "2091              Zonguldak Bülent Ecevit University   \n",
       "\n",
       "                                                                                                                                                                                                                                                                                                                                                                                                                                                                                                                                                                                                                                            subjects_offered  \\\n",
       "0                    Computer Science,Languages, Literature & Linguistics,Mathematics & Statistics,Economics & Econometrics,Law,Accounting & Finance,Chemical Engineering,Archaeology,Communication & Media Studies,Civil Engineering,Education,Mechanical & Aerospace Engineering,Geology, Environmental, Earth & Marine Sciences,Psychology,Biological Sciences,Geography,Politics & International Studies (incl Development Studies),Other Health,General Engineering,Business & Management,Chemistry,Medicine & Dentistry,Art, Performing Arts & Design,Electrical & Electronic Engineering,Physics & Astronomy,History, Philosophy & Theology,Sociology   \n",
       "1                                                                         Biological Sciences,Electrical & Electronic Engineering,Languages, Literature & Linguistics,Economics & Econometrics,Psychology,Art, Performing Arts & Design,Physics & Astronomy,Mechanical & Aerospace Engineering,Sociology,Communication & Media Studies,Mathematics & Statistics,Architecture,General Engineering,Civil Engineering,Chemical Engineering,History, Philosophy & Theology,Geology, Environmental, Earth & Marine Sciences,Archaeology,Other Health,Chemistry,Politics & International Studies (incl Development Studies),Computer Science,Business & Management   \n",
       "2     Archaeology,Mathematics & Statistics,Art, Performing Arts & Design,Psychology,Other Health,Chemistry,Economics & Econometrics,Biological Sciences,Accounting & Finance,Physics & Astronomy,Medicine & Dentistry,Communication & Media Studies,Civil Engineering,Mechanical & Aerospace Engineering,Law,History, Philosophy & Theology,Geography,Education,Computer Science,General Engineering,Politics & International Studies (incl Development Studies),Languages, Literature & Linguistics,Business & Management,Architecture,Sociology,Geology, Environmental, Earth & Marine Sciences,Electrical & Electronic Engineering,Agriculture & Forestry   \n",
       "3                                                                                                                  Chemistry,Languages, Literature & Linguistics,Mechanical & Aerospace Engineering,Sociology,Chemical Engineering,Economics & Econometrics,General Engineering,Geology, Environmental, Earth & Marine Sciences,Computer Science,Mathematics & Statistics,Other Health,Biological Sciences,History, Philosophy & Theology,Agriculture & Forestry,Electrical & Electronic Engineering,Politics & International Studies (incl Development Studies),Art, Performing Arts & Design,Physics & Astronomy,Architecture,Civil Engineering,Psychology   \n",
       "4                                                    History, Philosophy & Theology,Biological Sciences,Geology, Environmental, Earth & Marine Sciences,Law,Electrical & Electronic Engineering,Architecture,Psychology,Veterinary Science,Politics & International Studies (incl Development Studies),Physics & Astronomy,General Engineering,Archaeology,Medicine & Dentistry,Chemistry,Mechanical & Aerospace Engineering,Geography,Economics & Econometrics,Languages, Literature & Linguistics,Computer Science,Mathematics & Statistics,Civil Engineering,Sociology,Business & Management,Chemical Engineering,Art, Performing Arts & Design,Education   \n",
       "...                                                                                                                                                                                                                                                                                                                                                                                                                                                                                                                                                                                                                                                      ...   \n",
       "2087                                                                                                  Art, Performing Arts & Design,Languages, Literature & Linguistics,Electrical & Electronic Engineering,Mathematics & Statistics,Communication & Media Studies,Sociology,Accounting & Finance,Chemistry,Biological Sciences,Civil Engineering,Business & Management,Economics & Econometrics,Politics & International Studies (incl Development Studies),Physics & Astronomy,Sport Science,Computer Science,Mechanical & Aerospace Engineering,Law,Geology, Environmental, Earth & Marine Sciences,General Engineering,Architecture,Chemical Engineering   \n",
       "2088                                                             Mechanical & Aerospace Engineering,Sociology,Other Health,Chemical Engineering,Law,Medicine & Dentistry,Biological Sciences,Accounting & Finance,Languages, Literature & Linguistics,Civil Engineering,Education,Computer Science,Physics & Astronomy,Economics & Econometrics,History, Philosophy & Theology,Agriculture & Forestry,Psychology,Art, Performing Arts & Design,Mathematics & Statistics,Business & Management,Architecture,General Engineering,Communication & Media Studies,Electrical & Electronic Engineering,Politics & International Studies (incl Development Studies)   \n",
       "2089                                                                                                                                                                                                                                                                                                                                                                                                                                                                                                                                                                                        Mathematics & Statistics,Biological Sciences,Physics & Astronomy   \n",
       "2090                                                                                                                             Electrical & Electronic Engineering,Archaeology,Agriculture & Forestry,Sociology,Architecture,Physics & Astronomy,Economics & Econometrics,Civil Engineering,Politics & International Studies (incl Development Studies),Geography,Languages, Literature & Linguistics,Education,Art, Performing Arts & Design,Sport Science,Law,History, Philosophy & Theology,Biological Sciences,Psychology,Computer Science,Chemistry,Mathematics & Statistics,Business & Management,Communication & Media Studies,Accounting & Finance   \n",
       "2091                                                                           Business & Management,General Engineering,Communication & Media Studies,Computer Science,Chemistry,Languages, Literature & Linguistics,Agriculture & Forestry,Medicine & Dentistry,History, Philosophy & Theology,Psychology,Mathematics & Statistics,Sport Science,Art, Performing Arts & Design,Electrical & Electronic Engineering,Education,Mechanical & Aerospace Engineering,Geology, Environmental, Earth & Marine Sciences,Civil Engineering,Sociology,Archaeology,Other Health,Biological Sciences,Physics & Astronomy,Accounting & Finance,Economics & Econometrics   \n",
       "\n",
       "      unaccredited disabled  label  \n",
       "0            False    False  0-600  \n",
       "1            False    False  0-600  \n",
       "2            False    False  0-600  \n",
       "3            False    False  0-600  \n",
       "4            False    False  0-600  \n",
       "...            ...      ...    ...  \n",
       "2087         False    False  1700+  \n",
       "2088         False    False  1700+  \n",
       "2089         False    False  1700+  \n",
       "2090         False    False  1700+  \n",
       "2091         False    False  1700+  \n",
       "\n",
       "[2092 rows x 28 columns]"
      ],
      "text/html": [
       "<div>\n",
       "<style scoped>\n",
       "    .dataframe tbody tr th:only-of-type {\n",
       "        vertical-align: middle;\n",
       "    }\n",
       "\n",
       "    .dataframe tbody tr th {\n",
       "        vertical-align: top;\n",
       "    }\n",
       "\n",
       "    .dataframe thead th {\n",
       "        text-align: right;\n",
       "    }\n",
       "</style>\n",
       "<table border=\"1\" class=\"dataframe\">\n",
       "  <thead>\n",
       "    <tr style=\"text-align: right;\">\n",
       "      <th></th>\n",
       "      <th>rank_order</th>\n",
       "      <th>name</th>\n",
       "      <th>scores_overall</th>\n",
       "      <th>scores_overall_rank</th>\n",
       "      <th>scores_teaching</th>\n",
       "      <th>scores_teaching_rank</th>\n",
       "      <th>scores_research</th>\n",
       "      <th>scores_research_rank</th>\n",
       "      <th>scores_citations</th>\n",
       "      <th>scores_citations_rank</th>\n",
       "      <th>...</th>\n",
       "      <th>location</th>\n",
       "      <th>stats_number_students</th>\n",
       "      <th>stats_student_staff_ratio</th>\n",
       "      <th>stats_pc_intl_students</th>\n",
       "      <th>stats_female_male_ratio</th>\n",
       "      <th>aliases</th>\n",
       "      <th>subjects_offered</th>\n",
       "      <th>unaccredited</th>\n",
       "      <th>disabled</th>\n",
       "      <th>label</th>\n",
       "    </tr>\n",
       "  </thead>\n",
       "  <tbody>\n",
       "    <tr>\n",
       "      <th>0</th>\n",
       "      <td>10</td>\n",
       "      <td>University of Oxford</td>\n",
       "      <td>98.5</td>\n",
       "      <td>10</td>\n",
       "      <td>96.8</td>\n",
       "      <td>5</td>\n",
       "      <td>100.0</td>\n",
       "      <td>1</td>\n",
       "      <td>98.8</td>\n",
       "      <td>8</td>\n",
       "      <td>...</td>\n",
       "      <td>United Kingdom</td>\n",
       "      <td>22095.0</td>\n",
       "      <td>10.8</td>\n",
       "      <td>43%</td>\n",
       "      <td>51 : 49</td>\n",
       "      <td>University of Oxford</td>\n",
       "      <td>Computer Science,Languages, Literature &amp; Linguistics,Mathematics &amp; Statistics,Economics &amp; Econometrics,Law,Accounting &amp; Finance,Chemical Engineering,Archaeology,Communication &amp; Media Studies,Civil Engineering,Education,Mechanical &amp; Aerospace Engineering,Geology, Environmental, Earth &amp; Marine Sciences,Psychology,Biological Sciences,Geography,Politics &amp; International Studies (incl Development Studies),Other Health,General Engineering,Business &amp; Management,Chemistry,Medicine &amp; Dentistry,Art, Performing Arts &amp; Design,Electrical &amp; Electronic Engineering,Physics &amp; Astronomy,History, Philosophy &amp; Theology,Sociology</td>\n",
       "      <td>False</td>\n",
       "      <td>False</td>\n",
       "      <td>0-600</td>\n",
       "    </tr>\n",
       "    <tr>\n",
       "      <th>1</th>\n",
       "      <td>20</td>\n",
       "      <td>Massachusetts Institute of Technology</td>\n",
       "      <td>98.1</td>\n",
       "      <td>20</td>\n",
       "      <td>99.2</td>\n",
       "      <td>1</td>\n",
       "      <td>96.0</td>\n",
       "      <td>11</td>\n",
       "      <td>99.7</td>\n",
       "      <td>1</td>\n",
       "      <td>...</td>\n",
       "      <td>United States</td>\n",
       "      <td>11836.0</td>\n",
       "      <td>8.0</td>\n",
       "      <td>33%</td>\n",
       "      <td>42 : 58</td>\n",
       "      <td>Massachusetts Institute of Technology</td>\n",
       "      <td>Biological Sciences,Electrical &amp; Electronic Engineering,Languages, Literature &amp; Linguistics,Economics &amp; Econometrics,Psychology,Art, Performing Arts &amp; Design,Physics &amp; Astronomy,Mechanical &amp; Aerospace Engineering,Sociology,Communication &amp; Media Studies,Mathematics &amp; Statistics,Architecture,General Engineering,Civil Engineering,Chemical Engineering,History, Philosophy &amp; Theology,Geology, Environmental, Earth &amp; Marine Sciences,Archaeology,Other Health,Chemistry,Politics &amp; International Studies (incl Development Studies),Computer Science,Business &amp; Management</td>\n",
       "      <td>False</td>\n",
       "      <td>False</td>\n",
       "      <td>0-600</td>\n",
       "    </tr>\n",
       "    <tr>\n",
       "      <th>2</th>\n",
       "      <td>30</td>\n",
       "      <td>Harvard University</td>\n",
       "      <td>97.7</td>\n",
       "      <td>30</td>\n",
       "      <td>97.3</td>\n",
       "      <td>4</td>\n",
       "      <td>99.9</td>\n",
       "      <td>2</td>\n",
       "      <td>99.3</td>\n",
       "      <td>3</td>\n",
       "      <td>...</td>\n",
       "      <td>United States</td>\n",
       "      <td>22584.0</td>\n",
       "      <td>10.0</td>\n",
       "      <td>25%</td>\n",
       "      <td>52 : 48</td>\n",
       "      <td>Harvard University</td>\n",
       "      <td>Archaeology,Mathematics &amp; Statistics,Art, Performing Arts &amp; Design,Psychology,Other Health,Chemistry,Economics &amp; Econometrics,Biological Sciences,Accounting &amp; Finance,Physics &amp; Astronomy,Medicine &amp; Dentistry,Communication &amp; Media Studies,Civil Engineering,Mechanical &amp; Aerospace Engineering,Law,History, Philosophy &amp; Theology,Geography,Education,Computer Science,General Engineering,Politics &amp; International Studies (incl Development Studies),Languages, Literature &amp; Linguistics,Business &amp; Management,Architecture,Sociology,Geology, Environmental, Earth &amp; Marine Sciences,Electrical &amp; Electronic Engineering,Agriculture &amp; Forestry</td>\n",
       "      <td>False</td>\n",
       "      <td>False</td>\n",
       "      <td>0-600</td>\n",
       "    </tr>\n",
       "    <tr>\n",
       "      <th>3</th>\n",
       "      <td>40</td>\n",
       "      <td>Princeton University</td>\n",
       "      <td>97.5</td>\n",
       "      <td>40</td>\n",
       "      <td>98.3</td>\n",
       "      <td>2</td>\n",
       "      <td>98.0</td>\n",
       "      <td>6</td>\n",
       "      <td>98.9</td>\n",
       "      <td>7</td>\n",
       "      <td>...</td>\n",
       "      <td>United States</td>\n",
       "      <td>8378.0</td>\n",
       "      <td>7.8</td>\n",
       "      <td>23%</td>\n",
       "      <td>47 : 53</td>\n",
       "      <td>Princeton University</td>\n",
       "      <td>Chemistry,Languages, Literature &amp; Linguistics,Mechanical &amp; Aerospace Engineering,Sociology,Chemical Engineering,Economics &amp; Econometrics,General Engineering,Geology, Environmental, Earth &amp; Marine Sciences,Computer Science,Mathematics &amp; Statistics,Other Health,Biological Sciences,History, Philosophy &amp; Theology,Agriculture &amp; Forestry,Electrical &amp; Electronic Engineering,Politics &amp; International Studies (incl Development Studies),Art, Performing Arts &amp; Design,Physics &amp; Astronomy,Architecture,Civil Engineering,Psychology</td>\n",
       "      <td>False</td>\n",
       "      <td>False</td>\n",
       "      <td>0-600</td>\n",
       "    </tr>\n",
       "    <tr>\n",
       "      <th>4</th>\n",
       "      <td>50</td>\n",
       "      <td>University of Cambridge</td>\n",
       "      <td>97.4</td>\n",
       "      <td>50</td>\n",
       "      <td>95.9</td>\n",
       "      <td>6</td>\n",
       "      <td>99.9</td>\n",
       "      <td>3</td>\n",
       "      <td>97.6</td>\n",
       "      <td>17</td>\n",
       "      <td>...</td>\n",
       "      <td>United Kingdom</td>\n",
       "      <td>20980.0</td>\n",
       "      <td>11.5</td>\n",
       "      <td>38%</td>\n",
       "      <td>49 : 51</td>\n",
       "      <td>University of Cambridge</td>\n",
       "      <td>History, Philosophy &amp; Theology,Biological Sciences,Geology, Environmental, Earth &amp; Marine Sciences,Law,Electrical &amp; Electronic Engineering,Architecture,Psychology,Veterinary Science,Politics &amp; International Studies (incl Development Studies),Physics &amp; Astronomy,General Engineering,Archaeology,Medicine &amp; Dentistry,Chemistry,Mechanical &amp; Aerospace Engineering,Geography,Economics &amp; Econometrics,Languages, Literature &amp; Linguistics,Computer Science,Mathematics &amp; Statistics,Civil Engineering,Sociology,Business &amp; Management,Chemical Engineering,Art, Performing Arts &amp; Design,Education</td>\n",
       "      <td>False</td>\n",
       "      <td>False</td>\n",
       "      <td>0-600</td>\n",
       "    </tr>\n",
       "    <tr>\n",
       "      <th>...</th>\n",
       "      <td>...</td>\n",
       "      <td>...</td>\n",
       "      <td>...</td>\n",
       "      <td>...</td>\n",
       "      <td>...</td>\n",
       "      <td>...</td>\n",
       "      <td>...</td>\n",
       "      <td>...</td>\n",
       "      <td>...</td>\n",
       "      <td>...</td>\n",
       "      <td>...</td>\n",
       "      <td>...</td>\n",
       "      <td>...</td>\n",
       "      <td>...</td>\n",
       "      <td>...</td>\n",
       "      <td>...</td>\n",
       "      <td>...</td>\n",
       "      <td>...</td>\n",
       "      <td>...</td>\n",
       "      <td>...</td>\n",
       "      <td>...</td>\n",
       "    </tr>\n",
       "    <tr>\n",
       "      <th>2087</th>\n",
       "      <td>20880</td>\n",
       "      <td>Yanshan University</td>\n",
       "      <td>10.5–25.1</td>\n",
       "      <td>20880</td>\n",
       "      <td>20.2</td>\n",
       "      <td>1483</td>\n",
       "      <td>12.0</td>\n",
       "      <td>1520</td>\n",
       "      <td>39.7</td>\n",
       "      <td>1353</td>\n",
       "      <td>...</td>\n",
       "      <td>China</td>\n",
       "      <td>39528.0</td>\n",
       "      <td>13.0</td>\n",
       "      <td>1%</td>\n",
       "      <td>37 : 63</td>\n",
       "      <td>Yanshan University</td>\n",
       "      <td>Art, Performing Arts &amp; Design,Languages, Literature &amp; Linguistics,Electrical &amp; Electronic Engineering,Mathematics &amp; Statistics,Communication &amp; Media Studies,Sociology,Accounting &amp; Finance,Chemistry,Biological Sciences,Civil Engineering,Business &amp; Management,Economics &amp; Econometrics,Politics &amp; International Studies (incl Development Studies),Physics &amp; Astronomy,Sport Science,Computer Science,Mechanical &amp; Aerospace Engineering,Law,Geology, Environmental, Earth &amp; Marine Sciences,General Engineering,Architecture,Chemical Engineering</td>\n",
       "      <td>False</td>\n",
       "      <td>False</td>\n",
       "      <td>1700+</td>\n",
       "    </tr>\n",
       "    <tr>\n",
       "      <th>2088</th>\n",
       "      <td>20890</td>\n",
       "      <td>Yeditepe University</td>\n",
       "      <td>10.5–25.1</td>\n",
       "      <td>20890</td>\n",
       "      <td>20.5</td>\n",
       "      <td>1454</td>\n",
       "      <td>12.1</td>\n",
       "      <td>1506</td>\n",
       "      <td>22.1</td>\n",
       "      <td>1795</td>\n",
       "      <td>...</td>\n",
       "      <td>Turkey</td>\n",
       "      <td>17506.0</td>\n",
       "      <td>29.9</td>\n",
       "      <td>6%</td>\n",
       "      <td>56 : 44</td>\n",
       "      <td>Yeditepe University</td>\n",
       "      <td>Mechanical &amp; Aerospace Engineering,Sociology,Other Health,Chemical Engineering,Law,Medicine &amp; Dentistry,Biological Sciences,Accounting &amp; Finance,Languages, Literature &amp; Linguistics,Civil Engineering,Education,Computer Science,Physics &amp; Astronomy,Economics &amp; Econometrics,History, Philosophy &amp; Theology,Agriculture &amp; Forestry,Psychology,Art, Performing Arts &amp; Design,Mathematics &amp; Statistics,Business &amp; Management,Architecture,General Engineering,Communication &amp; Media Studies,Electrical &amp; Electronic Engineering,Politics &amp; International Studies (incl Development Studies)</td>\n",
       "      <td>False</td>\n",
       "      <td>False</td>\n",
       "      <td>1700+</td>\n",
       "    </tr>\n",
       "    <tr>\n",
       "      <th>2089</th>\n",
       "      <td>20900</td>\n",
       "      <td>Yerevan State University</td>\n",
       "      <td>10.5–25.1</td>\n",
       "      <td>20900</td>\n",
       "      <td>24.8</td>\n",
       "      <td>1098</td>\n",
       "      <td>8.8</td>\n",
       "      <td>1993</td>\n",
       "      <td>8.7</td>\n",
       "      <td>2052</td>\n",
       "      <td>...</td>\n",
       "      <td>Armenia</td>\n",
       "      <td>13923.0</td>\n",
       "      <td>8.0</td>\n",
       "      <td>3%</td>\n",
       "      <td>53 : 47</td>\n",
       "      <td>Yerevan State University</td>\n",
       "      <td>Mathematics &amp; Statistics,Biological Sciences,Physics &amp; Astronomy</td>\n",
       "      <td>False</td>\n",
       "      <td>False</td>\n",
       "      <td>1700+</td>\n",
       "    </tr>\n",
       "    <tr>\n",
       "      <th>2090</th>\n",
       "      <td>20910</td>\n",
       "      <td>Yuriy Fedkovych Chernivtsi National University</td>\n",
       "      <td>10.5–25.1</td>\n",
       "      <td>20910</td>\n",
       "      <td>18.0</td>\n",
       "      <td>1705</td>\n",
       "      <td>9.8</td>\n",
       "      <td>1841</td>\n",
       "      <td>8.8</td>\n",
       "      <td>2050</td>\n",
       "      <td>...</td>\n",
       "      <td>Ukraine</td>\n",
       "      <td>12377.0</td>\n",
       "      <td>12.5</td>\n",
       "      <td>1%</td>\n",
       "      <td>49 : 51</td>\n",
       "      <td>Yuriy Fedkovych Chernivtsi National University</td>\n",
       "      <td>Electrical &amp; Electronic Engineering,Archaeology,Agriculture &amp; Forestry,Sociology,Architecture,Physics &amp; Astronomy,Economics &amp; Econometrics,Civil Engineering,Politics &amp; International Studies (incl Development Studies),Geography,Languages, Literature &amp; Linguistics,Education,Art, Performing Arts &amp; Design,Sport Science,Law,History, Philosophy &amp; Theology,Biological Sciences,Psychology,Computer Science,Chemistry,Mathematics &amp; Statistics,Business &amp; Management,Communication &amp; Media Studies,Accounting &amp; Finance</td>\n",
       "      <td>False</td>\n",
       "      <td>False</td>\n",
       "      <td>1700+</td>\n",
       "    </tr>\n",
       "    <tr>\n",
       "      <th>2091</th>\n",
       "      <td>20920</td>\n",
       "      <td>Zonguldak Bülent Ecevit University</td>\n",
       "      <td>10.5–25.1</td>\n",
       "      <td>20920</td>\n",
       "      <td>12.5</td>\n",
       "      <td>2037</td>\n",
       "      <td>11.1</td>\n",
       "      <td>1641</td>\n",
       "      <td>25.1</td>\n",
       "      <td>1722</td>\n",
       "      <td>...</td>\n",
       "      <td>Turkey</td>\n",
       "      <td>22844.0</td>\n",
       "      <td>22.9</td>\n",
       "      <td>10%</td>\n",
       "      <td>45 : 55</td>\n",
       "      <td>Zonguldak Bülent Ecevit University</td>\n",
       "      <td>Business &amp; Management,General Engineering,Communication &amp; Media Studies,Computer Science,Chemistry,Languages, Literature &amp; Linguistics,Agriculture &amp; Forestry,Medicine &amp; Dentistry,History, Philosophy &amp; Theology,Psychology,Mathematics &amp; Statistics,Sport Science,Art, Performing Arts &amp; Design,Electrical &amp; Electronic Engineering,Education,Mechanical &amp; Aerospace Engineering,Geology, Environmental, Earth &amp; Marine Sciences,Civil Engineering,Sociology,Archaeology,Other Health,Biological Sciences,Physics &amp; Astronomy,Accounting &amp; Finance,Economics &amp; Econometrics</td>\n",
       "      <td>False</td>\n",
       "      <td>False</td>\n",
       "      <td>1700+</td>\n",
       "    </tr>\n",
       "  </tbody>\n",
       "</table>\n",
       "<p>2092 rows × 28 columns</p>\n",
       "</div>"
      ]
     },
     "execution_count": 574,
     "metadata": {},
     "output_type": "execute_result"
    }
   ],
   "execution_count": 574
  },
  {
   "metadata": {
    "ExecuteTime": {
     "end_time": "2024-12-04T08:43:15.491375Z",
     "start_time": "2024-12-04T08:43:15.482798Z"
    }
   },
   "cell_type": "code",
   "source": "data.drop(columns=['name','url','aliases','unaccredited'], inplace=True)",
   "id": "fc988bfca67378f3",
   "outputs": [],
   "execution_count": 575
  },
  {
   "metadata": {
    "ExecuteTime": {
     "end_time": "2024-12-04T08:43:15.685520Z",
     "start_time": "2024-12-04T08:43:15.542849Z"
    }
   },
   "cell_type": "code",
   "source": [
    "plt.figure(figsize=(10, 6))\n",
    "plt.scatter(data['nid'],data['rank_order'])"
   ],
   "id": "c9b9b08df48420de",
   "outputs": [
    {
     "data": {
      "text/plain": [
       "<matplotlib.collections.PathCollection at 0x20a369cbcd0>"
      ]
     },
     "execution_count": 576,
     "metadata": {},
     "output_type": "execute_result"
    },
    {
     "data": {
      "text/plain": [
       "<Figure size 1000x600 with 1 Axes>"
      ],
      "image/png": "[encoded data removed]"
     },
     "metadata": {},
     "output_type": "display_data"
    }
   ],
   "execution_count": 576
  },
  {
   "metadata": {
    "ExecuteTime": {
     "end_time": "2024-12-04T08:43:15.707890Z",
     "start_time": "2024-12-04T08:43:15.699403Z"
    }
   },
   "cell_type": "code",
   "source": [
    "data['scores_overall'] = data['scores_overall'].str.split('–').str[0].astype(float)\n",
    "\n"
   ],
   "id": "f3cd75bebee2f800",
   "outputs": [],
   "execution_count": 577
  },
  {
   "metadata": {
    "ExecuteTime": {
     "end_time": "2024-12-04T08:43:15.783529Z",
     "start_time": "2024-12-04T08:43:15.773379Z"
    }
   },
   "cell_type": "code",
   "source": "data[['rank_order','member_level']].corr()",
   "id": "790cc4623a1f895b",
   "outputs": [
    {
     "data": {
      "text/plain": [
       "              rank_order  member_level\n",
       "rank_order      1.000000     -0.231823\n",
       "member_level   -0.231823      1.000000"
      ],
      "text/html": [
       "<div>\n",
       "<style scoped>\n",
       "    .dataframe tbody tr th:only-of-type {\n",
       "        vertical-align: middle;\n",
       "    }\n",
       "\n",
       "    .dataframe tbody tr th {\n",
       "        vertical-align: top;\n",
       "    }\n",
       "\n",
       "    .dataframe thead th {\n",
       "        text-align: right;\n",
       "    }\n",
       "</style>\n",
       "<table border=\"1\" class=\"dataframe\">\n",
       "  <thead>\n",
       "    <tr style=\"text-align: right;\">\n",
       "      <th></th>\n",
       "      <th>rank_order</th>\n",
       "      <th>member_level</th>\n",
       "    </tr>\n",
       "  </thead>\n",
       "  <tbody>\n",
       "    <tr>\n",
       "      <th>rank_order</th>\n",
       "      <td>1.000000</td>\n",
       "      <td>-0.231823</td>\n",
       "    </tr>\n",
       "    <tr>\n",
       "      <th>member_level</th>\n",
       "      <td>-0.231823</td>\n",
       "      <td>1.000000</td>\n",
       "    </tr>\n",
       "  </tbody>\n",
       "</table>\n",
       "</div>"
      ]
     },
     "execution_count": 578,
     "metadata": {},
     "output_type": "execute_result"
    }
   ],
   "execution_count": 578
  },
  {
   "metadata": {
    "ExecuteTime": {
     "end_time": "2024-12-04T08:43:15.889269Z",
     "start_time": "2024-12-04T08:43:15.880850Z"
    }
   },
   "cell_type": "code",
   "source": "data['location'].value_counts() ",
   "id": "e128c09cbab0e0b8",
   "outputs": [
    {
     "data": {
      "text/plain": [
       "location\n",
       "United States     174\n",
       "Japan             119\n",
       "United Kingdom    107\n",
       "India             107\n",
       "China              94\n",
       "                 ... \n",
       "Luxembourg          1\n",
       "Palestine           1\n",
       "Bahrain             1\n",
       "Oman                1\n",
       "Armenia             1\n",
       "Name: count, Length: 115, dtype: int64"
      ]
     },
     "execution_count": 579,
     "metadata": {},
     "output_type": "execute_result"
    }
   ],
   "execution_count": 579
  },
  {
   "metadata": {
    "ExecuteTime": {
     "end_time": "2024-12-04T08:43:15.972050Z",
     "start_time": "2024-12-04T08:43:15.963899Z"
    }
   },
   "cell_type": "code",
   "source": [
    "# location if country count less than 10, convert to 'Other'\n",
    "country_count = data['location'].value_counts()\n",
    "data['location'] = data['location'].apply(lambda x: 'Other' if country_count[x] < 6 else x)\n",
    "\n"
   ],
   "id": "3524ff78af4b10db",
   "outputs": [],
   "execution_count": 580
  },
  {
   "metadata": {
    "ExecuteTime": {
     "end_time": "2024-12-04T08:43:16.055388Z",
     "start_time": "2024-12-04T08:43:16.034644Z"
    }
   },
   "cell_type": "code",
   "source": "data.loc[data['location'] == 'Other']",
   "id": "7eb10f7a5e0c562a",
   "outputs": [
    {
     "data": {
      "text/plain": [
       "      rank_order  scores_overall  scores_overall_rank  scores_teaching  \\\n",
       "16           170            89.9                  170             78.4   \n",
       "29           300            81.8                  300             65.8   \n",
       "180         1810            59.7                 1810             37.7   \n",
       "219         2200            55.8                 2200             31.0   \n",
       "237         2380            55.8                 2380             39.2   \n",
       "...          ...             ...                  ...              ...   \n",
       "2040       20410            10.5                20410             20.2   \n",
       "2053       20540            10.5                20540             20.7   \n",
       "2064       20650            10.5                20650             15.1   \n",
       "2066       20670            10.5                20670             14.2   \n",
       "2089       20900            10.5                20900             24.8   \n",
       "\n",
       "      scores_teaching_rank  scores_research  scores_research_rank  \\\n",
       "16                      24             93.6                    15   \n",
       "29                      51             79.3                    30   \n",
       "180                    377             39.0                   274   \n",
       "219                    693             37.4                   302   \n",
       "237                    333             39.5                   261   \n",
       "...                    ...              ...                   ...   \n",
       "2040                  1481             11.2                  1627   \n",
       "2053                  1444              8.8                  1991   \n",
       "2064                  1901              9.9                  1824   \n",
       "2066                  1950             10.6                  1711   \n",
       "2089                  1098              8.8                  1993   \n",
       "\n",
       "      scores_citations  scores_citations_rank  scores_industry_income  ...  \\\n",
       "16                95.7                     41                   100.0  ...   \n",
       "29                94.5                     54                    99.9  ...   \n",
       "180               90.7                    104                    70.4  ...   \n",
       "219               87.5                    171                    69.0  ...   \n",
       "237               77.1                    401                    81.3  ...   \n",
       "...                ...                    ...                     ...  ...   \n",
       "2040              20.8                   1825                    26.6  ...   \n",
       "2053              10.5                   2022                    24.0  ...   \n",
       "2064              29.2                   1613                    21.4  ...   \n",
       "2066              39.3                   1361                    21.0  ...   \n",
       "2089               8.7                   2052                    20.9  ...   \n",
       "\n",
       "      member_level     nid  location stats_number_students  \\\n",
       "16               6     504     Other               34388.0   \n",
       "29               6     634     Other               26044.0   \n",
       "180             11    1027     Other               11573.0   \n",
       "219              0  131534     Other                9701.0   \n",
       "237              0  131698     Other                5860.0   \n",
       "...            ...     ...       ...                   ...   \n",
       "2040             0  677010     Other               22458.0   \n",
       "2053             0  131353     Other               20855.0   \n",
       "2064             0  670626     Other               23677.0   \n",
       "2066             0  707981     Other               23476.0   \n",
       "2089             0  715426     Other               13923.0   \n",
       "\n",
       "      stats_student_staff_ratio  stats_pc_intl_students  \\\n",
       "16                         21.0                     26%   \n",
       "29                         17.1                     29%   \n",
       "180                        19.2                     46%   \n",
       "219                         8.5                     36%   \n",
       "237                        22.1                     52%   \n",
       "...                         ...                     ...   \n",
       "2040                       13.5                      4%   \n",
       "2053                       10.9                      1%   \n",
       "2064                       26.9                      2%   \n",
       "2066                       18.3                      0%   \n",
       "2089                        8.0                      3%   \n",
       "\n",
       "     stats_female_male_ratio  \\\n",
       "16                   49 : 51   \n",
       "29                   48 : 52   \n",
       "180                  54 : 46   \n",
       "219                      NaN   \n",
       "237                  54 : 46   \n",
       "...                      ...   \n",
       "2040                 65 : 35   \n",
       "2053                 60 : 40   \n",
       "2064                 40 : 60   \n",
       "2066                 51 : 49   \n",
       "2089                 53 : 47   \n",
       "\n",
       "                                                                                                                                                                                                                                                                                                                                                                                                                                                                                                                                                                                                                                                                                                  subjects_offered  \\\n",
       "16                                               Computer Science,Chemistry,Economics & Econometrics,General Engineering,Geology, Environmental, Earth & Marine Sciences,Architecture,Chemical Engineering,Geography,Medicine & Dentistry,Mathematics & Statistics,Psychology,Electrical & Electronic Engineering,Communication & Media Studies,Art, Performing Arts & Design,Mechanical & Aerospace Engineering,Politics & International Studies (incl Development Studies),History, Philosophy & Theology,Biological Sciences,Law,Other Health,Physics & Astronomy,Accounting & Finance,Languages, Literature & Linguistics,Civil Engineering,Sociology,Archaeology,Agriculture & Forestry,Business & Management   \n",
       "29                                                                                     Psychology,Geology, Environmental, Earth & Marine Sciences,Chemical Engineering,Politics & International Studies (incl Development Studies),Computer Science,Biological Sciences,General Engineering,History, Philosophy & Theology,Communication & Media Studies,Electrical & Electronic Engineering,Accounting & Finance,Mathematics & Statistics,Sport Science,Medicine & Dentistry,Chemistry,Sociology,Civil Engineering,Art, Performing Arts & Design,Economics & Econometrics,Business & Management,Languages, Literature & Linguistics,Mechanical & Aerospace Engineering,Other Health,Physics & Astronomy,Education   \n",
       "180                                                                                                     General Engineering,Communication & Media Studies,Civil Engineering,Politics & International Studies (incl Development Studies),Medicine & Dentistry,Biological Sciences,Education,Computer Science,Economics & Econometrics,Sport Science,Law,Electrical & Electronic Engineering,Sociology,History, Philosophy & Theology,Physics & Astronomy,Accounting & Finance,Art, Performing Arts & Design,Chemistry,Psychology,Languages, Literature & Linguistics,Mathematics & Statistics,Business & Management,Other Health,Geology, Environmental, Earth & Marine Sciences,Mechanical & Aerospace Engineering   \n",
       "219                                                         Law,Languages, Literature & Linguistics,Civil Engineering,Sociology,Politics & International Studies (incl Development Studies),Business & Management,Art, Performing Arts & Design,Geology, Environmental, Earth & Marine Sciences,Computer Science,Accounting & Finance,Chemical Engineering,Biological Sciences,Economics & Econometrics,History, Philosophy & Theology,Sport Science,Mechanical & Aerospace Engineering,Psychology,Medicine & Dentistry,Communication & Media Studies,Education,Mathematics & Statistics,Chemistry,Other Health,Physics & Astronomy,Architecture,General Engineering,Electrical & Electronic Engineering,Geography   \n",
       "237                                                                                                                                             Computer Science,Physics & Astronomy,Economics & Econometrics,Medicine & Dentistry,Architecture,Law,Art, Performing Arts & Design,Civil Engineering,Accounting & Finance,Languages, Literature & Linguistics,Communication & Media Studies,Electrical & Electronic Engineering,Education,Veterinary Science,Business & Management,Other Health,Geography,Biological Sciences,Politics & International Studies (incl Development Studies),History, Philosophy & Theology,Mathematics & Statistics,General Engineering,Psychology,Mechanical & Aerospace Engineering   \n",
       "...                                                                                                                                                                                                                                                                                                                                                                                                                                                                                                                                                                                                                                                                                                            ...   \n",
       "2040                                           Sport Science,Economics & Econometrics,Mathematics & Statistics,Art, Performing Arts & Design,Accounting & Finance,Other Health,Physics & Astronomy,Education,Languages, Literature & Linguistics,Civil Engineering,Politics & International Studies (incl Development Studies),Medicine & Dentistry,Agriculture & Forestry,Sociology,Architecture,Veterinary Science,Law,Archaeology,Computer Science,Chemistry,Business & Management,Electrical & Electronic Engineering,Communication & Media Studies,History, Philosophy & Theology,Biological Sciences,Geography,Mechanical & Aerospace Engineering,Geology, Environmental, Earth & Marine Sciences,Psychology   \n",
       "2053                                                               Medicine & Dentistry,Geology, Environmental, Earth & Marine Sciences,Computer Science,Civil Engineering,Geography,Electrical & Electronic Engineering,Physics & Astronomy,Communication & Media Studies,Art, Performing Arts & Design,Mathematics & Statistics,Accounting & Finance,Other Health,Chemistry,Economics & Econometrics,History, Philosophy & Theology,Biological Sciences,Psychology,Architecture,Agriculture & Forestry,Education,Mechanical & Aerospace Engineering,Politics & International Studies (incl Development Studies),Languages, Literature & Linguistics,Sport Science,Business & Management,Chemical Engineering,Law   \n",
       "2064  Archaeology,Mechanical & Aerospace Engineering,Mathematics & Statistics,Civil Engineering,History, Philosophy & Theology,Communication & Media Studies,Education,Biological Sciences,Computer Science,Politics & International Studies (incl Development Studies),Art, Performing Arts & Design,Electrical & Electronic Engineering,Geography,Geology, Environmental, Earth & Marine Sciences,Business & Management,Languages, Literature & Linguistics,Physics & Astronomy,Chemical Engineering,Law,Accounting & Finance,Architecture,Economics & Econometrics,Veterinary Science,Other Health,Chemistry,Medicine & Dentistry,General Engineering,Psychology,Sociology,Agriculture & Forestry,Sport Science   \n",
       "2066                General Engineering,Mathematics & Statistics,Law,Physics & Astronomy,Geography,Archaeology,Economics & Econometrics,Architecture,Chemistry,Veterinary Science,Electrical & Electronic Engineering,Agriculture & Forestry,Sociology,History, Philosophy & Theology,Communication & Media Studies,Computer Science,Civil Engineering,Mechanical & Aerospace Engineering,Languages, Literature & Linguistics,Medicine & Dentistry,Biological Sciences,Art, Performing Arts & Design,Business & Management,Geology, Environmental, Earth & Marine Sciences,Psychology,Politics & International Studies (incl Development Studies),Other Health,Education,Chemical Engineering,Accounting & Finance   \n",
       "2089                                                                                                                                                                                                                                                                                                                                                                                                                                                                                                                                                                                                                                              Mathematics & Statistics,Biological Sciences,Physics & Astronomy   \n",
       "\n",
       "      disabled  label  \n",
       "16       False  0-600  \n",
       "29       False  0-600  \n",
       "180      False  0-600  \n",
       "219      False  0-600  \n",
       "237      False  0-600  \n",
       "...        ...    ...  \n",
       "2040     False  1700+  \n",
       "2053     False  1700+  \n",
       "2064     False  1700+  \n",
       "2066     False  1700+  \n",
       "2089     False  1700+  \n",
       "\n",
       "[102 rows x 24 columns]"
      ],
      "text/html": [
       "<div>\n",
       "<style scoped>\n",
       "    .dataframe tbody tr th:only-of-type {\n",
       "        vertical-align: middle;\n",
       "    }\n",
       "\n",
       "    .dataframe tbody tr th {\n",
       "        vertical-align: top;\n",
       "    }\n",
       "\n",
       "    .dataframe thead th {\n",
       "        text-align: right;\n",
       "    }\n",
       "</style>\n",
       "<table border=\"1\" class=\"dataframe\">\n",
       "  <thead>\n",
       "    <tr style=\"text-align: right;\">\n",
       "      <th></th>\n",
       "      <th>rank_order</th>\n",
       "      <th>scores_overall</th>\n",
       "      <th>scores_overall_rank</th>\n",
       "      <th>scores_teaching</th>\n",
       "      <th>scores_teaching_rank</th>\n",
       "      <th>scores_research</th>\n",
       "      <th>scores_research_rank</th>\n",
       "      <th>scores_citations</th>\n",
       "      <th>scores_citations_rank</th>\n",
       "      <th>scores_industry_income</th>\n",
       "      <th>...</th>\n",
       "      <th>member_level</th>\n",
       "      <th>nid</th>\n",
       "      <th>location</th>\n",
       "      <th>stats_number_students</th>\n",
       "      <th>stats_student_staff_ratio</th>\n",
       "      <th>stats_pc_intl_students</th>\n",
       "      <th>stats_female_male_ratio</th>\n",
       "      <th>subjects_offered</th>\n",
       "      <th>disabled</th>\n",
       "      <th>label</th>\n",
       "    </tr>\n",
       "  </thead>\n",
       "  <tbody>\n",
       "    <tr>\n",
       "      <th>16</th>\n",
       "      <td>170</td>\n",
       "      <td>89.9</td>\n",
       "      <td>170</td>\n",
       "      <td>78.4</td>\n",
       "      <td>24</td>\n",
       "      <td>93.6</td>\n",
       "      <td>15</td>\n",
       "      <td>95.7</td>\n",
       "      <td>41</td>\n",
       "      <td>100.0</td>\n",
       "      <td>...</td>\n",
       "      <td>6</td>\n",
       "      <td>504</td>\n",
       "      <td>Other</td>\n",
       "      <td>34388.0</td>\n",
       "      <td>21.0</td>\n",
       "      <td>26%</td>\n",
       "      <td>49 : 51</td>\n",
       "      <td>Computer Science,Chemistry,Economics &amp; Econometrics,General Engineering,Geology, Environmental, Earth &amp; Marine Sciences,Architecture,Chemical Engineering,Geography,Medicine &amp; Dentistry,Mathematics &amp; Statistics,Psychology,Electrical &amp; Electronic Engineering,Communication &amp; Media Studies,Art, Performing Arts &amp; Design,Mechanical &amp; Aerospace Engineering,Politics &amp; International Studies (incl Development Studies),History, Philosophy &amp; Theology,Biological Sciences,Law,Other Health,Physics &amp; Astronomy,Accounting &amp; Finance,Languages, Literature &amp; Linguistics,Civil Engineering,Sociology,Archaeology,Agriculture &amp; Forestry,Business &amp; Management</td>\n",
       "      <td>False</td>\n",
       "      <td>0-600</td>\n",
       "    </tr>\n",
       "    <tr>\n",
       "      <th>29</th>\n",
       "      <td>300</td>\n",
       "      <td>81.8</td>\n",
       "      <td>300</td>\n",
       "      <td>65.8</td>\n",
       "      <td>51</td>\n",
       "      <td>79.3</td>\n",
       "      <td>30</td>\n",
       "      <td>94.5</td>\n",
       "      <td>54</td>\n",
       "      <td>99.9</td>\n",
       "      <td>...</td>\n",
       "      <td>6</td>\n",
       "      <td>634</td>\n",
       "      <td>Other</td>\n",
       "      <td>26044.0</td>\n",
       "      <td>17.1</td>\n",
       "      <td>29%</td>\n",
       "      <td>48 : 52</td>\n",
       "      <td>Psychology,Geology, Environmental, Earth &amp; Marine Sciences,Chemical Engineering,Politics &amp; International Studies (incl Development Studies),Computer Science,Biological Sciences,General Engineering,History, Philosophy &amp; Theology,Communication &amp; Media Studies,Electrical &amp; Electronic Engineering,Accounting &amp; Finance,Mathematics &amp; Statistics,Sport Science,Medicine &amp; Dentistry,Chemistry,Sociology,Civil Engineering,Art, Performing Arts &amp; Design,Economics &amp; Econometrics,Business &amp; Management,Languages, Literature &amp; Linguistics,Mechanical &amp; Aerospace Engineering,Other Health,Physics &amp; Astronomy,Education</td>\n",
       "      <td>False</td>\n",
       "      <td>0-600</td>\n",
       "    </tr>\n",
       "    <tr>\n",
       "      <th>180</th>\n",
       "      <td>1810</td>\n",
       "      <td>59.7</td>\n",
       "      <td>1810</td>\n",
       "      <td>37.7</td>\n",
       "      <td>377</td>\n",
       "      <td>39.0</td>\n",
       "      <td>274</td>\n",
       "      <td>90.7</td>\n",
       "      <td>104</td>\n",
       "      <td>70.4</td>\n",
       "      <td>...</td>\n",
       "      <td>11</td>\n",
       "      <td>1027</td>\n",
       "      <td>Other</td>\n",
       "      <td>11573.0</td>\n",
       "      <td>19.2</td>\n",
       "      <td>46%</td>\n",
       "      <td>54 : 46</td>\n",
       "      <td>General Engineering,Communication &amp; Media Studies,Civil Engineering,Politics &amp; International Studies (incl Development Studies),Medicine &amp; Dentistry,Biological Sciences,Education,Computer Science,Economics &amp; Econometrics,Sport Science,Law,Electrical &amp; Electronic Engineering,Sociology,History, Philosophy &amp; Theology,Physics &amp; Astronomy,Accounting &amp; Finance,Art, Performing Arts &amp; Design,Chemistry,Psychology,Languages, Literature &amp; Linguistics,Mathematics &amp; Statistics,Business &amp; Management,Other Health,Geology, Environmental, Earth &amp; Marine Sciences,Mechanical &amp; Aerospace Engineering</td>\n",
       "      <td>False</td>\n",
       "      <td>0-600</td>\n",
       "    </tr>\n",
       "    <tr>\n",
       "      <th>219</th>\n",
       "      <td>2200</td>\n",
       "      <td>55.8</td>\n",
       "      <td>2200</td>\n",
       "      <td>31.0</td>\n",
       "      <td>693</td>\n",
       "      <td>37.4</td>\n",
       "      <td>302</td>\n",
       "      <td>87.5</td>\n",
       "      <td>171</td>\n",
       "      <td>69.0</td>\n",
       "      <td>...</td>\n",
       "      <td>0</td>\n",
       "      <td>131534</td>\n",
       "      <td>Other</td>\n",
       "      <td>9701.0</td>\n",
       "      <td>8.5</td>\n",
       "      <td>36%</td>\n",
       "      <td>NaN</td>\n",
       "      <td>Law,Languages, Literature &amp; Linguistics,Civil Engineering,Sociology,Politics &amp; International Studies (incl Development Studies),Business &amp; Management,Art, Performing Arts &amp; Design,Geology, Environmental, Earth &amp; Marine Sciences,Computer Science,Accounting &amp; Finance,Chemical Engineering,Biological Sciences,Economics &amp; Econometrics,History, Philosophy &amp; Theology,Sport Science,Mechanical &amp; Aerospace Engineering,Psychology,Medicine &amp; Dentistry,Communication &amp; Media Studies,Education,Mathematics &amp; Statistics,Chemistry,Other Health,Physics &amp; Astronomy,Architecture,General Engineering,Electrical &amp; Electronic Engineering,Geography</td>\n",
       "      <td>False</td>\n",
       "      <td>0-600</td>\n",
       "    </tr>\n",
       "    <tr>\n",
       "      <th>237</th>\n",
       "      <td>2380</td>\n",
       "      <td>55.8</td>\n",
       "      <td>2380</td>\n",
       "      <td>39.2</td>\n",
       "      <td>333</td>\n",
       "      <td>39.5</td>\n",
       "      <td>261</td>\n",
       "      <td>77.1</td>\n",
       "      <td>401</td>\n",
       "      <td>81.3</td>\n",
       "      <td>...</td>\n",
       "      <td>0</td>\n",
       "      <td>131698</td>\n",
       "      <td>Other</td>\n",
       "      <td>5860.0</td>\n",
       "      <td>22.1</td>\n",
       "      <td>52%</td>\n",
       "      <td>54 : 46</td>\n",
       "      <td>Computer Science,Physics &amp; Astronomy,Economics &amp; Econometrics,Medicine &amp; Dentistry,Architecture,Law,Art, Performing Arts &amp; Design,Civil Engineering,Accounting &amp; Finance,Languages, Literature &amp; Linguistics,Communication &amp; Media Studies,Electrical &amp; Electronic Engineering,Education,Veterinary Science,Business &amp; Management,Other Health,Geography,Biological Sciences,Politics &amp; International Studies (incl Development Studies),History, Philosophy &amp; Theology,Mathematics &amp; Statistics,General Engineering,Psychology,Mechanical &amp; Aerospace Engineering</td>\n",
       "      <td>False</td>\n",
       "      <td>0-600</td>\n",
       "    </tr>\n",
       "    <tr>\n",
       "      <th>...</th>\n",
       "      <td>...</td>\n",
       "      <td>...</td>\n",
       "      <td>...</td>\n",
       "      <td>...</td>\n",
       "      <td>...</td>\n",
       "      <td>...</td>\n",
       "      <td>...</td>\n",
       "      <td>...</td>\n",
       "      <td>...</td>\n",
       "      <td>...</td>\n",
       "      <td>...</td>\n",
       "      <td>...</td>\n",
       "      <td>...</td>\n",
       "      <td>...</td>\n",
       "      <td>...</td>\n",
       "      <td>...</td>\n",
       "      <td>...</td>\n",
       "      <td>...</td>\n",
       "      <td>...</td>\n",
       "      <td>...</td>\n",
       "      <td>...</td>\n",
       "    </tr>\n",
       "    <tr>\n",
       "      <th>2040</th>\n",
       "      <td>20410</td>\n",
       "      <td>10.5</td>\n",
       "      <td>20410</td>\n",
       "      <td>20.2</td>\n",
       "      <td>1481</td>\n",
       "      <td>11.2</td>\n",
       "      <td>1627</td>\n",
       "      <td>20.8</td>\n",
       "      <td>1825</td>\n",
       "      <td>26.6</td>\n",
       "      <td>...</td>\n",
       "      <td>0</td>\n",
       "      <td>677010</td>\n",
       "      <td>Other</td>\n",
       "      <td>22458.0</td>\n",
       "      <td>13.5</td>\n",
       "      <td>4%</td>\n",
       "      <td>65 : 35</td>\n",
       "      <td>Sport Science,Economics &amp; Econometrics,Mathematics &amp; Statistics,Art, Performing Arts &amp; Design,Accounting &amp; Finance,Other Health,Physics &amp; Astronomy,Education,Languages, Literature &amp; Linguistics,Civil Engineering,Politics &amp; International Studies (incl Development Studies),Medicine &amp; Dentistry,Agriculture &amp; Forestry,Sociology,Architecture,Veterinary Science,Law,Archaeology,Computer Science,Chemistry,Business &amp; Management,Electrical &amp; Electronic Engineering,Communication &amp; Media Studies,History, Philosophy &amp; Theology,Biological Sciences,Geography,Mechanical &amp; Aerospace Engineering,Geology, Environmental, Earth &amp; Marine Sciences,Psychology</td>\n",
       "      <td>False</td>\n",
       "      <td>1700+</td>\n",
       "    </tr>\n",
       "    <tr>\n",
       "      <th>2053</th>\n",
       "      <td>20540</td>\n",
       "      <td>10.5</td>\n",
       "      <td>20540</td>\n",
       "      <td>20.7</td>\n",
       "      <td>1444</td>\n",
       "      <td>8.8</td>\n",
       "      <td>1991</td>\n",
       "      <td>10.5</td>\n",
       "      <td>2022</td>\n",
       "      <td>24.0</td>\n",
       "      <td>...</td>\n",
       "      <td>0</td>\n",
       "      <td>131353</td>\n",
       "      <td>Other</td>\n",
       "      <td>20855.0</td>\n",
       "      <td>10.9</td>\n",
       "      <td>1%</td>\n",
       "      <td>60 : 40</td>\n",
       "      <td>Medicine &amp; Dentistry,Geology, Environmental, Earth &amp; Marine Sciences,Computer Science,Civil Engineering,Geography,Electrical &amp; Electronic Engineering,Physics &amp; Astronomy,Communication &amp; Media Studies,Art, Performing Arts &amp; Design,Mathematics &amp; Statistics,Accounting &amp; Finance,Other Health,Chemistry,Economics &amp; Econometrics,History, Philosophy &amp; Theology,Biological Sciences,Psychology,Architecture,Agriculture &amp; Forestry,Education,Mechanical &amp; Aerospace Engineering,Politics &amp; International Studies (incl Development Studies),Languages, Literature &amp; Linguistics,Sport Science,Business &amp; Management,Chemical Engineering,Law</td>\n",
       "      <td>False</td>\n",
       "      <td>1700+</td>\n",
       "    </tr>\n",
       "    <tr>\n",
       "      <th>2064</th>\n",
       "      <td>20650</td>\n",
       "      <td>10.5</td>\n",
       "      <td>20650</td>\n",
       "      <td>15.1</td>\n",
       "      <td>1901</td>\n",
       "      <td>9.9</td>\n",
       "      <td>1824</td>\n",
       "      <td>29.2</td>\n",
       "      <td>1613</td>\n",
       "      <td>21.4</td>\n",
       "      <td>...</td>\n",
       "      <td>0</td>\n",
       "      <td>670626</td>\n",
       "      <td>Other</td>\n",
       "      <td>23677.0</td>\n",
       "      <td>26.9</td>\n",
       "      <td>2%</td>\n",
       "      <td>40 : 60</td>\n",
       "      <td>Archaeology,Mechanical &amp; Aerospace Engineering,Mathematics &amp; Statistics,Civil Engineering,History, Philosophy &amp; Theology,Communication &amp; Media Studies,Education,Biological Sciences,Computer Science,Politics &amp; International Studies (incl Development Studies),Art, Performing Arts &amp; Design,Electrical &amp; Electronic Engineering,Geography,Geology, Environmental, Earth &amp; Marine Sciences,Business &amp; Management,Languages, Literature &amp; Linguistics,Physics &amp; Astronomy,Chemical Engineering,Law,Accounting &amp; Finance,Architecture,Economics &amp; Econometrics,Veterinary Science,Other Health,Chemistry,Medicine &amp; Dentistry,General Engineering,Psychology,Sociology,Agriculture &amp; Forestry,Sport Science</td>\n",
       "      <td>False</td>\n",
       "      <td>1700+</td>\n",
       "    </tr>\n",
       "    <tr>\n",
       "      <th>2066</th>\n",
       "      <td>20670</td>\n",
       "      <td>10.5</td>\n",
       "      <td>20670</td>\n",
       "      <td>14.2</td>\n",
       "      <td>1950</td>\n",
       "      <td>10.6</td>\n",
       "      <td>1711</td>\n",
       "      <td>39.3</td>\n",
       "      <td>1361</td>\n",
       "      <td>21.0</td>\n",
       "      <td>...</td>\n",
       "      <td>0</td>\n",
       "      <td>707981</td>\n",
       "      <td>Other</td>\n",
       "      <td>23476.0</td>\n",
       "      <td>18.3</td>\n",
       "      <td>0%</td>\n",
       "      <td>51 : 49</td>\n",
       "      <td>General Engineering,Mathematics &amp; Statistics,Law,Physics &amp; Astronomy,Geography,Archaeology,Economics &amp; Econometrics,Architecture,Chemistry,Veterinary Science,Electrical &amp; Electronic Engineering,Agriculture &amp; Forestry,Sociology,History, Philosophy &amp; Theology,Communication &amp; Media Studies,Computer Science,Civil Engineering,Mechanical &amp; Aerospace Engineering,Languages, Literature &amp; Linguistics,Medicine &amp; Dentistry,Biological Sciences,Art, Performing Arts &amp; Design,Business &amp; Management,Geology, Environmental, Earth &amp; Marine Sciences,Psychology,Politics &amp; International Studies (incl Development Studies),Other Health,Education,Chemical Engineering,Accounting &amp; Finance</td>\n",
       "      <td>False</td>\n",
       "      <td>1700+</td>\n",
       "    </tr>\n",
       "    <tr>\n",
       "      <th>2089</th>\n",
       "      <td>20900</td>\n",
       "      <td>10.5</td>\n",
       "      <td>20900</td>\n",
       "      <td>24.8</td>\n",
       "      <td>1098</td>\n",
       "      <td>8.8</td>\n",
       "      <td>1993</td>\n",
       "      <td>8.7</td>\n",
       "      <td>2052</td>\n",
       "      <td>20.9</td>\n",
       "      <td>...</td>\n",
       "      <td>0</td>\n",
       "      <td>715426</td>\n",
       "      <td>Other</td>\n",
       "      <td>13923.0</td>\n",
       "      <td>8.0</td>\n",
       "      <td>3%</td>\n",
       "      <td>53 : 47</td>\n",
       "      <td>Mathematics &amp; Statistics,Biological Sciences,Physics &amp; Astronomy</td>\n",
       "      <td>False</td>\n",
       "      <td>1700+</td>\n",
       "    </tr>\n",
       "  </tbody>\n",
       "</table>\n",
       "<p>102 rows × 24 columns</p>\n",
       "</div>"
      ]
     },
     "execution_count": 581,
     "metadata": {},
     "output_type": "execute_result"
    }
   ],
   "execution_count": 581
  },
  {
   "metadata": {
    "ExecuteTime": {
     "end_time": "2024-12-04T08:43:16.158432Z",
     "start_time": "2024-12-04T08:43:16.149914Z"
    }
   },
   "cell_type": "code",
   "source": "data['location'].value_counts(  )",
   "id": "59660e21ee245dbb",
   "outputs": [
    {
     "data": {
      "text/plain": [
       "location\n",
       "United States     174\n",
       "Japan             119\n",
       "United Kingdom    107\n",
       "India             107\n",
       "Other             102\n",
       "                 ... \n",
       "Norway              6\n",
       "Philippines         6\n",
       "Peru                6\n",
       "Sri Lanka           6\n",
       "Slovakia            6\n",
       "Name: count, Length: 62, dtype: int64"
      ]
     },
     "execution_count": 582,
     "metadata": {},
     "output_type": "execute_result"
    }
   ],
   "execution_count": 582
  },
  {
   "metadata": {
    "ExecuteTime": {
     "end_time": "2024-12-04T08:43:16.278985Z",
     "start_time": "2024-12-04T08:43:16.274447Z"
    }
   },
   "cell_type": "code",
   "source": [
    "# 2. Target Encoding\n",
    "from sklearn.preprocessing import LabelEncoder\n",
    "\n"
   ],
   "id": "48e50051ffe6bc7e",
   "outputs": [],
   "execution_count": 583
  },
  {
   "metadata": {
    "ExecuteTime": {
     "end_time": "2024-12-04T08:43:16.424833Z",
     "start_time": "2024-12-04T08:43:16.395255Z"
    }
   },
   "cell_type": "code",
   "source": "data",
   "id": "5eecde4213036ca0",
   "outputs": [
    {
     "data": {
      "text/plain": [
       "      rank_order  scores_overall  scores_overall_rank  scores_teaching  \\\n",
       "0             10            98.5                   10             96.8   \n",
       "1             20            98.1                   20             99.2   \n",
       "2             30            97.7                   30             97.3   \n",
       "3             40            97.5                   40             98.3   \n",
       "4             50            97.4                   50             95.9   \n",
       "...          ...             ...                  ...              ...   \n",
       "2087       20880            10.5                20880             20.2   \n",
       "2088       20890            10.5                20890             20.5   \n",
       "2089       20900            10.5                20900             24.8   \n",
       "2090       20910            10.5                20910             18.0   \n",
       "2091       20920            10.5                20920             12.5   \n",
       "\n",
       "      scores_teaching_rank  scores_research  scores_research_rank  \\\n",
       "0                        5            100.0                     1   \n",
       "1                        1             96.0                    11   \n",
       "2                        4             99.9                     2   \n",
       "3                        2             98.0                     6   \n",
       "4                        6             99.9                     3   \n",
       "...                    ...              ...                   ...   \n",
       "2087                  1483             12.0                  1520   \n",
       "2088                  1454             12.1                  1506   \n",
       "2089                  1098              8.8                  1993   \n",
       "2090                  1705              9.8                  1841   \n",
       "2091                  2037             11.1                  1641   \n",
       "\n",
       "      scores_citations  scores_citations_rank  scores_industry_income  ...  \\\n",
       "0                 98.8                      8                    99.6  ...   \n",
       "1                 99.7                      1                   100.0  ...   \n",
       "2                 99.3                      3                    85.7  ...   \n",
       "3                 98.9                      7                    96.9  ...   \n",
       "4                 97.6                     17                    88.4  ...   \n",
       "...                ...                    ...                     ...  ...   \n",
       "2087              39.7                   1353                    49.1  ...   \n",
       "2088              22.1                   1795                    49.6  ...   \n",
       "2089               8.7                   2052                    20.9  ...   \n",
       "2090               8.8                   2050                    17.2  ...   \n",
       "2091              25.1                   1722                    19.3  ...   \n",
       "\n",
       "      member_level     nid        location stats_number_students  \\\n",
       "0                0     468  United Kingdom               22095.0   \n",
       "1                0     471   United States               11836.0   \n",
       "2                0     466   United States               22584.0   \n",
       "3                0     469   United States                8378.0   \n",
       "4                0     470  United Kingdom               20980.0   \n",
       "...            ...     ...             ...                   ...   \n",
       "2087             0  623463           China               39528.0   \n",
       "2088             0  624663          Turkey               17506.0   \n",
       "2089             0  715426           Other               13923.0   \n",
       "2090             0  626145         Ukraine               12377.0   \n",
       "2091             0  625941          Turkey               22844.0   \n",
       "\n",
       "      stats_student_staff_ratio  stats_pc_intl_students  \\\n",
       "0                          10.8                     43%   \n",
       "1                           8.0                     33%   \n",
       "2                          10.0                     25%   \n",
       "3                           7.8                     23%   \n",
       "4                          11.5                     38%   \n",
       "...                         ...                     ...   \n",
       "2087                       13.0                      1%   \n",
       "2088                       29.9                      6%   \n",
       "2089                        8.0                      3%   \n",
       "2090                       12.5                      1%   \n",
       "2091                       22.9                     10%   \n",
       "\n",
       "     stats_female_male_ratio  \\\n",
       "0                    51 : 49   \n",
       "1                    42 : 58   \n",
       "2                    52 : 48   \n",
       "3                    47 : 53   \n",
       "4                    49 : 51   \n",
       "...                      ...   \n",
       "2087                 37 : 63   \n",
       "2088                 56 : 44   \n",
       "2089                 53 : 47   \n",
       "2090                 49 : 51   \n",
       "2091                 45 : 55   \n",
       "\n",
       "                                                                                                                                                                                                                                                                                                                                                                                                                                                                                                                                                                                                                                            subjects_offered  \\\n",
       "0                    Computer Science,Languages, Literature & Linguistics,Mathematics & Statistics,Economics & Econometrics,Law,Accounting & Finance,Chemical Engineering,Archaeology,Communication & Media Studies,Civil Engineering,Education,Mechanical & Aerospace Engineering,Geology, Environmental, Earth & Marine Sciences,Psychology,Biological Sciences,Geography,Politics & International Studies (incl Development Studies),Other Health,General Engineering,Business & Management,Chemistry,Medicine & Dentistry,Art, Performing Arts & Design,Electrical & Electronic Engineering,Physics & Astronomy,History, Philosophy & Theology,Sociology   \n",
       "1                                                                         Biological Sciences,Electrical & Electronic Engineering,Languages, Literature & Linguistics,Economics & Econometrics,Psychology,Art, Performing Arts & Design,Physics & Astronomy,Mechanical & Aerospace Engineering,Sociology,Communication & Media Studies,Mathematics & Statistics,Architecture,General Engineering,Civil Engineering,Chemical Engineering,History, Philosophy & Theology,Geology, Environmental, Earth & Marine Sciences,Archaeology,Other Health,Chemistry,Politics & International Studies (incl Development Studies),Computer Science,Business & Management   \n",
       "2     Archaeology,Mathematics & Statistics,Art, Performing Arts & Design,Psychology,Other Health,Chemistry,Economics & Econometrics,Biological Sciences,Accounting & Finance,Physics & Astronomy,Medicine & Dentistry,Communication & Media Studies,Civil Engineering,Mechanical & Aerospace Engineering,Law,History, Philosophy & Theology,Geography,Education,Computer Science,General Engineering,Politics & International Studies (incl Development Studies),Languages, Literature & Linguistics,Business & Management,Architecture,Sociology,Geology, Environmental, Earth & Marine Sciences,Electrical & Electronic Engineering,Agriculture & Forestry   \n",
       "3                                                                                                                  Chemistry,Languages, Literature & Linguistics,Mechanical & Aerospace Engineering,Sociology,Chemical Engineering,Economics & Econometrics,General Engineering,Geology, Environmental, Earth & Marine Sciences,Computer Science,Mathematics & Statistics,Other Health,Biological Sciences,History, Philosophy & Theology,Agriculture & Forestry,Electrical & Electronic Engineering,Politics & International Studies (incl Development Studies),Art, Performing Arts & Design,Physics & Astronomy,Architecture,Civil Engineering,Psychology   \n",
       "4                                                    History, Philosophy & Theology,Biological Sciences,Geology, Environmental, Earth & Marine Sciences,Law,Electrical & Electronic Engineering,Architecture,Psychology,Veterinary Science,Politics & International Studies (incl Development Studies),Physics & Astronomy,General Engineering,Archaeology,Medicine & Dentistry,Chemistry,Mechanical & Aerospace Engineering,Geography,Economics & Econometrics,Languages, Literature & Linguistics,Computer Science,Mathematics & Statistics,Civil Engineering,Sociology,Business & Management,Chemical Engineering,Art, Performing Arts & Design,Education   \n",
       "...                                                                                                                                                                                                                                                                                                                                                                                                                                                                                                                                                                                                                                                      ...   \n",
       "2087                                                                                                  Art, Performing Arts & Design,Languages, Literature & Linguistics,Electrical & Electronic Engineering,Mathematics & Statistics,Communication & Media Studies,Sociology,Accounting & Finance,Chemistry,Biological Sciences,Civil Engineering,Business & Management,Economics & Econometrics,Politics & International Studies (incl Development Studies),Physics & Astronomy,Sport Science,Computer Science,Mechanical & Aerospace Engineering,Law,Geology, Environmental, Earth & Marine Sciences,General Engineering,Architecture,Chemical Engineering   \n",
       "2088                                                             Mechanical & Aerospace Engineering,Sociology,Other Health,Chemical Engineering,Law,Medicine & Dentistry,Biological Sciences,Accounting & Finance,Languages, Literature & Linguistics,Civil Engineering,Education,Computer Science,Physics & Astronomy,Economics & Econometrics,History, Philosophy & Theology,Agriculture & Forestry,Psychology,Art, Performing Arts & Design,Mathematics & Statistics,Business & Management,Architecture,General Engineering,Communication & Media Studies,Electrical & Electronic Engineering,Politics & International Studies (incl Development Studies)   \n",
       "2089                                                                                                                                                                                                                                                                                                                                                                                                                                                                                                                                                                                        Mathematics & Statistics,Biological Sciences,Physics & Astronomy   \n",
       "2090                                                                                                                             Electrical & Electronic Engineering,Archaeology,Agriculture & Forestry,Sociology,Architecture,Physics & Astronomy,Economics & Econometrics,Civil Engineering,Politics & International Studies (incl Development Studies),Geography,Languages, Literature & Linguistics,Education,Art, Performing Arts & Design,Sport Science,Law,History, Philosophy & Theology,Biological Sciences,Psychology,Computer Science,Chemistry,Mathematics & Statistics,Business & Management,Communication & Media Studies,Accounting & Finance   \n",
       "2091                                                                           Business & Management,General Engineering,Communication & Media Studies,Computer Science,Chemistry,Languages, Literature & Linguistics,Agriculture & Forestry,Medicine & Dentistry,History, Philosophy & Theology,Psychology,Mathematics & Statistics,Sport Science,Art, Performing Arts & Design,Electrical & Electronic Engineering,Education,Mechanical & Aerospace Engineering,Geology, Environmental, Earth & Marine Sciences,Civil Engineering,Sociology,Archaeology,Other Health,Biological Sciences,Physics & Astronomy,Accounting & Finance,Economics & Econometrics   \n",
       "\n",
       "      disabled  label  \n",
       "0        False  0-600  \n",
       "1        False  0-600  \n",
       "2        False  0-600  \n",
       "3        False  0-600  \n",
       "4        False  0-600  \n",
       "...        ...    ...  \n",
       "2087     False  1700+  \n",
       "2088     False  1700+  \n",
       "2089     False  1700+  \n",
       "2090     False  1700+  \n",
       "2091     False  1700+  \n",
       "\n",
       "[2092 rows x 24 columns]"
      ],
      "text/html": [
       "<div>\n",
       "<style scoped>\n",
       "    .dataframe tbody tr th:only-of-type {\n",
       "        vertical-align: middle;\n",
       "    }\n",
       "\n",
       "    .dataframe tbody tr th {\n",
       "        vertical-align: top;\n",
       "    }\n",
       "\n",
       "    .dataframe thead th {\n",
       "        text-align: right;\n",
       "    }\n",
       "</style>\n",
       "<table border=\"1\" class=\"dataframe\">\n",
       "  <thead>\n",
       "    <tr style=\"text-align: right;\">\n",
       "      <th></th>\n",
       "      <th>rank_order</th>\n",
       "      <th>scores_overall</th>\n",
       "      <th>scores_overall_rank</th>\n",
       "      <th>scores_teaching</th>\n",
       "      <th>scores_teaching_rank</th>\n",
       "      <th>scores_research</th>\n",
       "      <th>scores_research_rank</th>\n",
       "      <th>scores_citations</th>\n",
       "      <th>scores_citations_rank</th>\n",
       "      <th>scores_industry_income</th>\n",
       "      <th>...</th>\n",
       "      <th>member_level</th>\n",
       "      <th>nid</th>\n",
       "      <th>location</th>\n",
       "      <th>stats_number_students</th>\n",
       "      <th>stats_student_staff_ratio</th>\n",
       "      <th>stats_pc_intl_students</th>\n",
       "      <th>stats_female_male_ratio</th>\n",
       "      <th>subjects_offered</th>\n",
       "      <th>disabled</th>\n",
       "      <th>label</th>\n",
       "    </tr>\n",
       "  </thead>\n",
       "  <tbody>\n",
       "    <tr>\n",
       "      <th>0</th>\n",
       "      <td>10</td>\n",
       "      <td>98.5</td>\n",
       "      <td>10</td>\n",
       "      <td>96.8</td>\n",
       "      <td>5</td>\n",
       "      <td>100.0</td>\n",
       "      <td>1</td>\n",
       "      <td>98.8</td>\n",
       "      <td>8</td>\n",
       "      <td>99.6</td>\n",
       "      <td>...</td>\n",
       "      <td>0</td>\n",
       "      <td>468</td>\n",
       "      <td>United Kingdom</td>\n",
       "      <td>22095.0</td>\n",
       "      <td>10.8</td>\n",
       "      <td>43%</td>\n",
       "      <td>51 : 49</td>\n",
       "      <td>Computer Science,Languages, Literature &amp; Linguistics,Mathematics &amp; Statistics,Economics &amp; Econometrics,Law,Accounting &amp; Finance,Chemical Engineering,Archaeology,Communication &amp; Media Studies,Civil Engineering,Education,Mechanical &amp; Aerospace Engineering,Geology, Environmental, Earth &amp; Marine Sciences,Psychology,Biological Sciences,Geography,Politics &amp; International Studies (incl Development Studies),Other Health,General Engineering,Business &amp; Management,Chemistry,Medicine &amp; Dentistry,Art, Performing Arts &amp; Design,Electrical &amp; Electronic Engineering,Physics &amp; Astronomy,History, Philosophy &amp; Theology,Sociology</td>\n",
       "      <td>False</td>\n",
       "      <td>0-600</td>\n",
       "    </tr>\n",
       "    <tr>\n",
       "      <th>1</th>\n",
       "      <td>20</td>\n",
       "      <td>98.1</td>\n",
       "      <td>20</td>\n",
       "      <td>99.2</td>\n",
       "      <td>1</td>\n",
       "      <td>96.0</td>\n",
       "      <td>11</td>\n",
       "      <td>99.7</td>\n",
       "      <td>1</td>\n",
       "      <td>100.0</td>\n",
       "      <td>...</td>\n",
       "      <td>0</td>\n",
       "      <td>471</td>\n",
       "      <td>United States</td>\n",
       "      <td>11836.0</td>\n",
       "      <td>8.0</td>\n",
       "      <td>33%</td>\n",
       "      <td>42 : 58</td>\n",
       "      <td>Biological Sciences,Electrical &amp; Electronic Engineering,Languages, Literature &amp; Linguistics,Economics &amp; Econometrics,Psychology,Art, Performing Arts &amp; Design,Physics &amp; Astronomy,Mechanical &amp; Aerospace Engineering,Sociology,Communication &amp; Media Studies,Mathematics &amp; Statistics,Architecture,General Engineering,Civil Engineering,Chemical Engineering,History, Philosophy &amp; Theology,Geology, Environmental, Earth &amp; Marine Sciences,Archaeology,Other Health,Chemistry,Politics &amp; International Studies (incl Development Studies),Computer Science,Business &amp; Management</td>\n",
       "      <td>False</td>\n",
       "      <td>0-600</td>\n",
       "    </tr>\n",
       "    <tr>\n",
       "      <th>2</th>\n",
       "      <td>30</td>\n",
       "      <td>97.7</td>\n",
       "      <td>30</td>\n",
       "      <td>97.3</td>\n",
       "      <td>4</td>\n",
       "      <td>99.9</td>\n",
       "      <td>2</td>\n",
       "      <td>99.3</td>\n",
       "      <td>3</td>\n",
       "      <td>85.7</td>\n",
       "      <td>...</td>\n",
       "      <td>0</td>\n",
       "      <td>466</td>\n",
       "      <td>United States</td>\n",
       "      <td>22584.0</td>\n",
       "      <td>10.0</td>\n",
       "      <td>25%</td>\n",
       "      <td>52 : 48</td>\n",
       "      <td>Archaeology,Mathematics &amp; Statistics,Art, Performing Arts &amp; Design,Psychology,Other Health,Chemistry,Economics &amp; Econometrics,Biological Sciences,Accounting &amp; Finance,Physics &amp; Astronomy,Medicine &amp; Dentistry,Communication &amp; Media Studies,Civil Engineering,Mechanical &amp; Aerospace Engineering,Law,History, Philosophy &amp; Theology,Geography,Education,Computer Science,General Engineering,Politics &amp; International Studies (incl Development Studies),Languages, Literature &amp; Linguistics,Business &amp; Management,Architecture,Sociology,Geology, Environmental, Earth &amp; Marine Sciences,Electrical &amp; Electronic Engineering,Agriculture &amp; Forestry</td>\n",
       "      <td>False</td>\n",
       "      <td>0-600</td>\n",
       "    </tr>\n",
       "    <tr>\n",
       "      <th>3</th>\n",
       "      <td>40</td>\n",
       "      <td>97.5</td>\n",
       "      <td>40</td>\n",
       "      <td>98.3</td>\n",
       "      <td>2</td>\n",
       "      <td>98.0</td>\n",
       "      <td>6</td>\n",
       "      <td>98.9</td>\n",
       "      <td>7</td>\n",
       "      <td>96.9</td>\n",
       "      <td>...</td>\n",
       "      <td>0</td>\n",
       "      <td>469</td>\n",
       "      <td>United States</td>\n",
       "      <td>8378.0</td>\n",
       "      <td>7.8</td>\n",
       "      <td>23%</td>\n",
       "      <td>47 : 53</td>\n",
       "      <td>Chemistry,Languages, Literature &amp; Linguistics,Mechanical &amp; Aerospace Engineering,Sociology,Chemical Engineering,Economics &amp; Econometrics,General Engineering,Geology, Environmental, Earth &amp; Marine Sciences,Computer Science,Mathematics &amp; Statistics,Other Health,Biological Sciences,History, Philosophy &amp; Theology,Agriculture &amp; Forestry,Electrical &amp; Electronic Engineering,Politics &amp; International Studies (incl Development Studies),Art, Performing Arts &amp; Design,Physics &amp; Astronomy,Architecture,Civil Engineering,Psychology</td>\n",
       "      <td>False</td>\n",
       "      <td>0-600</td>\n",
       "    </tr>\n",
       "    <tr>\n",
       "      <th>4</th>\n",
       "      <td>50</td>\n",
       "      <td>97.4</td>\n",
       "      <td>50</td>\n",
       "      <td>95.9</td>\n",
       "      <td>6</td>\n",
       "      <td>99.9</td>\n",
       "      <td>3</td>\n",
       "      <td>97.6</td>\n",
       "      <td>17</td>\n",
       "      <td>88.4</td>\n",
       "      <td>...</td>\n",
       "      <td>0</td>\n",
       "      <td>470</td>\n",
       "      <td>United Kingdom</td>\n",
       "      <td>20980.0</td>\n",
       "      <td>11.5</td>\n",
       "      <td>38%</td>\n",
       "      <td>49 : 51</td>\n",
       "      <td>History, Philosophy &amp; Theology,Biological Sciences,Geology, Environmental, Earth &amp; Marine Sciences,Law,Electrical &amp; Electronic Engineering,Architecture,Psychology,Veterinary Science,Politics &amp; International Studies (incl Development Studies),Physics &amp; Astronomy,General Engineering,Archaeology,Medicine &amp; Dentistry,Chemistry,Mechanical &amp; Aerospace Engineering,Geography,Economics &amp; Econometrics,Languages, Literature &amp; Linguistics,Computer Science,Mathematics &amp; Statistics,Civil Engineering,Sociology,Business &amp; Management,Chemical Engineering,Art, Performing Arts &amp; Design,Education</td>\n",
       "      <td>False</td>\n",
       "      <td>0-600</td>\n",
       "    </tr>\n",
       "    <tr>\n",
       "      <th>...</th>\n",
       "      <td>...</td>\n",
       "      <td>...</td>\n",
       "      <td>...</td>\n",
       "      <td>...</td>\n",
       "      <td>...</td>\n",
       "      <td>...</td>\n",
       "      <td>...</td>\n",
       "      <td>...</td>\n",
       "      <td>...</td>\n",
       "      <td>...</td>\n",
       "      <td>...</td>\n",
       "      <td>...</td>\n",
       "      <td>...</td>\n",
       "      <td>...</td>\n",
       "      <td>...</td>\n",
       "      <td>...</td>\n",
       "      <td>...</td>\n",
       "      <td>...</td>\n",
       "      <td>...</td>\n",
       "      <td>...</td>\n",
       "      <td>...</td>\n",
       "    </tr>\n",
       "    <tr>\n",
       "      <th>2087</th>\n",
       "      <td>20880</td>\n",
       "      <td>10.5</td>\n",
       "      <td>20880</td>\n",
       "      <td>20.2</td>\n",
       "      <td>1483</td>\n",
       "      <td>12.0</td>\n",
       "      <td>1520</td>\n",
       "      <td>39.7</td>\n",
       "      <td>1353</td>\n",
       "      <td>49.1</td>\n",
       "      <td>...</td>\n",
       "      <td>0</td>\n",
       "      <td>623463</td>\n",
       "      <td>China</td>\n",
       "      <td>39528.0</td>\n",
       "      <td>13.0</td>\n",
       "      <td>1%</td>\n",
       "      <td>37 : 63</td>\n",
       "      <td>Art, Performing Arts &amp; Design,Languages, Literature &amp; Linguistics,Electrical &amp; Electronic Engineering,Mathematics &amp; Statistics,Communication &amp; Media Studies,Sociology,Accounting &amp; Finance,Chemistry,Biological Sciences,Civil Engineering,Business &amp; Management,Economics &amp; Econometrics,Politics &amp; International Studies (incl Development Studies),Physics &amp; Astronomy,Sport Science,Computer Science,Mechanical &amp; Aerospace Engineering,Law,Geology, Environmental, Earth &amp; Marine Sciences,General Engineering,Architecture,Chemical Engineering</td>\n",
       "      <td>False</td>\n",
       "      <td>1700+</td>\n",
       "    </tr>\n",
       "    <tr>\n",
       "      <th>2088</th>\n",
       "      <td>20890</td>\n",
       "      <td>10.5</td>\n",
       "      <td>20890</td>\n",
       "      <td>20.5</td>\n",
       "      <td>1454</td>\n",
       "      <td>12.1</td>\n",
       "      <td>1506</td>\n",
       "      <td>22.1</td>\n",
       "      <td>1795</td>\n",
       "      <td>49.6</td>\n",
       "      <td>...</td>\n",
       "      <td>0</td>\n",
       "      <td>624663</td>\n",
       "      <td>Turkey</td>\n",
       "      <td>17506.0</td>\n",
       "      <td>29.9</td>\n",
       "      <td>6%</td>\n",
       "      <td>56 : 44</td>\n",
       "      <td>Mechanical &amp; Aerospace Engineering,Sociology,Other Health,Chemical Engineering,Law,Medicine &amp; Dentistry,Biological Sciences,Accounting &amp; Finance,Languages, Literature &amp; Linguistics,Civil Engineering,Education,Computer Science,Physics &amp; Astronomy,Economics &amp; Econometrics,History, Philosophy &amp; Theology,Agriculture &amp; Forestry,Psychology,Art, Performing Arts &amp; Design,Mathematics &amp; Statistics,Business &amp; Management,Architecture,General Engineering,Communication &amp; Media Studies,Electrical &amp; Electronic Engineering,Politics &amp; International Studies (incl Development Studies)</td>\n",
       "      <td>False</td>\n",
       "      <td>1700+</td>\n",
       "    </tr>\n",
       "    <tr>\n",
       "      <th>2089</th>\n",
       "      <td>20900</td>\n",
       "      <td>10.5</td>\n",
       "      <td>20900</td>\n",
       "      <td>24.8</td>\n",
       "      <td>1098</td>\n",
       "      <td>8.8</td>\n",
       "      <td>1993</td>\n",
       "      <td>8.7</td>\n",
       "      <td>2052</td>\n",
       "      <td>20.9</td>\n",
       "      <td>...</td>\n",
       "      <td>0</td>\n",
       "      <td>715426</td>\n",
       "      <td>Other</td>\n",
       "      <td>13923.0</td>\n",
       "      <td>8.0</td>\n",
       "      <td>3%</td>\n",
       "      <td>53 : 47</td>\n",
       "      <td>Mathematics &amp; Statistics,Biological Sciences,Physics &amp; Astronomy</td>\n",
       "      <td>False</td>\n",
       "      <td>1700+</td>\n",
       "    </tr>\n",
       "    <tr>\n",
       "      <th>2090</th>\n",
       "      <td>20910</td>\n",
       "      <td>10.5</td>\n",
       "      <td>20910</td>\n",
       "      <td>18.0</td>\n",
       "      <td>1705</td>\n",
       "      <td>9.8</td>\n",
       "      <td>1841</td>\n",
       "      <td>8.8</td>\n",
       "      <td>2050</td>\n",
       "      <td>17.2</td>\n",
       "      <td>...</td>\n",
       "      <td>0</td>\n",
       "      <td>626145</td>\n",
       "      <td>Ukraine</td>\n",
       "      <td>12377.0</td>\n",
       "      <td>12.5</td>\n",
       "      <td>1%</td>\n",
       "      <td>49 : 51</td>\n",
       "      <td>Electrical &amp; Electronic Engineering,Archaeology,Agriculture &amp; Forestry,Sociology,Architecture,Physics &amp; Astronomy,Economics &amp; Econometrics,Civil Engineering,Politics &amp; International Studies (incl Development Studies),Geography,Languages, Literature &amp; Linguistics,Education,Art, Performing Arts &amp; Design,Sport Science,Law,History, Philosophy &amp; Theology,Biological Sciences,Psychology,Computer Science,Chemistry,Mathematics &amp; Statistics,Business &amp; Management,Communication &amp; Media Studies,Accounting &amp; Finance</td>\n",
       "      <td>False</td>\n",
       "      <td>1700+</td>\n",
       "    </tr>\n",
       "    <tr>\n",
       "      <th>2091</th>\n",
       "      <td>20920</td>\n",
       "      <td>10.5</td>\n",
       "      <td>20920</td>\n",
       "      <td>12.5</td>\n",
       "      <td>2037</td>\n",
       "      <td>11.1</td>\n",
       "      <td>1641</td>\n",
       "      <td>25.1</td>\n",
       "      <td>1722</td>\n",
       "      <td>19.3</td>\n",
       "      <td>...</td>\n",
       "      <td>0</td>\n",
       "      <td>625941</td>\n",
       "      <td>Turkey</td>\n",
       "      <td>22844.0</td>\n",
       "      <td>22.9</td>\n",
       "      <td>10%</td>\n",
       "      <td>45 : 55</td>\n",
       "      <td>Business &amp; Management,General Engineering,Communication &amp; Media Studies,Computer Science,Chemistry,Languages, Literature &amp; Linguistics,Agriculture &amp; Forestry,Medicine &amp; Dentistry,History, Philosophy &amp; Theology,Psychology,Mathematics &amp; Statistics,Sport Science,Art, Performing Arts &amp; Design,Electrical &amp; Electronic Engineering,Education,Mechanical &amp; Aerospace Engineering,Geology, Environmental, Earth &amp; Marine Sciences,Civil Engineering,Sociology,Archaeology,Other Health,Biological Sciences,Physics &amp; Astronomy,Accounting &amp; Finance,Economics &amp; Econometrics</td>\n",
       "      <td>False</td>\n",
       "      <td>1700+</td>\n",
       "    </tr>\n",
       "  </tbody>\n",
       "</table>\n",
       "<p>2092 rows × 24 columns</p>\n",
       "</div>"
      ]
     },
     "execution_count": 584,
     "metadata": {},
     "output_type": "execute_result"
    }
   ],
   "execution_count": 584
  },
  {
   "metadata": {
    "ExecuteTime": {
     "end_time": "2024-12-04T08:43:16.534063Z",
     "start_time": "2024-12-04T08:43:16.519540Z"
    }
   },
   "cell_type": "code",
   "source": [
    "le = LabelEncoder()\n",
    "data['location'] = le.fit_transform(data['location'])\n",
    "\n",
    "# One-hot encoding\n",
    "one_hot_record_type = pd.get_dummies(data['record_type'], drop_first=True)\n",
    "one_hot_disabled = pd.get_dummies(data['disabled'], drop_first=True)\n",
    "\n",
    "# Concatenate the one-hot encoded columns with the original DataFrame\n",
    "data = pd.concat([data, one_hot_record_type, one_hot_disabled], axis=1)\n",
    "data.drop(['record_type', 'disabled'], axis=1, inplace=True)"
   ],
   "id": "35c367d4ff0e16ca",
   "outputs": [],
   "execution_count": 585
  },
  {
   "metadata": {
    "ExecuteTime": {
     "end_time": "2024-12-04T08:43:16.614706Z",
     "start_time": "2024-12-04T08:43:16.601369Z"
    }
   },
   "cell_type": "code",
   "source": [
    "\n",
    "data['subjects_offered lenth'] = data['subjects_offered'].str.split(',').str.len()\n",
    "data.drop('subjects_offered', axis=1, inplace=True)"
   ],
   "id": "843e3d9828be710b",
   "outputs": [],
   "execution_count": 586
  },
  {
   "metadata": {
    "ExecuteTime": {
     "end_time": "2024-12-04T08:43:16.687896Z",
     "start_time": "2024-12-04T08:43:16.659182Z"
    }
   },
   "cell_type": "code",
   "source": "data",
   "id": "4f956b5f01fa8a4c",
   "outputs": [
    {
     "data": {
      "text/plain": [
       "      rank_order  scores_overall  scores_overall_rank  scores_teaching  \\\n",
       "0             10            98.5                   10             96.8   \n",
       "1             20            98.1                   20             99.2   \n",
       "2             30            97.7                   30             97.3   \n",
       "3             40            97.5                   40             98.3   \n",
       "4             50            97.4                   50             95.9   \n",
       "...          ...             ...                  ...              ...   \n",
       "2087       20880            10.5                20880             20.2   \n",
       "2088       20890            10.5                20890             20.5   \n",
       "2089       20900            10.5                20900             24.8   \n",
       "2090       20910            10.5                20910             18.0   \n",
       "2091       20920            10.5                20920             12.5   \n",
       "\n",
       "      scores_teaching_rank  scores_research  scores_research_rank  \\\n",
       "0                        5            100.0                     1   \n",
       "1                        1             96.0                    11   \n",
       "2                        4             99.9                     2   \n",
       "3                        2             98.0                     6   \n",
       "4                        6             99.9                     3   \n",
       "...                    ...              ...                   ...   \n",
       "2087                  1483             12.0                  1520   \n",
       "2088                  1454             12.1                  1506   \n",
       "2089                  1098              8.8                  1993   \n",
       "2090                  1705              9.8                  1841   \n",
       "2091                  2037             11.1                  1641   \n",
       "\n",
       "      scores_citations  scores_citations_rank  scores_industry_income  ...  \\\n",
       "0                 98.8                      8                    99.6  ...   \n",
       "1                 99.7                      1                   100.0  ...   \n",
       "2                 99.3                      3                    85.7  ...   \n",
       "3                 98.9                      7                    96.9  ...   \n",
       "4                 97.6                     17                    88.4  ...   \n",
       "...                ...                    ...                     ...  ...   \n",
       "2087              39.7                   1353                    49.1  ...   \n",
       "2088              22.1                   1795                    49.6  ...   \n",
       "2089               8.7                   2052                    20.9  ...   \n",
       "2090               8.8                   2050                    17.2  ...   \n",
       "2091              25.1                   1722                    19.3  ...   \n",
       "\n",
       "      location  stats_number_students  stats_student_staff_ratio  \\\n",
       "0           59                22095.0                       10.8   \n",
       "1           60                11836.0                        8.0   \n",
       "2           60                22584.0                       10.0   \n",
       "3           60                 8378.0                        7.8   \n",
       "4           59                20980.0                       11.5   \n",
       "...        ...                    ...                        ...   \n",
       "2087         9                39528.0                       13.0   \n",
       "2088        56                17506.0                       29.9   \n",
       "2089        37                13923.0                        8.0   \n",
       "2090        57                12377.0                       12.5   \n",
       "2091        56                22844.0                       22.9   \n",
       "\n",
       "      stats_pc_intl_students  stats_female_male_ratio  label  private  public  \\\n",
       "0                        43%                  51 : 49  0-600    False   False   \n",
       "1                        33%                  42 : 58  0-600     True   False   \n",
       "2                        25%                  52 : 48  0-600     True   False   \n",
       "3                        23%                  47 : 53  0-600     True   False   \n",
       "4                        38%                  49 : 51  0-600    False   False   \n",
       "...                      ...                      ...    ...      ...     ...   \n",
       "2087                      1%                  37 : 63  1700+    False   False   \n",
       "2088                      6%                  56 : 44  1700+    False   False   \n",
       "2089                      3%                  53 : 47  1700+    False   False   \n",
       "2090                      1%                  49 : 51  1700+    False   False   \n",
       "2091                     10%                  45 : 55  1700+    False   False   \n",
       "\n",
       "       True subjects_offered lenth  \n",
       "0     False                     32  \n",
       "1     False                     28  \n",
       "2     False                     33  \n",
       "3     False                     26  \n",
       "4     False                     31  \n",
       "...     ...                    ...  \n",
       "2087  False                     26  \n",
       "2088  False                     28  \n",
       "2089  False                      3  \n",
       "2090  False                     27  \n",
       "2091  False                     30  \n",
       "\n",
       "[2092 rows x 25 columns]"
      ],
      "text/html": [
       "<div>\n",
       "<style scoped>\n",
       "    .dataframe tbody tr th:only-of-type {\n",
       "        vertical-align: middle;\n",
       "    }\n",
       "\n",
       "    .dataframe tbody tr th {\n",
       "        vertical-align: top;\n",
       "    }\n",
       "\n",
       "    .dataframe thead th {\n",
       "        text-align: right;\n",
       "    }\n",
       "</style>\n",
       "<table border=\"1\" class=\"dataframe\">\n",
       "  <thead>\n",
       "    <tr style=\"text-align: right;\">\n",
       "      <th></th>\n",
       "      <th>rank_order</th>\n",
       "      <th>scores_overall</th>\n",
       "      <th>scores_overall_rank</th>\n",
       "      <th>scores_teaching</th>\n",
       "      <th>scores_teaching_rank</th>\n",
       "      <th>scores_research</th>\n",
       "      <th>scores_research_rank</th>\n",
       "      <th>scores_citations</th>\n",
       "      <th>scores_citations_rank</th>\n",
       "      <th>scores_industry_income</th>\n",
       "      <th>...</th>\n",
       "      <th>location</th>\n",
       "      <th>stats_number_students</th>\n",
       "      <th>stats_student_staff_ratio</th>\n",
       "      <th>stats_pc_intl_students</th>\n",
       "      <th>stats_female_male_ratio</th>\n",
       "      <th>label</th>\n",
       "      <th>private</th>\n",
       "      <th>public</th>\n",
       "      <th>True</th>\n",
       "      <th>subjects_offered lenth</th>\n",
       "    </tr>\n",
       "  </thead>\n",
       "  <tbody>\n",
       "    <tr>\n",
       "      <th>0</th>\n",
       "      <td>10</td>\n",
       "      <td>98.5</td>\n",
       "      <td>10</td>\n",
       "      <td>96.8</td>\n",
       "      <td>5</td>\n",
       "      <td>100.0</td>\n",
       "      <td>1</td>\n",
       "      <td>98.8</td>\n",
       "      <td>8</td>\n",
       "      <td>99.6</td>\n",
       "      <td>...</td>\n",
       "      <td>59</td>\n",
       "      <td>22095.0</td>\n",
       "      <td>10.8</td>\n",
       "      <td>43%</td>\n",
       "      <td>51 : 49</td>\n",
       "      <td>0-600</td>\n",
       "      <td>False</td>\n",
       "      <td>False</td>\n",
       "      <td>False</td>\n",
       "      <td>32</td>\n",
       "    </tr>\n",
       "    <tr>\n",
       "      <th>1</th>\n",
       "      <td>20</td>\n",
       "      <td>98.1</td>\n",
       "      <td>20</td>\n",
       "      <td>99.2</td>\n",
       "      <td>1</td>\n",
       "      <td>96.0</td>\n",
       "      <td>11</td>\n",
       "      <td>99.7</td>\n",
       "      <td>1</td>\n",
       "      <td>100.0</td>\n",
       "      <td>...</td>\n",
       "      <td>60</td>\n",
       "      <td>11836.0</td>\n",
       "      <td>8.0</td>\n",
       "      <td>33%</td>\n",
       "      <td>42 : 58</td>\n",
       "      <td>0-600</td>\n",
       "      <td>True</td>\n",
       "      <td>False</td>\n",
       "      <td>False</td>\n",
       "      <td>28</td>\n",
       "    </tr>\n",
       "    <tr>\n",
       "      <th>2</th>\n",
       "      <td>30</td>\n",
       "      <td>97.7</td>\n",
       "      <td>30</td>\n",
       "      <td>97.3</td>\n",
       "      <td>4</td>\n",
       "      <td>99.9</td>\n",
       "      <td>2</td>\n",
       "      <td>99.3</td>\n",
       "      <td>3</td>\n",
       "      <td>85.7</td>\n",
       "      <td>...</td>\n",
       "      <td>60</td>\n",
       "      <td>22584.0</td>\n",
       "      <td>10.0</td>\n",
       "      <td>25%</td>\n",
       "      <td>52 : 48</td>\n",
       "      <td>0-600</td>\n",
       "      <td>True</td>\n",
       "      <td>False</td>\n",
       "      <td>False</td>\n",
       "      <td>33</td>\n",
       "    </tr>\n",
       "    <tr>\n",
       "      <th>3</th>\n",
       "      <td>40</td>\n",
       "      <td>97.5</td>\n",
       "      <td>40</td>\n",
       "      <td>98.3</td>\n",
       "      <td>2</td>\n",
       "      <td>98.0</td>\n",
       "      <td>6</td>\n",
       "      <td>98.9</td>\n",
       "      <td>7</td>\n",
       "      <td>96.9</td>\n",
       "      <td>...</td>\n",
       "      <td>60</td>\n",
       "      <td>8378.0</td>\n",
       "      <td>7.8</td>\n",
       "      <td>23%</td>\n",
       "      <td>47 : 53</td>\n",
       "      <td>0-600</td>\n",
       "      <td>True</td>\n",
       "      <td>False</td>\n",
       "      <td>False</td>\n",
       "      <td>26</td>\n",
       "    </tr>\n",
       "    <tr>\n",
       "      <th>4</th>\n",
       "      <td>50</td>\n",
       "      <td>97.4</td>\n",
       "      <td>50</td>\n",
       "      <td>95.9</td>\n",
       "      <td>6</td>\n",
       "      <td>99.9</td>\n",
       "      <td>3</td>\n",
       "      <td>97.6</td>\n",
       "      <td>17</td>\n",
       "      <td>88.4</td>\n",
       "      <td>...</td>\n",
       "      <td>59</td>\n",
       "      <td>20980.0</td>\n",
       "      <td>11.5</td>\n",
       "      <td>38%</td>\n",
       "      <td>49 : 51</td>\n",
       "      <td>0-600</td>\n",
       "      <td>False</td>\n",
       "      <td>False</td>\n",
       "      <td>False</td>\n",
       "      <td>31</td>\n",
       "    </tr>\n",
       "    <tr>\n",
       "      <th>...</th>\n",
       "      <td>...</td>\n",
       "      <td>...</td>\n",
       "      <td>...</td>\n",
       "      <td>...</td>\n",
       "      <td>...</td>\n",
       "      <td>...</td>\n",
       "      <td>...</td>\n",
       "      <td>...</td>\n",
       "      <td>...</td>\n",
       "      <td>...</td>\n",
       "      <td>...</td>\n",
       "      <td>...</td>\n",
       "      <td>...</td>\n",
       "      <td>...</td>\n",
       "      <td>...</td>\n",
       "      <td>...</td>\n",
       "      <td>...</td>\n",
       "      <td>...</td>\n",
       "      <td>...</td>\n",
       "      <td>...</td>\n",
       "      <td>...</td>\n",
       "    </tr>\n",
       "    <tr>\n",
       "      <th>2087</th>\n",
       "      <td>20880</td>\n",
       "      <td>10.5</td>\n",
       "      <td>20880</td>\n",
       "      <td>20.2</td>\n",
       "      <td>1483</td>\n",
       "      <td>12.0</td>\n",
       "      <td>1520</td>\n",
       "      <td>39.7</td>\n",
       "      <td>1353</td>\n",
       "      <td>49.1</td>\n",
       "      <td>...</td>\n",
       "      <td>9</td>\n",
       "      <td>39528.0</td>\n",
       "      <td>13.0</td>\n",
       "      <td>1%</td>\n",
       "      <td>37 : 63</td>\n",
       "      <td>1700+</td>\n",
       "      <td>False</td>\n",
       "      <td>False</td>\n",
       "      <td>False</td>\n",
       "      <td>26</td>\n",
       "    </tr>\n",
       "    <tr>\n",
       "      <th>2088</th>\n",
       "      <td>20890</td>\n",
       "      <td>10.5</td>\n",
       "      <td>20890</td>\n",
       "      <td>20.5</td>\n",
       "      <td>1454</td>\n",
       "      <td>12.1</td>\n",
       "      <td>1506</td>\n",
       "      <td>22.1</td>\n",
       "      <td>1795</td>\n",
       "      <td>49.6</td>\n",
       "      <td>...</td>\n",
       "      <td>56</td>\n",
       "      <td>17506.0</td>\n",
       "      <td>29.9</td>\n",
       "      <td>6%</td>\n",
       "      <td>56 : 44</td>\n",
       "      <td>1700+</td>\n",
       "      <td>False</td>\n",
       "      <td>False</td>\n",
       "      <td>False</td>\n",
       "      <td>28</td>\n",
       "    </tr>\n",
       "    <tr>\n",
       "      <th>2089</th>\n",
       "      <td>20900</td>\n",
       "      <td>10.5</td>\n",
       "      <td>20900</td>\n",
       "      <td>24.8</td>\n",
       "      <td>1098</td>\n",
       "      <td>8.8</td>\n",
       "      <td>1993</td>\n",
       "      <td>8.7</td>\n",
       "      <td>2052</td>\n",
       "      <td>20.9</td>\n",
       "      <td>...</td>\n",
       "      <td>37</td>\n",
       "      <td>13923.0</td>\n",
       "      <td>8.0</td>\n",
       "      <td>3%</td>\n",
       "      <td>53 : 47</td>\n",
       "      <td>1700+</td>\n",
       "      <td>False</td>\n",
       "      <td>False</td>\n",
       "      <td>False</td>\n",
       "      <td>3</td>\n",
       "    </tr>\n",
       "    <tr>\n",
       "      <th>2090</th>\n",
       "      <td>20910</td>\n",
       "      <td>10.5</td>\n",
       "      <td>20910</td>\n",
       "      <td>18.0</td>\n",
       "      <td>1705</td>\n",
       "      <td>9.8</td>\n",
       "      <td>1841</td>\n",
       "      <td>8.8</td>\n",
       "      <td>2050</td>\n",
       "      <td>17.2</td>\n",
       "      <td>...</td>\n",
       "      <td>57</td>\n",
       "      <td>12377.0</td>\n",
       "      <td>12.5</td>\n",
       "      <td>1%</td>\n",
       "      <td>49 : 51</td>\n",
       "      <td>1700+</td>\n",
       "      <td>False</td>\n",
       "      <td>False</td>\n",
       "      <td>False</td>\n",
       "      <td>27</td>\n",
       "    </tr>\n",
       "    <tr>\n",
       "      <th>2091</th>\n",
       "      <td>20920</td>\n",
       "      <td>10.5</td>\n",
       "      <td>20920</td>\n",
       "      <td>12.5</td>\n",
       "      <td>2037</td>\n",
       "      <td>11.1</td>\n",
       "      <td>1641</td>\n",
       "      <td>25.1</td>\n",
       "      <td>1722</td>\n",
       "      <td>19.3</td>\n",
       "      <td>...</td>\n",
       "      <td>56</td>\n",
       "      <td>22844.0</td>\n",
       "      <td>22.9</td>\n",
       "      <td>10%</td>\n",
       "      <td>45 : 55</td>\n",
       "      <td>1700+</td>\n",
       "      <td>False</td>\n",
       "      <td>False</td>\n",
       "      <td>False</td>\n",
       "      <td>30</td>\n",
       "    </tr>\n",
       "  </tbody>\n",
       "</table>\n",
       "<p>2092 rows × 25 columns</p>\n",
       "</div>"
      ]
     },
     "execution_count": 587,
     "metadata": {},
     "output_type": "execute_result"
    }
   ],
   "execution_count": 587
  },
  {
   "metadata": {
    "ExecuteTime": {
     "end_time": "2024-12-04T08:43:16.801774Z",
     "start_time": "2024-12-04T08:43:16.791299Z"
    }
   },
   "cell_type": "code",
   "source": [
    "data['stats_pc_intl_students'] = data['stats_pc_intl_students'].str.replace('%', '').astype(float) / 100\n",
    "data['stats_female_ratio'] = data['stats_female_male_ratio'].str.split(':').str[0].astype(float) / 100\n",
    "data.drop('stats_female_male_ratio' , axis=1, inplace=True)"
   ],
   "id": "5096108a1501b325",
   "outputs": [],
   "execution_count": 588
  },
  {
   "metadata": {
    "ExecuteTime": {
     "end_time": "2024-12-04T08:43:16.879062Z",
     "start_time": "2024-12-04T08:43:16.873513Z"
    }
   },
   "cell_type": "code",
   "source": "data['stats_female_ratio'].fillna(data['stats_female_ratio'].mean(), inplace=True)",
   "id": "82ce379e221331e3",
   "outputs": [
    {
     "name": "stderr",
     "output_type": "stream",
     "text": [
      "C:\\Users\\firat\\AppData\\Local\\Temp\\ipykernel_6908\\3430330915.py:1: FutureWarning:\n",
      "\n",
      "A value is trying to be set on a copy of a DataFrame or Series through chained assignment using an inplace method.\n",
      "The behavior will change in pandas 3.0. This inplace method will never work because the intermediate object on which we are setting values always behaves as a copy.\n",
      "\n",
      "For example, when doing 'df[col].method(value, inplace=True)', try using 'df.method({col: value}, inplace=True)' or df[col] = df[col].method(value) instead, to perform the operation inplace on the original object.\n",
      "\n",
      "\n",
      "\n"
     ]
    }
   ],
   "execution_count": 589
  },
  {
   "metadata": {
    "ExecuteTime": {
     "end_time": "2024-12-04T08:43:17.056298Z",
     "start_time": "2024-12-04T08:43:17.042967Z"
    }
   },
   "cell_type": "code",
   "source": "data.isnull().sum()",
   "id": "c052e6a8bd32ca8f",
   "outputs": [
    {
     "data": {
      "text/plain": [
       "rank_order                           0\n",
       "scores_overall                       0\n",
       "scores_overall_rank                  0\n",
       "scores_teaching                      0\n",
       "scores_teaching_rank                 0\n",
       "scores_research                      0\n",
       "scores_research_rank                 0\n",
       "scores_citations                     0\n",
       "scores_citations_rank                0\n",
       "scores_industry_income               0\n",
       "scores_industry_income_rank          0\n",
       "scores_international_outlook         0\n",
       "scores_international_outlook_rank    0\n",
       "member_level                         0\n",
       "nid                                  0\n",
       "location                             0\n",
       "stats_number_students                0\n",
       "stats_student_staff_ratio            0\n",
       "stats_pc_intl_students               0\n",
       "label                                0\n",
       "private                              0\n",
       "public                               0\n",
       "True                                 0\n",
       "subjects_offered lenth               0\n",
       "stats_female_ratio                   0\n",
       "dtype: int64"
      ]
     },
     "execution_count": 590,
     "metadata": {},
     "output_type": "execute_result"
    }
   ],
   "execution_count": 590
  },
  {
   "metadata": {
    "ExecuteTime": {
     "end_time": "2024-12-04T08:43:17.150087Z",
     "start_time": "2024-12-04T08:43:17.145773Z"
    }
   },
   "cell_type": "code",
   "source": "\n",
   "id": "489db9ad811e351a",
   "outputs": [],
   "execution_count": 590
  },
  {
   "metadata": {
    "ExecuteTime": {
     "end_time": "2024-12-04T08:43:17.214413Z",
     "start_time": "2024-12-04T08:43:17.208179Z"
    }
   },
   "cell_type": "code",
   "source": "data = data[['nid', 'location', 'stats_number_students', 'stats_pc_intl_students', 'stats_student_staff_ratio','scores_overall','scores_teaching', 'scores_research', 'scores_citations', 'scores_industry_income', 'scores_international_outlook','member_level','public','private','subjects_offered lenth']]\n",
   "id": "57d0f0f1291b6b",
   "outputs": [],
   "execution_count": 591
  },
  {
   "metadata": {},
   "cell_type": "markdown",
   "source": "# Model Building",
   "id": "e3e038f54f50194a"
  },
  {
   "metadata": {
    "ExecuteTime": {
     "end_time": "2024-12-04T08:43:17.260974Z",
     "start_time": "2024-12-04T08:43:17.255527Z"
    }
   },
   "cell_type": "code",
   "source": [
    "# Pairwise Ranking\n",
    "from sklearn.model_selection import train_test_split\n",
    "from sklearn.ensemble import GradientBoostingClassifier, RandomForestClassifier\n",
    "import sklearn.metrics as mt\n",
    "\n",
    "\n"
   ],
   "id": "d364ab7fbfa57701",
   "outputs": [],
   "execution_count": 592
  },
  {
   "metadata": {
    "ExecuteTime": {
     "end_time": "2024-12-04T08:43:17.330701Z",
     "start_time": "2024-12-04T08:43:17.318213Z"
    }
   },
   "cell_type": "code",
   "source": [
    "X_train, X_test, y_train, y_test = train_test_split(data, target, test_size=0.2, random_state=42)\n",
    "\n"
   ],
   "id": "33cd617eecf24665",
   "outputs": [],
   "execution_count": 593
  },
  {
   "metadata": {
    "ExecuteTime": {
     "end_time": "2024-12-04T08:43:17.400692Z",
     "start_time": "2024-12-04T08:43:17.392421Z"
    }
   },
   "cell_type": "code",
   "source": [
    "X_train.shape, X_test.shape, y_train.shape, y_test.shape\n",
    "\n"
   ],
   "id": "8138f2e6f348abc9",
   "outputs": [
    {
     "data": {
      "text/plain": [
       "((1673, 15), (419, 15), (1673,), (419,))"
      ]
     },
     "execution_count": 594,
     "metadata": {},
     "output_type": "execute_result"
    }
   ],
   "execution_count": 594
  },
  {
   "metadata": {
    "ExecuteTime": {
     "end_time": "2024-12-04T08:43:25.594416Z",
     "start_time": "2024-12-04T08:43:24.929332Z"
    }
   },
   "cell_type": "code",
   "source": [
    "# Random Forest\n",
    "model = RandomForestClassifier()\n",
    "model.fit(X_train, y_train)\n",
    "y_pred = model.predict(X_test)\n",
    "mt.accuracy_score(y_test, y_pred)\n"
   ],
   "id": "ed65c16c526d3594",
   "outputs": [
    {
     "data": {
      "text/plain": [
       "0.7684964200477327"
      ]
     },
     "execution_count": 598,
     "metadata": {},
     "output_type": "execute_result"
    }
   ],
   "execution_count": 598
  },
  {
   "metadata": {
    "ExecuteTime": {
     "end_time": "2024-12-04T08:43:25.607541Z",
     "start_time": "2024-12-04T08:43:25.603011Z"
    }
   },
   "cell_type": "code",
   "source": [
    "# Hyperparameter Tuning\n",
    "from sklearn.model_selection import GridSearchCV\n",
    "\n",
    "\n"
   ],
   "id": "bd0f362de4a2fdc",
   "outputs": [],
   "execution_count": 599
  },
  {
   "metadata": {
    "ExecuteTime": {
     "end_time": "2024-12-04T08:43:47.889326Z",
     "start_time": "2024-12-04T08:43:47.657274Z"
    }
   },
   "cell_type": "code",
   "source": [
    "# Feature Importance\n",
    "feature_importances = model.feature_importances_\n",
    "features = X_train.columns\n",
    "feature_importances_df = pd.DataFrame({'feature': features, 'importance': feature_importances})\n",
    "feature_importances_df = feature_importances_df.sort_values('importance', ascending=False)\n",
    "feature_importances_df.sort_values('importance', ascending=False).plot(x='feature', y='importance', kind='bar', figsize=(10, 6))\n"
   ],
   "id": "68a41cf7a849326a",
   "outputs": [
    {
     "data": {
      "text/plain": [
       "<Axes: xlabel='feature'>"
      ]
     },
     "execution_count": 602,
     "metadata": {},
     "output_type": "execute_result"
    },
    {
     "data": {
      "text/plain": [
       "<Figure size 1000x600 with 1 Axes>"
      ],
      "image/png": "[encoded data removed]"
     },
     "metadata": {},
     "output_type": "display_data"
    }
   ],
   "execution_count": 602
  },
  {
   "metadata": {
    "ExecuteTime": {
     "end_time": "2024-12-04T08:43:48.711453Z",
     "start_time": "2024-12-04T08:43:48.673008Z"
    }
   },
   "cell_type": "code",
   "source": [
    "import plotly.express as px\n",
    "corr = data.corr()\n",
    "\n",
    "fig = px.imshow(corr, color_continuous_scale='Viridis', title='Correlation Matrix', labels=dict(x='Features', y='Features', color='Correlation'), width=900, height=900, zmin=-1, zmax=1, origin='upper', template='plotly_dark', color_continuous_midpoint=0,text_auto=True)\n",
    "fig.show()\n",
    "\n",
    "\n"
   ],
   "id": "71631c211535192d",
   "outputs": [
    {
     "data": {
      "application/vnd.plotly.v1+json": {
       "data": [
        {
         "coloraxis": "coloraxis",
         "name": "0",
         "texttemplate": "%{z}",
         "x": [
          "nid",
          "location",
          "stats_number_students",
          "stats_pc_intl_students",
          "stats_student_staff_ratio",
          "scores_overall",
          "scores_teaching",
          "scores_research",
          "scores_citations",
          "scores_industry_income",
          "scores_international_outlook",
          "member_level",
          "public",
          "private",
          "subjects_offered lenth"
         ],
         "y": [
          "nid",
          "location",
          "stats_number_students",
          "stats_pc_intl_students",
          "stats_student_staff_ratio",
          "scores_overall",
          "scores_teaching",
          "scores_research",
          "scores_citations",
          "scores_industry_income",
          "scores_international_outlook",
          "member_level",
          "public",
          "private",
          "subjects_offered lenth"
         ],
         "z": [
          [
           1.0,
           -0.1796416901181035,
           -0.09000884323812108,
           -0.40033252400631864,
           0.05530001180741939,
           -0.5900330863303987,
           -0.503250982457989,
           -0.5913518006309368,
           -0.450819545776966,
           -0.621101485659792,
           -0.48064559527237694,
           -0.129123341440983,
           -0.1925112968681065,
           -0.150555579607342,
           -0.3093047699433889
          ],
          [
           -0.1796416901181035,
           1.0,
           -0.07608743027966282,
           0.21181169683609632,
           -0.11822926271831452,
           0.0965111580251192,
           0.0908232344985556,
           0.09169639656982626,
           0.07679094364563963,
           0.04620995998859234,
           0.14351979291951014,
           -0.04893951522248122,
           0.3425400364398515,
           0.24334478478157612,
           0.10144804139724051
          ],
          [
           -0.09000884323812108,
           -0.07608743027966282,
           1.0,
           -0.09438396798396939,
           0.3644199254320958,
           0.013381312377757585,
           -0.028451900721331583,
           0.039377919265775344,
           0.02937085742678156,
           0.0012178336805394672,
           -0.0115154807636552,
           0.015031370812756607,
           0.05916200892657485,
           -0.04873000150822519,
           0.35726335942563947
          ],
          [
           -0.40033252400631864,
           0.21181169683609632,
           -0.09438396798396939,
           1.0,
           -0.04821741365690566,
           0.51605848790543,
           0.3900482123022184,
           0.47184417461561184,
           0.40635966170302484,
           0.3837484128909583,
           0.7710811554470827,
           0.24139370598398585,
           -0.028774503940840256,
           0.14392962366917444,
           0.0572793635490317
          ],
          [
           0.05530001180741939,
           -0.11822926271831452,
           0.3644199254320958,
           -0.04821741365690566,
           1.0,
           -0.0601205489817103,
           -0.2814202031505188,
           -0.024342771790403464,
           0.02903769511220503,
           -0.05478138212267743,
           0.014245047409384252,
           -0.0025039020104320304,
           -0.039827099488522186,
           -0.13099616649104834,
           0.15491523248314185
          ],
          [
           -0.5900330863303987,
           0.0965111580251192,
           0.013381312377757585,
           0.51605848790543,
           -0.0601205489817103,
           1.0,
           0.7894495982182783,
           0.8825139456712252,
           0.8833939835873409,
           0.7636697500215895,
           0.663975883070939,
           0.22820357751995862,
           0.19315233317602204,
           0.23639088664558672,
           0.16991255202124816
          ],
          [
           -0.503250982457989,
           0.0908232344985556,
           -0.028451900721331583,
           0.3900482123022184,
           -0.2814202031505188,
           0.7894495982182783,
           1.0,
           0.8556772157212519,
           0.5086350179144551,
           0.6637352131835749,
           0.39557242163022177,
           0.12702945030317248,
           0.18273982160978658,
           0.31627718066567645,
           0.11185225705547064
          ],
          [
           -0.5913518006309368,
           0.09169639656982626,
           0.039377919265775344,
           0.47184417461561184,
           -0.024342771790403464,
           0.8825139456712252,
           0.8556772157212519,
           1.0,
           0.6406532937914313,
           0.7849736819792819,
           0.5495710988053973,
           0.19169331407915235,
           0.1787353428227843,
           0.2357760418167102,
           0.22880999447627717
          ],
          [
           -0.450819545776966,
           0.07679094364563963,
           0.02937085742678156,
           0.40635966170302484,
           0.02903769511220503,
           0.8833939835873409,
           0.5086350179144551,
           0.6406532937914313,
           1.0,
           0.5747313694794951,
           0.60391113133786,
           0.22067504196590215,
           0.17503166954268617,
           0.17360261092576354,
           0.11226091675886299
          ],
          [
           -0.621101485659792,
           0.04620995998859234,
           0.0012178336805394672,
           0.3837484128909583,
           -0.05478138212267743,
           0.7636697500215895,
           0.6637352131835749,
           0.7849736819792819,
           0.5747313694794951,
           1.0,
           0.44100359793979743,
           0.18570979816174107,
           0.18238452930043084,
           0.15724034031245707,
           0.17512057489593194
          ],
          [
           -0.48064559527237694,
           0.14351979291951014,
           -0.0115154807636552,
           0.7710811554470827,
           0.014245047409384252,
           0.663975883070939,
           0.39557242163022177,
           0.5495710988053973,
           0.60391113133786,
           0.44100359793979743,
           1.0,
           0.2674725823927378,
           0.04590238049191227,
           0.1319209329409015,
           0.19984957646415372
          ],
          [
           -0.129123341440983,
           -0.04893951522248122,
           0.015031370812756607,
           0.24139370598398585,
           -0.0025039020104320304,
           0.22820357751995862,
           0.12702945030317248,
           0.19169331407915235,
           0.22067504196590215,
           0.18570979816174107,
           0.2674725823927378,
           1.0,
           -0.04854350167743827,
           -0.04774047401175147,
           0.07442186845748903
          ],
          [
           -0.1925112968681065,
           0.3425400364398515,
           0.05916200892657485,
           -0.028774503940840256,
           -0.039827099488522186,
           0.19315233317602204,
           0.18273982160978658,
           0.1787353428227843,
           0.17503166954268617,
           0.18238452930043084,
           0.04590238049191227,
           -0.04854350167743827,
           1.0,
           -0.039427545224658946,
           0.1839040652416712
          ],
          [
           -0.150555579607342,
           0.24334478478157612,
           -0.04873000150822519,
           0.14392962366917444,
           -0.13099616649104834,
           0.23639088664558672,
           0.31627718066567645,
           0.2357760418167102,
           0.17360261092576354,
           0.15724034031245707,
           0.1319209329409015,
           -0.04774047401175147,
           -0.039427545224658946,
           1.0,
           0.07144111508702249
          ],
          [
           -0.3093047699433889,
           0.10144804139724051,
           0.35726335942563947,
           0.0572793635490317,
           0.15491523248314185,
           0.16991255202124816,
           0.11185225705547064,
           0.22880999447627717,
           0.11226091675886299,
           0.17512057489593194,
           0.19984957646415372,
           0.07442186845748903,
           0.1839040652416712,
           0.07144111508702249,
           1.0
          ]
         ],
         "type": "heatmap",
         "xaxis": "x",
         "yaxis": "y",
         "hovertemplate": "Features: %{x}<br>Features: %{y}<br>Correlation: %{z}<extra></extra>"
        }
       ],
       "layout": {
        "template": {
         "data": {
          "barpolar": [
           {
            "marker": {
             "line": {
              "color": "rgb(17,17,17)",
              "width": 0.5
             },
             "pattern": {
              "fillmode": "overlay",
              "size": 10,
              "solidity": 0.2
             }
            },
            "type": "barpolar"
           }
          ],
          "bar": [
           {
            "error_x": {
             "color": "#f2f5fa"
            },
            "error_y": {
             "color": "#f2f5fa"
            },
            "marker": {
             "line": {
              "color": "rgb(17,17,17)",
              "width": 0.5
             },
             "pattern": {
              "fillmode": "overlay",
              "size": 10,
              "solidity": 0.2
             }
            },
            "type": "bar"
           }
          ],
          "carpet": [
           {
            "aaxis": {
             "endlinecolor": "#A2B1C6",
             "gridcolor": "#506784",
             "linecolor": "#506784",
             "minorgridcolor": "#506784",
             "startlinecolor": "#A2B1C6"
            },
            "baxis": {
             "endlinecolor": "#A2B1C6",
             "gridcolor": "#506784",
             "linecolor": "#506784",
             "minorgridcolor": "#506784",
             "startlinecolor": "#A2B1C6"
            },
            "type": "carpet"
           }
          ],
          "choropleth": [
           {
            "colorbar": {
             "outlinewidth": 0,
             "ticks": ""
            },
            "type": "choropleth"
           }
          ],
          "contourcarpet": [
           {
            "colorbar": {
             "outlinewidth": 0,
             "ticks": ""
            },
            "type": "contourcarpet"
           }
          ],
          "contour": [
           {
            "colorbar": {
             "outlinewidth": 0,
             "ticks": ""
            },
            "colorscale": [
             [
              0.0,
              "#0d0887"
             ],
             [
              0.1111111111111111,
              "#46039f"
             ],
             [
              0.2222222222222222,
              "#7201a8"
             ],
             [
              0.3333333333333333,
              "#9c179e"
             ],
             [
              0.4444444444444444,
              "#bd3786"
             ],
             [
              0.5555555555555556,
              "#d8576b"
             ],
             [
              0.6666666666666666,
              "#ed7953"
             ],
             [
              0.7777777777777778,
              "#fb9f3a"
             ],
             [
              0.8888888888888888,
              "#fdca26"
             ],
             [
              1.0,
              "#f0f921"
             ]
            ],
            "type": "contour"
           }
          ],
          "heatmapgl": [
           {
            "colorbar": {
             "outlinewidth": 0,
             "ticks": ""
            },
            "colorscale": [
             [
              0.0,
              "#0d0887"
             ],
             [
              0.1111111111111111,
              "#46039f"
             ],
             [
              0.2222222222222222,
              "#7201a8"
             ],
             [
              0.3333333333333333,
              "#9c179e"
             ],
             [
              0.4444444444444444,
              "#bd3786"
             ],
             [
              0.5555555555555556,
              "#d8576b"
             ],
             [
              0.6666666666666666,
              "#ed7953"
             ],
             [
              0.7777777777777778,
              "#fb9f3a"
             ],
             [
              0.8888888888888888,
              "#fdca26"
             ],
             [
              1.0,
              "#f0f921"
             ]
            ],
            "type": "heatmapgl"
           }
          ],
          "heatmap": [
           {
            "colorbar": {
             "outlinewidth": 0,
             "ticks": ""
            },
            "colorscale": [
             [
              0.0,
              "#0d0887"
             ],
             [
              0.1111111111111111,
              "#46039f"
             ],
             [
              0.2222222222222222,
              "#7201a8"
             ],
             [
              0.3333333333333333,
              "#9c179e"
             ],
             [
              0.4444444444444444,
              "#bd3786"
             ],
             [
              0.5555555555555556,
              "#d8576b"
             ],
             [
              0.6666666666666666,
              "#ed7953"
             ],
             [
              0.7777777777777778,
              "#fb9f3a"
             ],
             [
              0.8888888888888888,
              "#fdca26"
             ],
             [
              1.0,
              "#f0f921"
             ]
            ],
            "type": "heatmap"
           }
          ],
          "histogram2dcontour": [
           {
            "colorbar": {
             "outlinewidth": 0,
             "ticks": ""
            },
            "colorscale": [
             [
              0.0,
              "#0d0887"
             ],
             [
              0.1111111111111111,
              "#46039f"
             ],
             [
              0.2222222222222222,
              "#7201a8"
             ],
             [
              0.3333333333333333,
              "#9c179e"
             ],
             [
              0.4444444444444444,
              "#bd3786"
             ],
             [
              0.5555555555555556,
              "#d8576b"
             ],
             [
              0.6666666666666666,
              "#ed7953"
             ],
             [
              0.7777777777777778,
              "#fb9f3a"
             ],
             [
              0.8888888888888888,
              "#fdca26"
             ],
             [
              1.0,
              "#f0f921"
             ]
            ],
            "type": "histogram2dcontour"
           }
          ],
          "histogram2d": [
           {
            "colorbar": {
             "outlinewidth": 0,
             "ticks": ""
            },
            "colorscale": [
             [
              0.0,
              "#0d0887"
             ],
             [
              0.1111111111111111,
              "#46039f"
             ],
             [
              0.2222222222222222,
              "#7201a8"
             ],
             [
              0.3333333333333333,
              "#9c179e"
             ],
             [
              0.4444444444444444,
              "#bd3786"
             ],
             [
              0.5555555555555556,
              "#d8576b"
             ],
             [
              0.6666666666666666,
              "#ed7953"
             ],
             [
              0.7777777777777778,
              "#fb9f3a"
             ],
             [
              0.8888888888888888,
              "#fdca26"
             ],
             [
              1.0,
              "#f0f921"
             ]
            ],
            "type": "histogram2d"
           }
          ],
          "histogram": [
           {
            "marker": {
             "pattern": {
              "fillmode": "overlay",
              "size": 10,
              "solidity": 0.2
             }
            },
            "type": "histogram"
           }
          ],
          "mesh3d": [
           {
            "colorbar": {
             "outlinewidth": 0,
             "ticks": ""
            },
            "type": "mesh3d"
           }
          ],
          "parcoords": [
           {
            "line": {
             "colorbar": {
              "outlinewidth": 0,
              "ticks": ""
             }
            },
            "type": "parcoords"
           }
          ],
          "pie": [
           {
            "automargin": true,
            "type": "pie"
           }
          ],
          "scatter3d": [
           {
            "line": {
             "colorbar": {
              "outlinewidth": 0,
              "ticks": ""
             }
            },
            "marker": {
             "colorbar": {
              "outlinewidth": 0,
              "ticks": ""
             }
            },
            "type": "scatter3d"
           }
          ],
          "scattercarpet": [
           {
            "marker": {
             "colorbar": {
              "outlinewidth": 0,
              "ticks": ""
             }
            },
            "type": "scattercarpet"
           }
          ],
          "scattergeo": [
           {
            "marker": {
             "colorbar": {
              "outlinewidth": 0,
              "ticks": ""
             }
            },
            "type": "scattergeo"
           }
          ],
          "scattergl": [
           {
            "marker": {
             "line": {
              "color": "#283442"
             }
            },
            "type": "scattergl"
           }
          ],
          "scattermapbox": [
           {
            "marker": {
             "colorbar": {
              "outlinewidth": 0,
              "ticks": ""
             }
            },
            "type": "scattermapbox"
           }
          ],
          "scatterpolargl": [
           {
            "marker": {
             "colorbar": {
              "outlinewidth": 0,
              "ticks": ""
             }
            },
            "type": "scatterpolargl"
           }
          ],
          "scatterpolar": [
           {
            "marker": {
             "colorbar": {
              "outlinewidth": 0,
              "ticks": ""
             }
            },
            "type": "scatterpolar"
           }
          ],
          "scatter": [
           {
            "marker": {
             "line": {
              "color": "#283442"
             }
            },
            "type": "scatter"
           }
          ],
          "scatterternary": [
           {
            "marker": {
             "colorbar": {
              "outlinewidth": 0,
              "ticks": ""
             }
            },
            "type": "scatterternary"
           }
          ],
          "surface": [
           {
            "colorbar": {
             "outlinewidth": 0,
             "ticks": ""
            },
            "colorscale": [
             [
              0.0,
              "#0d0887"
             ],
             [
              0.1111111111111111,
              "#46039f"
             ],
             [
              0.2222222222222222,
              "#7201a8"
             ],
             [
              0.3333333333333333,
              "#9c179e"
             ],
             [
              0.4444444444444444,
              "#bd3786"
             ],
             [
              0.5555555555555556,
              "#d8576b"
             ],
             [
              0.6666666666666666,
              "#ed7953"
             ],
             [
              0.7777777777777778,
              "#fb9f3a"
             ],
             [
              0.8888888888888888,
              "#fdca26"
             ],
             [
              1.0,
              "#f0f921"
             ]
            ],
            "type": "surface"
           }
          ],
          "table": [
           {
            "cells": {
             "fill": {
              "color": "#506784"
             },
             "line": {
              "color": "rgb(17,17,17)"
             }
            },
            "header": {
             "fill": {
              "color": "#2a3f5f"
             },
             "line": {
              "color": "rgb(17,17,17)"
             }
            },
            "type": "table"
           }
          ]
         },
         "layout": {
          "annotationdefaults": {
           "arrowcolor": "#f2f5fa",
           "arrowhead": 0,
           "arrowwidth": 1
          },
          "autotypenumbers": "strict",
          "coloraxis": {
           "colorbar": {
            "outlinewidth": 0,
            "ticks": ""
           }
          },
          "colorscale": {
           "diverging": [
            [
             0,
             "#8e0152"
            ],
            [
             0.1,
             "#c51b7d"
            ],
            [
             0.2,
             "#de77ae"
            ],
            [
             0.3,
             "#f1b6da"
            ],
            [
             0.4,
             "#fde0ef"
            ],
            [
             0.5,
             "#f7f7f7"
            ],
            [
             0.6,
             "#e6f5d0"
            ],
            [
             0.7,
             "#b8e186"
            ],
            [
             0.8,
             "#7fbc41"
            ],
            [
             0.9,
             "#4d9221"
            ],
            [
             1,
             "#276419"
            ]
           ],
           "sequential": [
            [
             0.0,
             "#0d0887"
            ],
            [
             0.1111111111111111,
             "#46039f"
            ],
            [
             0.2222222222222222,
             "#7201a8"
            ],
            [
             0.3333333333333333,
             "#9c179e"
            ],
            [
             0.4444444444444444,
             "#bd3786"
            ],
            [
             0.5555555555555556,
             "#d8576b"
            ],
            [
             0.6666666666666666,
             "#ed7953"
            ],
            [
             0.7777777777777778,
             "#fb9f3a"
            ],
            [
             0.8888888888888888,
             "#fdca26"
            ],
            [
             1.0,
             "#f0f921"
            ]
           ],
           "sequentialminus": [
            [
             0.0,
             "#0d0887"
            ],
            [
             0.1111111111111111,
             "#46039f"
            ],
            [
             0.2222222222222222,
             "#7201a8"
            ],
            [
             0.3333333333333333,
             "#9c179e"
            ],
            [
             0.4444444444444444,
             "#bd3786"
            ],
            [
             0.5555555555555556,
             "#d8576b"
            ],
            [
             0.6666666666666666,
             "#ed7953"
            ],
            [
             0.7777777777777778,
             "#fb9f3a"
            ],
            [
             0.8888888888888888,
             "#fdca26"
            ],
            [
             1.0,
             "#f0f921"
            ]
           ]
          },
          "colorway": [
           "#636efa",
           "#EF553B",
           "#00cc96",
           "#ab63fa",
           "#FFA15A",
           "#19d3f3",
           "#FF6692",
           "#B6E880",
           "#FF97FF",
           "#FECB52"
          ],
          "font": {
           "color": "#f2f5fa"
          },
          "geo": {
           "bgcolor": "rgb(17,17,17)",
           "lakecolor": "rgb(17,17,17)",
           "landcolor": "rgb(17,17,17)",
           "showlakes": true,
           "showland": true,
           "subunitcolor": "#506784"
          },
          "hoverlabel": {
           "align": "left"
          },
          "hovermode": "closest",
          "mapbox": {
           "style": "dark"
          },
          "paper_bgcolor": "rgb(17,17,17)",
          "plot_bgcolor": "rgb(17,17,17)",
          "polar": {
           "angularaxis": {
            "gridcolor": "#506784",
            "linecolor": "#506784",
            "ticks": ""
           },
           "bgcolor": "rgb(17,17,17)",
           "radialaxis": {
            "gridcolor": "#506784",
            "linecolor": "#506784",
            "ticks": ""
           }
          },
          "scene": {
           "xaxis": {
            "backgroundcolor": "rgb(17,17,17)",
            "gridcolor": "#506784",
            "gridwidth": 2,
            "linecolor": "#506784",
            "showbackground": true,
            "ticks": "",
            "zerolinecolor": "#C8D4E3"
           },
           "yaxis": {
            "backgroundcolor": "rgb(17,17,17)",
            "gridcolor": "#506784",
            "gridwidth": 2,
            "linecolor": "#506784",
            "showbackground": true,
            "ticks": "",
            "zerolinecolor": "#C8D4E3"
           },
           "zaxis": {
            "backgroundcolor": "rgb(17,17,17)",
            "gridcolor": "#506784",
            "gridwidth": 2,
            "linecolor": "#506784",
            "showbackground": true,
            "ticks": "",
            "zerolinecolor": "#C8D4E3"
           }
          },
          "shapedefaults": {
           "line": {
            "color": "#f2f5fa"
           }
          },
          "sliderdefaults": {
           "bgcolor": "#C8D4E3",
           "bordercolor": "rgb(17,17,17)",
           "borderwidth": 1,
           "tickwidth": 0
          },
          "ternary": {
           "aaxis": {
            "gridcolor": "#506784",
            "linecolor": "#506784",
            "ticks": ""
           },
           "baxis": {
            "gridcolor": "#506784",
            "linecolor": "#506784",
            "ticks": ""
           },
           "bgcolor": "rgb(17,17,17)",
           "caxis": {
            "gridcolor": "#506784",
            "linecolor": "#506784",
            "ticks": ""
           }
          },
          "title": {
           "x": 0.05
          },
          "updatemenudefaults": {
           "bgcolor": "#506784",
           "borderwidth": 0
          },
          "xaxis": {
           "automargin": true,
           "gridcolor": "#283442",
           "linecolor": "#506784",
           "ticks": "",
           "title": {
            "standoff": 15
           },
           "zerolinecolor": "#283442",
           "zerolinewidth": 2
          },
          "yaxis": {
           "automargin": true,
           "gridcolor": "#283442",
           "linecolor": "#506784",
           "ticks": "",
           "title": {
            "standoff": 15
           },
           "zerolinecolor": "#283442",
           "zerolinewidth": 2
          }
         }
        },
        "xaxis": {
         "anchor": "y",
         "domain": [
          0.0,
          1.0
         ],
         "scaleanchor": "y",
         "constrain": "domain",
         "title": {
          "text": "Features"
         }
        },
        "yaxis": {
         "anchor": "x",
         "domain": [
          0.0,
          1.0
         ],
         "autorange": "reversed",
         "constrain": "domain",
         "title": {
          "text": "Features"
         }
        },
        "coloraxis": {
         "colorbar": {
          "title": {
           "text": "Correlation"
          }
         },
         "colorscale": [
          [
           0.0,
           "#440154"
          ],
          [
           0.1111111111111111,
           "#482878"
          ],
          [
           0.2222222222222222,
           "#3e4989"
          ],
          [
           0.3333333333333333,
           "#31688e"
          ],
          [
           0.4444444444444444,
           "#26828e"
          ],
          [
           0.5555555555555556,
           "#1f9e89"
          ],
          [
           0.6666666666666666,
           "#35b779"
          ],
          [
           0.7777777777777778,
           "#6ece58"
          ],
          [
           0.8888888888888888,
           "#b5de2b"
          ],
          [
           1.0,
           "#fde725"
          ]
         ],
         "cmid": 0,
         "cmin": -1,
         "cmax": 1
        },
        "title": {
         "text": "Correlation Matrix"
        },
        "height": 900,
        "width": 900
       },
       "config": {
        "plotlyServerURL": "https://plot.ly"
       }
      },
      "text/html": [
       "<div>                            <div id=\"5d53e6eb-57a7-443e-819b-acdeef4e11b8\" class=\"plotly-graph-div\" style=\"height:900px; width:900px;\"></div>            <script type=\"text/javascript\">                require([\"plotly\"], function(Plotly) {                    window.PLOTLYENV=window.PLOTLYENV || {};                                    if (document.getElementById(\"5d53e6eb-57a7-443e-819b-acdeef4e11b8\")) {                    Plotly.newPlot(                        \"5d53e6eb-57a7-443e-819b-acdeef4e11b8\",                        [{\"coloraxis\":\"coloraxis\",\"name\":\"0\",\"texttemplate\":\"%{z}\",\"x\":[\"nid\",\"location\",\"stats_number_students\",\"stats_pc_intl_students\",\"stats_student_staff_ratio\",\"scores_overall\",\"scores_teaching\",\"scores_research\",\"scores_citations\",\"scores_industry_income\",\"scores_international_outlook\",\"member_level\",\"public\",\"private\",\"subjects_offered lenth\"],\"y\":[\"nid\",\"location\",\"stats_number_students\",\"stats_pc_intl_students\",\"stats_student_staff_ratio\",\"scores_overall\",\"scores_teaching\",\"scores_research\",\"scores_citations\",\"scores_industry_income\",\"scores_international_outlook\",\"member_level\",\"public\",\"private\",\"subjects_offered lenth\"],\"z\":[[1.0,-0.1796416901181035,-0.09000884323812108,-0.40033252400631864,0.05530001180741939,-0.5900330863303987,-0.503250982457989,-0.5913518006309368,-0.450819545776966,-0.621101485659792,-0.48064559527237694,-0.129123341440983,-0.1925112968681065,-0.150555579607342,-0.3093047699433889],[-0.1796416901181035,1.0,-0.07608743027966282,0.21181169683609632,-0.11822926271831452,0.0965111580251192,0.0908232344985556,0.09169639656982626,0.07679094364563963,0.04620995998859234,0.14351979291951014,-0.04893951522248122,0.3425400364398515,0.24334478478157612,0.10144804139724051],[-0.09000884323812108,-0.07608743027966282,1.0,-0.09438396798396939,0.3644199254320958,0.013381312377757585,-0.028451900721331583,0.039377919265775344,0.02937085742678156,0.0012178336805394672,-0.0115154807636552,0.015031370812756607,0.05916200892657485,-0.04873000150822519,0.35726335942563947],[-0.40033252400631864,0.21181169683609632,-0.09438396798396939,1.0,-0.04821741365690566,0.51605848790543,0.3900482123022184,0.47184417461561184,0.40635966170302484,0.3837484128909583,0.7710811554470827,0.24139370598398585,-0.028774503940840256,0.14392962366917444,0.0572793635490317],[0.05530001180741939,-0.11822926271831452,0.3644199254320958,-0.04821741365690566,1.0,-0.0601205489817103,-0.2814202031505188,-0.024342771790403464,0.02903769511220503,-0.05478138212267743,0.014245047409384252,-0.0025039020104320304,-0.039827099488522186,-0.13099616649104834,0.15491523248314185],[-0.5900330863303987,0.0965111580251192,0.013381312377757585,0.51605848790543,-0.0601205489817103,1.0,0.7894495982182783,0.8825139456712252,0.8833939835873409,0.7636697500215895,0.663975883070939,0.22820357751995862,0.19315233317602204,0.23639088664558672,0.16991255202124816],[-0.503250982457989,0.0908232344985556,-0.028451900721331583,0.3900482123022184,-0.2814202031505188,0.7894495982182783,1.0,0.8556772157212519,0.5086350179144551,0.6637352131835749,0.39557242163022177,0.12702945030317248,0.18273982160978658,0.31627718066567645,0.11185225705547064],[-0.5913518006309368,0.09169639656982626,0.039377919265775344,0.47184417461561184,-0.024342771790403464,0.8825139456712252,0.8556772157212519,1.0,0.6406532937914313,0.7849736819792819,0.5495710988053973,0.19169331407915235,0.1787353428227843,0.2357760418167102,0.22880999447627717],[-0.450819545776966,0.07679094364563963,0.02937085742678156,0.40635966170302484,0.02903769511220503,0.8833939835873409,0.5086350179144551,0.6406532937914313,1.0,0.5747313694794951,0.60391113133786,0.22067504196590215,0.17503166954268617,0.17360261092576354,0.11226091675886299],[-0.621101485659792,0.04620995998859234,0.0012178336805394672,0.3837484128909583,-0.05478138212267743,0.7636697500215895,0.6637352131835749,0.7849736819792819,0.5747313694794951,1.0,0.44100359793979743,0.18570979816174107,0.18238452930043084,0.15724034031245707,0.17512057489593194],[-0.48064559527237694,0.14351979291951014,-0.0115154807636552,0.7710811554470827,0.014245047409384252,0.663975883070939,0.39557242163022177,0.5495710988053973,0.60391113133786,0.44100359793979743,1.0,0.2674725823927378,0.04590238049191227,0.1319209329409015,0.19984957646415372],[-0.129123341440983,-0.04893951522248122,0.015031370812756607,0.24139370598398585,-0.0025039020104320304,0.22820357751995862,0.12702945030317248,0.19169331407915235,0.22067504196590215,0.18570979816174107,0.2674725823927378,1.0,-0.04854350167743827,-0.04774047401175147,0.07442186845748903],[-0.1925112968681065,0.3425400364398515,0.05916200892657485,-0.028774503940840256,-0.039827099488522186,0.19315233317602204,0.18273982160978658,0.1787353428227843,0.17503166954268617,0.18238452930043084,0.04590238049191227,-0.04854350167743827,1.0,-0.039427545224658946,0.1839040652416712],[-0.150555579607342,0.24334478478157612,-0.04873000150822519,0.14392962366917444,-0.13099616649104834,0.23639088664558672,0.31627718066567645,0.2357760418167102,0.17360261092576354,0.15724034031245707,0.1319209329409015,-0.04774047401175147,-0.039427545224658946,1.0,0.07144111508702249],[-0.3093047699433889,0.10144804139724051,0.35726335942563947,0.0572793635490317,0.15491523248314185,0.16991255202124816,0.11185225705547064,0.22880999447627717,0.11226091675886299,0.17512057489593194,0.19984957646415372,0.07442186845748903,0.1839040652416712,0.07144111508702249,1.0]],\"type\":\"heatmap\",\"xaxis\":\"x\",\"yaxis\":\"y\",\"hovertemplate\":\"Features: %{x}<br>Features: %{y}<br>Correlation: %{z}<extra></extra>\"}],                        {\"template\":{\"data\":{\"barpolar\":[{\"marker\":{\"line\":{\"color\":\"rgb(17,17,17)\",\"width\":0.5},\"pattern\":{\"fillmode\":\"overlay\",\"size\":10,\"solidity\":0.2}},\"type\":\"barpolar\"}],\"bar\":[{\"error_x\":{\"color\":\"#f2f5fa\"},\"error_y\":{\"color\":\"#f2f5fa\"},\"marker\":{\"line\":{\"color\":\"rgb(17,17,17)\",\"width\":0.5},\"pattern\":{\"fillmode\":\"overlay\",\"size\":10,\"solidity\":0.2}},\"type\":\"bar\"}],\"carpet\":[{\"aaxis\":{\"endlinecolor\":\"#A2B1C6\",\"gridcolor\":\"#506784\",\"linecolor\":\"#506784\",\"minorgridcolor\":\"#506784\",\"startlinecolor\":\"#A2B1C6\"},\"baxis\":{\"endlinecolor\":\"#A2B1C6\",\"gridcolor\":\"#506784\",\"linecolor\":\"#506784\",\"minorgridcolor\":\"#506784\",\"startlinecolor\":\"#A2B1C6\"},\"type\":\"carpet\"}],\"choropleth\":[{\"colorbar\":{\"outlinewidth\":0,\"ticks\":\"\"},\"type\":\"choropleth\"}],\"contourcarpet\":[{\"colorbar\":{\"outlinewidth\":0,\"ticks\":\"\"},\"type\":\"contourcarpet\"}],\"contour\":[{\"colorbar\":{\"outlinewidth\":0,\"ticks\":\"\"},\"colorscale\":[[0.0,\"#0d0887\"],[0.1111111111111111,\"#46039f\"],[0.2222222222222222,\"#7201a8\"],[0.3333333333333333,\"#9c179e\"],[0.4444444444444444,\"#bd3786\"],[0.5555555555555556,\"#d8576b\"],[0.6666666666666666,\"#ed7953\"],[0.7777777777777778,\"#fb9f3a\"],[0.8888888888888888,\"#fdca26\"],[1.0,\"#f0f921\"]],\"type\":\"contour\"}],\"heatmapgl\":[{\"colorbar\":{\"outlinewidth\":0,\"ticks\":\"\"},\"colorscale\":[[0.0,\"#0d0887\"],[0.1111111111111111,\"#46039f\"],[0.2222222222222222,\"#7201a8\"],[0.3333333333333333,\"#9c179e\"],[0.4444444444444444,\"#bd3786\"],[0.5555555555555556,\"#d8576b\"],[0.6666666666666666,\"#ed7953\"],[0.7777777777777778,\"#fb9f3a\"],[0.8888888888888888,\"#fdca26\"],[1.0,\"#f0f921\"]],\"type\":\"heatmapgl\"}],\"heatmap\":[{\"colorbar\":{\"outlinewidth\":0,\"ticks\":\"\"},\"colorscale\":[[0.0,\"#0d0887\"],[0.1111111111111111,\"#46039f\"],[0.2222222222222222,\"#7201a8\"],[0.3333333333333333,\"#9c179e\"],[0.4444444444444444,\"#bd3786\"],[0.5555555555555556,\"#d8576b\"],[0.6666666666666666,\"#ed7953\"],[0.7777777777777778,\"#fb9f3a\"],[0.8888888888888888,\"#fdca26\"],[1.0,\"#f0f921\"]],\"type\":\"heatmap\"}],\"histogram2dcontour\":[{\"colorbar\":{\"outlinewidth\":0,\"ticks\":\"\"},\"colorscale\":[[0.0,\"#0d0887\"],[0.1111111111111111,\"#46039f\"],[0.2222222222222222,\"#7201a8\"],[0.3333333333333333,\"#9c179e\"],[0.4444444444444444,\"#bd3786\"],[0.5555555555555556,\"#d8576b\"],[0.6666666666666666,\"#ed7953\"],[0.7777777777777778,\"#fb9f3a\"],[0.8888888888888888,\"#fdca26\"],[1.0,\"#f0f921\"]],\"type\":\"histogram2dcontour\"}],\"histogram2d\":[{\"colorbar\":{\"outlinewidth\":0,\"ticks\":\"\"},\"colorscale\":[[0.0,\"#0d0887\"],[0.1111111111111111,\"#46039f\"],[0.2222222222222222,\"#7201a8\"],[0.3333333333333333,\"#9c179e\"],[0.4444444444444444,\"#bd3786\"],[0.5555555555555556,\"#d8576b\"],[0.6666666666666666,\"#ed7953\"],[0.7777777777777778,\"#fb9f3a\"],[0.8888888888888888,\"#fdca26\"],[1.0,\"#f0f921\"]],\"type\":\"histogram2d\"}],\"histogram\":[{\"marker\":{\"pattern\":{\"fillmode\":\"overlay\",\"size\":10,\"solidity\":0.2}},\"type\":\"histogram\"}],\"mesh3d\":[{\"colorbar\":{\"outlinewidth\":0,\"ticks\":\"\"},\"type\":\"mesh3d\"}],\"parcoords\":[{\"line\":{\"colorbar\":{\"outlinewidth\":0,\"ticks\":\"\"}},\"type\":\"parcoords\"}],\"pie\":[{\"automargin\":true,\"type\":\"pie\"}],\"scatter3d\":[{\"line\":{\"colorbar\":{\"outlinewidth\":0,\"ticks\":\"\"}},\"marker\":{\"colorbar\":{\"outlinewidth\":0,\"ticks\":\"\"}},\"type\":\"scatter3d\"}],\"scattercarpet\":[{\"marker\":{\"colorbar\":{\"outlinewidth\":0,\"ticks\":\"\"}},\"type\":\"scattercarpet\"}],\"scattergeo\":[{\"marker\":{\"colorbar\":{\"outlinewidth\":0,\"ticks\":\"\"}},\"type\":\"scattergeo\"}],\"scattergl\":[{\"marker\":{\"line\":{\"color\":\"#283442\"}},\"type\":\"scattergl\"}],\"scattermapbox\":[{\"marker\":{\"colorbar\":{\"outlinewidth\":0,\"ticks\":\"\"}},\"type\":\"scattermapbox\"}],\"scatterpolargl\":[{\"marker\":{\"colorbar\":{\"outlinewidth\":0,\"ticks\":\"\"}},\"type\":\"scatterpolargl\"}],\"scatterpolar\":[{\"marker\":{\"colorbar\":{\"outlinewidth\":0,\"ticks\":\"\"}},\"type\":\"scatterpolar\"}],\"scatter\":[{\"marker\":{\"line\":{\"color\":\"#283442\"}},\"type\":\"scatter\"}],\"scatterternary\":[{\"marker\":{\"colorbar\":{\"outlinewidth\":0,\"ticks\":\"\"}},\"type\":\"scatterternary\"}],\"surface\":[{\"colorbar\":{\"outlinewidth\":0,\"ticks\":\"\"},\"colorscale\":[[0.0,\"#0d0887\"],[0.1111111111111111,\"#46039f\"],[0.2222222222222222,\"#7201a8\"],[0.3333333333333333,\"#9c179e\"],[0.4444444444444444,\"#bd3786\"],[0.5555555555555556,\"#d8576b\"],[0.6666666666666666,\"#ed7953\"],[0.7777777777777778,\"#fb9f3a\"],[0.8888888888888888,\"#fdca26\"],[1.0,\"#f0f921\"]],\"type\":\"surface\"}],\"table\":[{\"cells\":{\"fill\":{\"color\":\"#506784\"},\"line\":{\"color\":\"rgb(17,17,17)\"}},\"header\":{\"fill\":{\"color\":\"#2a3f5f\"},\"line\":{\"color\":\"rgb(17,17,17)\"}},\"type\":\"table\"}]},\"layout\":{\"annotationdefaults\":{\"arrowcolor\":\"#f2f5fa\",\"arrowhead\":0,\"arrowwidth\":1},\"autotypenumbers\":\"strict\",\"coloraxis\":{\"colorbar\":{\"outlinewidth\":0,\"ticks\":\"\"}},\"colorscale\":{\"diverging\":[[0,\"#8e0152\"],[0.1,\"#c51b7d\"],[0.2,\"#de77ae\"],[0.3,\"#f1b6da\"],[0.4,\"#fde0ef\"],[0.5,\"#f7f7f7\"],[0.6,\"#e6f5d0\"],[0.7,\"#b8e186\"],[0.8,\"#7fbc41\"],[0.9,\"#4d9221\"],[1,\"#276419\"]],\"sequential\":[[0.0,\"#0d0887\"],[0.1111111111111111,\"#46039f\"],[0.2222222222222222,\"#7201a8\"],[0.3333333333333333,\"#9c179e\"],[0.4444444444444444,\"#bd3786\"],[0.5555555555555556,\"#d8576b\"],[0.6666666666666666,\"#ed7953\"],[0.7777777777777778,\"#fb9f3a\"],[0.8888888888888888,\"#fdca26\"],[1.0,\"#f0f921\"]],\"sequentialminus\":[[0.0,\"#0d0887\"],[0.1111111111111111,\"#46039f\"],[0.2222222222222222,\"#7201a8\"],[0.3333333333333333,\"#9c179e\"],[0.4444444444444444,\"#bd3786\"],[0.5555555555555556,\"#d8576b\"],[0.6666666666666666,\"#ed7953\"],[0.7777777777777778,\"#fb9f3a\"],[0.8888888888888888,\"#fdca26\"],[1.0,\"#f0f921\"]]},\"colorway\":[\"#636efa\",\"#EF553B\",\"#00cc96\",\"#ab63fa\",\"#FFA15A\",\"#19d3f3\",\"#FF6692\",\"#B6E880\",\"#FF97FF\",\"#FECB52\"],\"font\":{\"color\":\"#f2f5fa\"},\"geo\":{\"bgcolor\":\"rgb(17,17,17)\",\"lakecolor\":\"rgb(17,17,17)\",\"landcolor\":\"rgb(17,17,17)\",\"showlakes\":true,\"showland\":true,\"subunitcolor\":\"#506784\"},\"hoverlabel\":{\"align\":\"left\"},\"hovermode\":\"closest\",\"mapbox\":{\"style\":\"dark\"},\"paper_bgcolor\":\"rgb(17,17,17)\",\"plot_bgcolor\":\"rgb(17,17,17)\",\"polar\":{\"angularaxis\":{\"gridcolor\":\"#506784\",\"linecolor\":\"#506784\",\"ticks\":\"\"},\"bgcolor\":\"rgb(17,17,17)\",\"radialaxis\":{\"gridcolor\":\"#506784\",\"linecolor\":\"#506784\",\"ticks\":\"\"}},\"scene\":{\"xaxis\":{\"backgroundcolor\":\"rgb(17,17,17)\",\"gridcolor\":\"#506784\",\"gridwidth\":2,\"linecolor\":\"#506784\",\"showbackground\":true,\"ticks\":\"\",\"zerolinecolor\":\"#C8D4E3\"},\"yaxis\":{\"backgroundcolor\":\"rgb(17,17,17)\",\"gridcolor\":\"#506784\",\"gridwidth\":2,\"linecolor\":\"#506784\",\"showbackground\":true,\"ticks\":\"\",\"zerolinecolor\":\"#C8D4E3\"},\"zaxis\":{\"backgroundcolor\":\"rgb(17,17,17)\",\"gridcolor\":\"#506784\",\"gridwidth\":2,\"linecolor\":\"#506784\",\"showbackground\":true,\"ticks\":\"\",\"zerolinecolor\":\"#C8D4E3\"}},\"shapedefaults\":{\"line\":{\"color\":\"#f2f5fa\"}},\"sliderdefaults\":{\"bgcolor\":\"#C8D4E3\",\"bordercolor\":\"rgb(17,17,17)\",\"borderwidth\":1,\"tickwidth\":0},\"ternary\":{\"aaxis\":{\"gridcolor\":\"#506784\",\"linecolor\":\"#506784\",\"ticks\":\"\"},\"baxis\":{\"gridcolor\":\"#506784\",\"linecolor\":\"#506784\",\"ticks\":\"\"},\"bgcolor\":\"rgb(17,17,17)\",\"caxis\":{\"gridcolor\":\"#506784\",\"linecolor\":\"#506784\",\"ticks\":\"\"}},\"title\":{\"x\":0.05},\"updatemenudefaults\":{\"bgcolor\":\"#506784\",\"borderwidth\":0},\"xaxis\":{\"automargin\":true,\"gridcolor\":\"#283442\",\"linecolor\":\"#506784\",\"ticks\":\"\",\"title\":{\"standoff\":15},\"zerolinecolor\":\"#283442\",\"zerolinewidth\":2},\"yaxis\":{\"automargin\":true,\"gridcolor\":\"#283442\",\"linecolor\":\"#506784\",\"ticks\":\"\",\"title\":{\"standoff\":15},\"zerolinecolor\":\"#283442\",\"zerolinewidth\":2}}},\"xaxis\":{\"anchor\":\"y\",\"domain\":[0.0,1.0],\"scaleanchor\":\"y\",\"constrain\":\"domain\",\"title\":{\"text\":\"Features\"}},\"yaxis\":{\"anchor\":\"x\",\"domain\":[0.0,1.0],\"autorange\":\"reversed\",\"constrain\":\"domain\",\"title\":{\"text\":\"Features\"}},\"coloraxis\":{\"colorbar\":{\"title\":{\"text\":\"Correlation\"}},\"colorscale\":[[0.0,\"#440154\"],[0.1111111111111111,\"#482878\"],[0.2222222222222222,\"#3e4989\"],[0.3333333333333333,\"#31688e\"],[0.4444444444444444,\"#26828e\"],[0.5555555555555556,\"#1f9e89\"],[0.6666666666666666,\"#35b779\"],[0.7777777777777778,\"#6ece58\"],[0.8888888888888888,\"#b5de2b\"],[1.0,\"#fde725\"]],\"cmid\":0,\"cmin\":-1,\"cmax\":1},\"title\":{\"text\":\"Correlation Matrix\"},\"height\":900,\"width\":900},                        {\"responsive\": true}                    ).then(function(){\n",
       "                            \n",
       "var gd = document.getElementById('5d53e6eb-57a7-443e-819b-acdeef4e11b8');\n",
       "var x = new MutationObserver(function (mutations, observer) {{\n",
       "        var display = window.getComputedStyle(gd).display;\n",
       "        if (!display || display === 'none') {{\n",
       "            console.log([gd, 'removed!']);\n",
       "            Plotly.purge(gd);\n",
       "            observer.disconnect();\n",
       "        }}\n",
       "}});\n",
       "\n",
       "// Listen for the removal of the full notebook cells\n",
       "var notebookContainer = gd.closest('#notebook-container');\n",
       "if (notebookContainer) {{\n",
       "    x.observe(notebookContainer, {childList: true});\n",
       "}}\n",
       "\n",
       "// Listen for the clearing of the current output cell\n",
       "var outputEl = gd.closest('.output');\n",
       "if (outputEl) {{\n",
       "    x.observe(outputEl, {childList: true});\n",
       "}}\n",
       "\n",
       "                        })                };                });            </script>        </div>"
      ]
     },
     "metadata": {},
     "output_type": "display_data"
    }
   ],
   "execution_count": 604
  },
  {
   "metadata": {
    "ExecuteTime": {
     "end_time": "2024-12-04T08:50:34.546645Z",
     "start_time": "2024-12-04T08:48:42.751031Z"
    }
   },
   "cell_type": "code",
   "source": [
    "# Random and Grid Search\n",
    "from sklearn.model_selection import RandomizedSearchCV\n",
    "\n",
    "# Number of trees in random forest\n",
    "n_estimators = [int(x) for x in np.linspace(start = 200, stop = 2000, num = 10)]\n",
    "# Number of features to consider at every split\n",
    "max_features = ['auto', 'sqrt']\n",
    "# Maximum number of levels in tree\n",
    "max_depth = [int(x) for x in np.linspace(10, 110, num = 11)]\n",
    "max_depth.append(None)\n",
    "# Minimum number of samples required to split a node\n",
    "min_samples_split = [2, 5, 10]\n",
    "# Minimum number of samples required at each leaf node\n",
    "min_samples_leaf = [1, 2, 4]\n",
    "# Method of selecting samples for training each tree\n",
    "bootstrap = [True, False]\n",
    "# Create the random grid\n",
    "random_grid = {\n",
    "    'n_estimators': n_estimators,\n",
    "    'max_features': max_features,\n",
    "    'max_depth': max_depth,\n",
    "    'min_samples_split': min_samples_split,\n",
    "    'min_samples_leaf': min_samples_leaf,\n",
    "    'bootstrap': bootstrap\n",
    "}\n",
    "\n",
    "# Use the random grid to search for best hyperparameters\n",
    "# First create the base model to tune\n",
    "rf = RandomForestClassifier()\n",
    "# Random search of parameters, using 3 fold cross validation,\n",
    "# search across 100 different combinations, and use all available cores\n",
    "rf_random = RandomizedSearchCV(estimator = rf, param_distributions = random_grid, n_iter = 100, cv = 3, verbose=2, random_state=42, n_jobs = -1, scoring='accuracy')\n",
    "# Fit the random search model\n",
    "rf_random.fit(X_train, y_train)\n",
    "\n"
   ],
   "id": "5e37102b37260ab7",
   "outputs": [
    {
     "name": "stdout",
     "output_type": "stream",
     "text": [
      "Fitting 3 folds for each of 100 candidates, totalling 300 fits\n"
     ]
    },
    {
     "name": "stderr",
     "output_type": "stream",
     "text": [
      "C:\\Users\\firat\\anaconda3\\Lib\\site-packages\\sklearn\\ensemble\\_forest.py:424: FutureWarning:\n",
      "\n",
      "`max_features='auto'` has been deprecated in 1.1 and will be removed in 1.3. To keep the past behaviour, explicitly set `max_features='sqrt'` or remove this parameter as it is also the default value for RandomForestClassifiers and ExtraTreesClassifiers.\n",
      "\n"
     ]
    },
    {
     "data": {
      "text/plain": [
       "RandomizedSearchCV(cv=3, estimator=RandomForestClassifier(), n_iter=100,\n",
       "                   n_jobs=-1,\n",
       "                   param_distributions={'bootstrap': [True, False],\n",
       "                                        'max_depth': [10, 20, 30, 40, 50, 60,\n",
       "                                                      70, 80, 90, 100, 110,\n",
       "                                                      None],\n",
       "                                        'max_features': ['auto', 'sqrt'],\n",
       "                                        'min_samples_leaf': [1, 2, 4],\n",
       "                                        'min_samples_split': [2, 5, 10],\n",
       "                                        'n_estimators': [200, 400, 600, 800,\n",
       "                                                         1000, 1200, 1400, 1600,\n",
       "                                                         1800, 2000]},\n",
       "                   random_state=42, scoring='accuracy', verbose=2)"
      ],
      "text/html": [
       "<style>#sk-container-id-18 {color: black;background-color: white;}#sk-container-id-18 pre{padding: 0;}#sk-container-id-18 div.sk-toggleable {background-color: white;}#sk-container-id-18 label.sk-toggleable__label {cursor: pointer;display: block;width: 100%;margin-bottom: 0;padding: 0.3em;box-sizing: border-box;text-align: center;}#sk-container-id-18 label.sk-toggleable__label-arrow:before {content: \"▸\";float: left;margin-right: 0.25em;color: #696969;}#sk-container-id-18 label.sk-toggleable__label-arrow:hover:before {color: black;}#sk-container-id-18 div.sk-estimator:hover label.sk-toggleable__label-arrow:before {color: black;}#sk-container-id-18 div.sk-toggleable__content {max-height: 0;max-width: 0;overflow: hidden;text-align: left;background-color: #f0f8ff;}#sk-container-id-18 div.sk-toggleable__content pre {margin: 0.2em;color: black;border-radius: 0.25em;background-color: #f0f8ff;}#sk-container-id-18 input.sk-toggleable__control:checked~div.sk-toggleable__content {max-height: 200px;max-width: 100%;overflow: auto;}#sk-container-id-18 input.sk-toggleable__control:checked~label.sk-toggleable__label-arrow:before {content: \"▾\";}#sk-container-id-18 div.sk-estimator input.sk-toggleable__control:checked~label.sk-toggleable__label {background-color: #d4ebff;}#sk-container-id-18 div.sk-label input.sk-toggleable__control:checked~label.sk-toggleable__label {background-color: #d4ebff;}#sk-container-id-18 input.sk-hidden--visually {border: 0;clip: rect(1px 1px 1px 1px);clip: rect(1px, 1px, 1px, 1px);height: 1px;margin: -1px;overflow: hidden;padding: 0;position: absolute;width: 1px;}#sk-container-id-18 div.sk-estimator {font-family: monospace;background-color: #f0f8ff;border: 1px dotted black;border-radius: 0.25em;box-sizing: border-box;margin-bottom: 0.5em;}#sk-container-id-18 div.sk-estimator:hover {background-color: #d4ebff;}#sk-container-id-18 div.sk-parallel-item::after {content: \"\";width: 100%;border-bottom: 1px solid gray;flex-grow: 1;}#sk-container-id-18 div.sk-label:hover label.sk-toggleable__label {background-color: #d4ebff;}#sk-container-id-18 div.sk-serial::before {content: \"\";position: absolute;border-left: 1px solid gray;box-sizing: border-box;top: 0;bottom: 0;left: 50%;z-index: 0;}#sk-container-id-18 div.sk-serial {display: flex;flex-direction: column;align-items: center;background-color: white;padding-right: 0.2em;padding-left: 0.2em;position: relative;}#sk-container-id-18 div.sk-item {position: relative;z-index: 1;}#sk-container-id-18 div.sk-parallel {display: flex;align-items: stretch;justify-content: center;background-color: white;position: relative;}#sk-container-id-18 div.sk-item::before, #sk-container-id-18 div.sk-parallel-item::before {content: \"\";position: absolute;border-left: 1px solid gray;box-sizing: border-box;top: 0;bottom: 0;left: 50%;z-index: -1;}#sk-container-id-18 div.sk-parallel-item {display: flex;flex-direction: column;z-index: 1;position: relative;background-color: white;}#sk-container-id-18 div.sk-parallel-item:first-child::after {align-self: flex-end;width: 50%;}#sk-container-id-18 div.sk-parallel-item:last-child::after {align-self: flex-start;width: 50%;}#sk-container-id-18 div.sk-parallel-item:only-child::after {width: 0;}#sk-container-id-18 div.sk-dashed-wrapped {border: 1px dashed gray;margin: 0 0.4em 0.5em 0.4em;box-sizing: border-box;padding-bottom: 0.4em;background-color: white;}#sk-container-id-18 div.sk-label label {font-family: monospace;font-weight: bold;display: inline-block;line-height: 1.2em;}#sk-container-id-18 div.sk-label-container {text-align: center;}#sk-container-id-18 div.sk-container {/* jupyter's `normalize.less` sets `[hidden] { display: none; }` but bootstrap.min.css set `[hidden] { display: none !important; }` so we also need the `!important` here to be able to override the default hidden behavior on the sphinx rendered scikit-learn.org. See: https://github.com/scikit-learn/scikit-learn/issues/21755 */display: inline-block !important;position: relative;}#sk-container-id-18 div.sk-text-repr-fallback {display: none;}</style><div id=\"sk-container-id-18\" class=\"sk-top-container\"><div class=\"sk-text-repr-fallback\"><pre>RandomizedSearchCV(cv=3, estimator=RandomForestClassifier(), n_iter=100,\n",
       "                   n_jobs=-1,\n",
       "                   param_distributions={&#x27;bootstrap&#x27;: [True, False],\n",
       "                                        &#x27;max_depth&#x27;: [10, 20, 30, 40, 50, 60,\n",
       "                                                      70, 80, 90, 100, 110,\n",
       "                                                      None],\n",
       "                                        &#x27;max_features&#x27;: [&#x27;auto&#x27;, &#x27;sqrt&#x27;],\n",
       "                                        &#x27;min_samples_leaf&#x27;: [1, 2, 4],\n",
       "                                        &#x27;min_samples_split&#x27;: [2, 5, 10],\n",
       "                                        &#x27;n_estimators&#x27;: [200, 400, 600, 800,\n",
       "                                                         1000, 1200, 1400, 1600,\n",
       "                                                         1800, 2000]},\n",
       "                   random_state=42, scoring=&#x27;accuracy&#x27;, verbose=2)</pre><b>In a Jupyter environment, please rerun this cell to show the HTML representation or trust the notebook. <br />On GitHub, the HTML representation is unable to render, please try loading this page with nbviewer.org.</b></div><div class=\"sk-container\" hidden><div class=\"sk-item sk-dashed-wrapped\"><div class=\"sk-label-container\"><div class=\"sk-label sk-toggleable\"><input class=\"sk-toggleable__control sk-hidden--visually\" id=\"sk-estimator-id-52\" type=\"checkbox\" ><label for=\"sk-estimator-id-52\" class=\"sk-toggleable__label sk-toggleable__label-arrow\">RandomizedSearchCV</label><div class=\"sk-toggleable__content\"><pre>RandomizedSearchCV(cv=3, estimator=RandomForestClassifier(), n_iter=100,\n",
       "                   n_jobs=-1,\n",
       "                   param_distributions={&#x27;bootstrap&#x27;: [True, False],\n",
       "                                        &#x27;max_depth&#x27;: [10, 20, 30, 40, 50, 60,\n",
       "                                                      70, 80, 90, 100, 110,\n",
       "                                                      None],\n",
       "                                        &#x27;max_features&#x27;: [&#x27;auto&#x27;, &#x27;sqrt&#x27;],\n",
       "                                        &#x27;min_samples_leaf&#x27;: [1, 2, 4],\n",
       "                                        &#x27;min_samples_split&#x27;: [2, 5, 10],\n",
       "                                        &#x27;n_estimators&#x27;: [200, 400, 600, 800,\n",
       "                                                         1000, 1200, 1400, 1600,\n",
       "                                                         1800, 2000]},\n",
       "                   random_state=42, scoring=&#x27;accuracy&#x27;, verbose=2)</pre></div></div></div><div class=\"sk-parallel\"><div class=\"sk-parallel-item\"><div class=\"sk-item\"><div class=\"sk-label-container\"><div class=\"sk-label sk-toggleable\"><input class=\"sk-toggleable__control sk-hidden--visually\" id=\"sk-estimator-id-53\" type=\"checkbox\" ><label for=\"sk-estimator-id-53\" class=\"sk-toggleable__label sk-toggleable__label-arrow\">estimator: RandomForestClassifier</label><div class=\"sk-toggleable__content\"><pre>RandomForestClassifier()</pre></div></div></div><div class=\"sk-serial\"><div class=\"sk-item\"><div class=\"sk-estimator sk-toggleable\"><input class=\"sk-toggleable__control sk-hidden--visually\" id=\"sk-estimator-id-54\" type=\"checkbox\" ><label for=\"sk-estimator-id-54\" class=\"sk-toggleable__label sk-toggleable__label-arrow\">RandomForestClassifier</label><div class=\"sk-toggleable__content\"><pre>RandomForestClassifier()</pre></div></div></div></div></div></div></div></div></div></div>"
      ]
     },
     "execution_count": 610,
     "metadata": {},
     "output_type": "execute_result"
    }
   ],
   "execution_count": 610
  },
  {
   "metadata": {
    "ExecuteTime": {
     "end_time": "2024-12-04T08:48:18.088916Z",
     "start_time": "2024-12-04T08:48:18.076270Z"
    }
   },
   "cell_type": "code",
   "source": "rf_random.best_params_\n",
   "id": "32ac6fbf8de4bfea",
   "outputs": [
    {
     "data": {
      "text/plain": [
       "{'n_estimators': 600,\n",
       " 'min_samples_split': 10,\n",
       " 'min_samples_leaf': 2,\n",
       " 'max_features': 'sqrt',\n",
       " 'max_depth': 60,\n",
       " 'bootstrap': True}"
      ]
     },
     "execution_count": 606,
     "metadata": {},
     "output_type": "execute_result"
    }
   ],
   "execution_count": 606
  },
  {
   "metadata": {
    "ExecuteTime": {
     "end_time": "2024-12-04T08:51:09.228234Z",
     "start_time": "2024-12-04T08:51:08.315403Z"
    }
   },
   "cell_type": "code",
   "source": [
    "from sklearn.metrics import classification_report\n",
    "\n",
    "model = RandomForestClassifier(**rf_random.best_params_)\n",
    "\n",
    "model.fit(X_train, y_train)\n",
    "\n",
    "y_pred = model.predict(X_test)\n",
    "\n",
    "mt.accuracy_score(y_test, y_pred)\n",
    "\n"
   ],
   "id": "d173969ee26954aa",
   "outputs": [
    {
     "name": "stderr",
     "output_type": "stream",
     "text": [
      "C:\\Users\\firat\\anaconda3\\Lib\\site-packages\\sklearn\\ensemble\\_forest.py:424: FutureWarning:\n",
      "\n",
      "`max_features='auto'` has been deprecated in 1.1 and will be removed in 1.3. To keep the past behaviour, explicitly set `max_features='sqrt'` or remove this parameter as it is also the default value for RandomForestClassifiers and ExtraTreesClassifiers.\n",
      "\n"
     ]
    },
    {
     "data": {
      "text/plain": [
       "0.7708830548926014"
      ]
     },
     "execution_count": 611,
     "metadata": {},
     "output_type": "execute_result"
    }
   ],
   "execution_count": 611
  },
  {
   "metadata": {
    "ExecuteTime": {
     "end_time": "2024-12-04T08:51:16.684480Z",
     "start_time": "2024-12-04T08:51:16.663241Z"
    }
   },
   "cell_type": "code",
   "source": "print(classification_report(y_test, y_pred))",
   "id": "24f1672e9cc9c34",
   "outputs": [
    {
     "name": "stdout",
     "output_type": "stream",
     "text": [
      "              precision    recall  f1-score   support\n",
      "\n",
      "       0-600       1.00      1.00      1.00       130\n",
      "   1101-1300       0.27      0.36      0.31        28\n",
      "   1301-1400       0.64      0.28      0.39        25\n",
      "   1401-1500       0.50      0.29      0.36        14\n",
      "   1501-1600       0.00      0.00      0.00        21\n",
      "   1601-1700       0.00      0.00      0.00        25\n",
      "       1700+       0.63      1.00      0.78        80\n",
      "    601-1100       0.86      0.96      0.91        96\n",
      "\n",
      "    accuracy                           0.77       419\n",
      "   macro avg       0.49      0.49      0.47       419\n",
      "weighted avg       0.70      0.77      0.72       419\n",
      "\n"
     ]
    },
    {
     "name": "stderr",
     "output_type": "stream",
     "text": [
      "C:\\Users\\firat\\anaconda3\\Lib\\site-packages\\sklearn\\metrics\\_classification.py:1344: UndefinedMetricWarning:\n",
      "\n",
      "Precision and F-score are ill-defined and being set to 0.0 in labels with no predicted samples. Use `zero_division` parameter to control this behavior.\n",
      "\n",
      "C:\\Users\\firat\\anaconda3\\Lib\\site-packages\\sklearn\\metrics\\_classification.py:1344: UndefinedMetricWarning:\n",
      "\n",
      "Precision and F-score are ill-defined and being set to 0.0 in labels with no predicted samples. Use `zero_division` parameter to control this behavior.\n",
      "\n",
      "C:\\Users\\firat\\anaconda3\\Lib\\site-packages\\sklearn\\metrics\\_classification.py:1344: UndefinedMetricWarning:\n",
      "\n",
      "Precision and F-score are ill-defined and being set to 0.0 in labels with no predicted samples. Use `zero_division` parameter to control this behavior.\n",
      "\n"
     ]
    }
   ],
   "execution_count": 612
  },
  {
   "metadata": {
    "ExecuteTime": {
     "end_time": "2024-12-04T08:48:26.781513Z",
     "start_time": "2024-12-04T08:48:26.309216Z"
    }
   },
   "cell_type": "code",
   "source": [
    "# Confusion Matrix\n",
    "from sklearn.metrics import confusion_matrix\n",
    "import seaborn as sns\n",
    "\n",
    "cm = confusion_matrix(y_test, y_pred)\n",
    "plt.figure(figsize=(10, 6))\n",
    "sns.heatmap(cm, annot=True, fmt='d', cmap='viridis', xticklabels=sorted(y_test.unique()), yticklabels=sorted(y_test.unique()))\n",
    "plt.xlabel('Predicted')\n",
    "plt.ylabel('Actual')\n",
    "plt.title('Confusion Matrix')\n",
    "plt.show()\n"
   ],
   "id": "797f5ce822901f7b",
   "outputs": [
    {
     "data": {
      "text/plain": [
       "<Figure size 1000x600 with 2 Axes>"
      ],
      "image/png": "[encoded data removed]"
     },
     "metadata": {},
     "output_type": "display_data"
    }
   ],
   "execution_count": 609
  }
 ],
 "metadata": {
  "kernelspec": {
   "display_name": "Python 3",
   "language": "python",
   "name": "python3"
  },
  "language_info": {
   "codemirror_mode": {
    "name": "ipython",
    "version": 2
   },
   "file_extension": ".py",
   "mimetype": "text/x-python",
   "name": "python",
   "nbconvert_exporter": "python",
   "pygments_lexer": "ipython2",
   "version": "2.7.6"
  }
 },
 "nbformat": 4,
 "nbformat_minor": 5
}
